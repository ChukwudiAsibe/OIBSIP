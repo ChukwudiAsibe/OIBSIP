{
 "cells": [
  {
   "cell_type": "code",
   "execution_count": 1,
   "id": "6df5e04d",
   "metadata": {
    "_cell_guid": "b1076dfc-b9ad-4769-8c92-a6c4dae69d19",
    "_uuid": "8f2839f25d086af736a60e9eeb907d3b93b6e0e5",
    "execution": {
     "iopub.execute_input": "2024-03-12T11:24:01.869352Z",
     "iopub.status.busy": "2024-03-12T11:24:01.868932Z",
     "iopub.status.idle": "2024-03-12T11:24:02.966696Z",
     "shell.execute_reply": "2024-03-12T11:24:02.965387Z"
    },
    "papermill": {
     "duration": 1.110614,
     "end_time": "2024-03-12T11:24:02.969557",
     "exception": false,
     "start_time": "2024-03-12T11:24:01.858943",
     "status": "completed"
    },
    "tags": []
   },
   "outputs": [
    {
     "name": "stdout",
     "output_type": "stream",
     "text": [
      "/kaggle/input/creditcardfraud/creditcard.csv\n"
     ]
    }
   ],
   "source": [
    "# This Python 3 environment comes with many helpful analytics libraries installed\n",
    "# It is defined by the kaggle/python Docker image: https://github.com/kaggle/docker-python\n",
    "# For example, here's several helpful packages to load\n",
    "\n",
    "import numpy as np # linear algebra\n",
    "import pandas as pd # data processing, CSV file I/O (e.g. pd.read_csv)\n",
    "\n",
    "# Input data files are available in the read-only \"../input/\" directory\n",
    "# For example, running this (by clicking run or pressing Shift+Enter) will list all files under the input directory\n",
    "\n",
    "import os\n",
    "for dirname, _, filenames in os.walk('/kaggle/input'):\n",
    "    for filename in filenames:\n",
    "        print(os.path.join(dirname, filename))\n",
    "\n",
    "# You can write up to 20GB to the current directory (/kaggle/working/) that gets preserved as output when you create a version using \"Save & Run All\" \n",
    "# You can also write temporary files to /kaggle/temp/, but they won't be saved outside of the current session"
   ]
  },
  {
   "cell_type": "code",
   "execution_count": 2,
   "id": "c1eaaf3f",
   "metadata": {
    "execution": {
     "iopub.execute_input": "2024-03-12T11:24:02.987864Z",
     "iopub.status.busy": "2024-03-12T11:24:02.986239Z",
     "iopub.status.idle": "2024-03-12T11:24:05.606216Z",
     "shell.execute_reply": "2024-03-12T11:24:05.605128Z"
    },
    "papermill": {
     "duration": 2.631833,
     "end_time": "2024-03-12T11:24:05.609079",
     "exception": false,
     "start_time": "2024-03-12T11:24:02.977246",
     "status": "completed"
    },
    "tags": []
   },
   "outputs": [],
   "source": [
    "import matplotlib.pyplot as plt\n",
    "import seaborn as sns\n",
    "\n",
    "from sklearn.model_selection import train_test_split, cross_val_score, cross_validate\n",
    "from sklearn.metrics import accuracy_score, confusion_matrix, average_precision_score\n",
    "from sklearn.ensemble import RandomForestClassifier\n",
    "from xgboost import XGBClassifier\n",
    "\n",
    "from sklearn.pipeline import Pipeline\n",
    "from sklearn.impute import SimpleImputer\n"
   ]
  },
  {
   "cell_type": "code",
   "execution_count": 3,
   "id": "e3403fc1",
   "metadata": {
    "execution": {
     "iopub.execute_input": "2024-03-12T11:24:05.625943Z",
     "iopub.status.busy": "2024-03-12T11:24:05.625507Z",
     "iopub.status.idle": "2024-03-12T11:24:05.630785Z",
     "shell.execute_reply": "2024-03-12T11:24:05.629582Z"
    },
    "papermill": {
     "duration": 0.016585,
     "end_time": "2024-03-12T11:24:05.633330",
     "exception": false,
     "start_time": "2024-03-12T11:24:05.616745",
     "status": "completed"
    },
    "tags": []
   },
   "outputs": [],
   "source": [
    "pd.set_option('display.max_columns', None)"
   ]
  },
  {
   "cell_type": "code",
   "execution_count": 4,
   "id": "117d19fe",
   "metadata": {
    "execution": {
     "iopub.execute_input": "2024-03-12T11:24:05.650693Z",
     "iopub.status.busy": "2024-03-12T11:24:05.650272Z",
     "iopub.status.idle": "2024-03-12T11:24:10.380271Z",
     "shell.execute_reply": "2024-03-12T11:24:10.379015Z"
    },
    "papermill": {
     "duration": 4.742136,
     "end_time": "2024-03-12T11:24:10.383484",
     "exception": false,
     "start_time": "2024-03-12T11:24:05.641348",
     "status": "completed"
    },
    "tags": []
   },
   "outputs": [],
   "source": [
    "cards = pd.read_csv('/kaggle/input/creditcardfraud/creditcard.csv')"
   ]
  },
  {
   "cell_type": "code",
   "execution_count": 5,
   "id": "74606b6d",
   "metadata": {
    "execution": {
     "iopub.execute_input": "2024-03-12T11:24:10.401491Z",
     "iopub.status.busy": "2024-03-12T11:24:10.401066Z",
     "iopub.status.idle": "2024-03-12T11:24:10.446973Z",
     "shell.execute_reply": "2024-03-12T11:24:10.445500Z"
    },
    "papermill": {
     "duration": 0.058301,
     "end_time": "2024-03-12T11:24:10.449685",
     "exception": false,
     "start_time": "2024-03-12T11:24:10.391384",
     "status": "completed"
    },
    "tags": []
   },
   "outputs": [
    {
     "data": {
      "text/html": [
       "<div>\n",
       "<style scoped>\n",
       "    .dataframe tbody tr th:only-of-type {\n",
       "        vertical-align: middle;\n",
       "    }\n",
       "\n",
       "    .dataframe tbody tr th {\n",
       "        vertical-align: top;\n",
       "    }\n",
       "\n",
       "    .dataframe thead th {\n",
       "        text-align: right;\n",
       "    }\n",
       "</style>\n",
       "<table border=\"1\" class=\"dataframe\">\n",
       "  <thead>\n",
       "    <tr style=\"text-align: right;\">\n",
       "      <th></th>\n",
       "      <th>Time</th>\n",
       "      <th>V1</th>\n",
       "      <th>V2</th>\n",
       "      <th>V3</th>\n",
       "      <th>V4</th>\n",
       "      <th>V5</th>\n",
       "      <th>V6</th>\n",
       "      <th>V7</th>\n",
       "      <th>V8</th>\n",
       "      <th>V9</th>\n",
       "      <th>V10</th>\n",
       "      <th>V11</th>\n",
       "      <th>V12</th>\n",
       "      <th>V13</th>\n",
       "      <th>V14</th>\n",
       "      <th>V15</th>\n",
       "      <th>V16</th>\n",
       "      <th>V17</th>\n",
       "      <th>V18</th>\n",
       "      <th>V19</th>\n",
       "      <th>V20</th>\n",
       "      <th>V21</th>\n",
       "      <th>V22</th>\n",
       "      <th>V23</th>\n",
       "      <th>V24</th>\n",
       "      <th>V25</th>\n",
       "      <th>V26</th>\n",
       "      <th>V27</th>\n",
       "      <th>V28</th>\n",
       "      <th>Amount</th>\n",
       "      <th>Class</th>\n",
       "    </tr>\n",
       "  </thead>\n",
       "  <tbody>\n",
       "    <tr>\n",
       "      <th>0</th>\n",
       "      <td>0.0</td>\n",
       "      <td>-1.359807</td>\n",
       "      <td>-0.072781</td>\n",
       "      <td>2.536347</td>\n",
       "      <td>1.378155</td>\n",
       "      <td>-0.338321</td>\n",
       "      <td>0.462388</td>\n",
       "      <td>0.239599</td>\n",
       "      <td>0.098698</td>\n",
       "      <td>0.363787</td>\n",
       "      <td>0.090794</td>\n",
       "      <td>-0.551600</td>\n",
       "      <td>-0.617801</td>\n",
       "      <td>-0.991390</td>\n",
       "      <td>-0.311169</td>\n",
       "      <td>1.468177</td>\n",
       "      <td>-0.470401</td>\n",
       "      <td>0.207971</td>\n",
       "      <td>0.025791</td>\n",
       "      <td>0.403993</td>\n",
       "      <td>0.251412</td>\n",
       "      <td>-0.018307</td>\n",
       "      <td>0.277838</td>\n",
       "      <td>-0.110474</td>\n",
       "      <td>0.066928</td>\n",
       "      <td>0.128539</td>\n",
       "      <td>-0.189115</td>\n",
       "      <td>0.133558</td>\n",
       "      <td>-0.021053</td>\n",
       "      <td>149.62</td>\n",
       "      <td>0</td>\n",
       "    </tr>\n",
       "    <tr>\n",
       "      <th>1</th>\n",
       "      <td>0.0</td>\n",
       "      <td>1.191857</td>\n",
       "      <td>0.266151</td>\n",
       "      <td>0.166480</td>\n",
       "      <td>0.448154</td>\n",
       "      <td>0.060018</td>\n",
       "      <td>-0.082361</td>\n",
       "      <td>-0.078803</td>\n",
       "      <td>0.085102</td>\n",
       "      <td>-0.255425</td>\n",
       "      <td>-0.166974</td>\n",
       "      <td>1.612727</td>\n",
       "      <td>1.065235</td>\n",
       "      <td>0.489095</td>\n",
       "      <td>-0.143772</td>\n",
       "      <td>0.635558</td>\n",
       "      <td>0.463917</td>\n",
       "      <td>-0.114805</td>\n",
       "      <td>-0.183361</td>\n",
       "      <td>-0.145783</td>\n",
       "      <td>-0.069083</td>\n",
       "      <td>-0.225775</td>\n",
       "      <td>-0.638672</td>\n",
       "      <td>0.101288</td>\n",
       "      <td>-0.339846</td>\n",
       "      <td>0.167170</td>\n",
       "      <td>0.125895</td>\n",
       "      <td>-0.008983</td>\n",
       "      <td>0.014724</td>\n",
       "      <td>2.69</td>\n",
       "      <td>0</td>\n",
       "    </tr>\n",
       "    <tr>\n",
       "      <th>2</th>\n",
       "      <td>1.0</td>\n",
       "      <td>-1.358354</td>\n",
       "      <td>-1.340163</td>\n",
       "      <td>1.773209</td>\n",
       "      <td>0.379780</td>\n",
       "      <td>-0.503198</td>\n",
       "      <td>1.800499</td>\n",
       "      <td>0.791461</td>\n",
       "      <td>0.247676</td>\n",
       "      <td>-1.514654</td>\n",
       "      <td>0.207643</td>\n",
       "      <td>0.624501</td>\n",
       "      <td>0.066084</td>\n",
       "      <td>0.717293</td>\n",
       "      <td>-0.165946</td>\n",
       "      <td>2.345865</td>\n",
       "      <td>-2.890083</td>\n",
       "      <td>1.109969</td>\n",
       "      <td>-0.121359</td>\n",
       "      <td>-2.261857</td>\n",
       "      <td>0.524980</td>\n",
       "      <td>0.247998</td>\n",
       "      <td>0.771679</td>\n",
       "      <td>0.909412</td>\n",
       "      <td>-0.689281</td>\n",
       "      <td>-0.327642</td>\n",
       "      <td>-0.139097</td>\n",
       "      <td>-0.055353</td>\n",
       "      <td>-0.059752</td>\n",
       "      <td>378.66</td>\n",
       "      <td>0</td>\n",
       "    </tr>\n",
       "    <tr>\n",
       "      <th>3</th>\n",
       "      <td>1.0</td>\n",
       "      <td>-0.966272</td>\n",
       "      <td>-0.185226</td>\n",
       "      <td>1.792993</td>\n",
       "      <td>-0.863291</td>\n",
       "      <td>-0.010309</td>\n",
       "      <td>1.247203</td>\n",
       "      <td>0.237609</td>\n",
       "      <td>0.377436</td>\n",
       "      <td>-1.387024</td>\n",
       "      <td>-0.054952</td>\n",
       "      <td>-0.226487</td>\n",
       "      <td>0.178228</td>\n",
       "      <td>0.507757</td>\n",
       "      <td>-0.287924</td>\n",
       "      <td>-0.631418</td>\n",
       "      <td>-1.059647</td>\n",
       "      <td>-0.684093</td>\n",
       "      <td>1.965775</td>\n",
       "      <td>-1.232622</td>\n",
       "      <td>-0.208038</td>\n",
       "      <td>-0.108300</td>\n",
       "      <td>0.005274</td>\n",
       "      <td>-0.190321</td>\n",
       "      <td>-1.175575</td>\n",
       "      <td>0.647376</td>\n",
       "      <td>-0.221929</td>\n",
       "      <td>0.062723</td>\n",
       "      <td>0.061458</td>\n",
       "      <td>123.50</td>\n",
       "      <td>0</td>\n",
       "    </tr>\n",
       "    <tr>\n",
       "      <th>4</th>\n",
       "      <td>2.0</td>\n",
       "      <td>-1.158233</td>\n",
       "      <td>0.877737</td>\n",
       "      <td>1.548718</td>\n",
       "      <td>0.403034</td>\n",
       "      <td>-0.407193</td>\n",
       "      <td>0.095921</td>\n",
       "      <td>0.592941</td>\n",
       "      <td>-0.270533</td>\n",
       "      <td>0.817739</td>\n",
       "      <td>0.753074</td>\n",
       "      <td>-0.822843</td>\n",
       "      <td>0.538196</td>\n",
       "      <td>1.345852</td>\n",
       "      <td>-1.119670</td>\n",
       "      <td>0.175121</td>\n",
       "      <td>-0.451449</td>\n",
       "      <td>-0.237033</td>\n",
       "      <td>-0.038195</td>\n",
       "      <td>0.803487</td>\n",
       "      <td>0.408542</td>\n",
       "      <td>-0.009431</td>\n",
       "      <td>0.798278</td>\n",
       "      <td>-0.137458</td>\n",
       "      <td>0.141267</td>\n",
       "      <td>-0.206010</td>\n",
       "      <td>0.502292</td>\n",
       "      <td>0.219422</td>\n",
       "      <td>0.215153</td>\n",
       "      <td>69.99</td>\n",
       "      <td>0</td>\n",
       "    </tr>\n",
       "  </tbody>\n",
       "</table>\n",
       "</div>"
      ],
      "text/plain": [
       "   Time        V1        V2        V3        V4        V5        V6        V7  \\\n",
       "0   0.0 -1.359807 -0.072781  2.536347  1.378155 -0.338321  0.462388  0.239599   \n",
       "1   0.0  1.191857  0.266151  0.166480  0.448154  0.060018 -0.082361 -0.078803   \n",
       "2   1.0 -1.358354 -1.340163  1.773209  0.379780 -0.503198  1.800499  0.791461   \n",
       "3   1.0 -0.966272 -0.185226  1.792993 -0.863291 -0.010309  1.247203  0.237609   \n",
       "4   2.0 -1.158233  0.877737  1.548718  0.403034 -0.407193  0.095921  0.592941   \n",
       "\n",
       "         V8        V9       V10       V11       V12       V13       V14  \\\n",
       "0  0.098698  0.363787  0.090794 -0.551600 -0.617801 -0.991390 -0.311169   \n",
       "1  0.085102 -0.255425 -0.166974  1.612727  1.065235  0.489095 -0.143772   \n",
       "2  0.247676 -1.514654  0.207643  0.624501  0.066084  0.717293 -0.165946   \n",
       "3  0.377436 -1.387024 -0.054952 -0.226487  0.178228  0.507757 -0.287924   \n",
       "4 -0.270533  0.817739  0.753074 -0.822843  0.538196  1.345852 -1.119670   \n",
       "\n",
       "        V15       V16       V17       V18       V19       V20       V21  \\\n",
       "0  1.468177 -0.470401  0.207971  0.025791  0.403993  0.251412 -0.018307   \n",
       "1  0.635558  0.463917 -0.114805 -0.183361 -0.145783 -0.069083 -0.225775   \n",
       "2  2.345865 -2.890083  1.109969 -0.121359 -2.261857  0.524980  0.247998   \n",
       "3 -0.631418 -1.059647 -0.684093  1.965775 -1.232622 -0.208038 -0.108300   \n",
       "4  0.175121 -0.451449 -0.237033 -0.038195  0.803487  0.408542 -0.009431   \n",
       "\n",
       "        V22       V23       V24       V25       V26       V27       V28  \\\n",
       "0  0.277838 -0.110474  0.066928  0.128539 -0.189115  0.133558 -0.021053   \n",
       "1 -0.638672  0.101288 -0.339846  0.167170  0.125895 -0.008983  0.014724   \n",
       "2  0.771679  0.909412 -0.689281 -0.327642 -0.139097 -0.055353 -0.059752   \n",
       "3  0.005274 -0.190321 -1.175575  0.647376 -0.221929  0.062723  0.061458   \n",
       "4  0.798278 -0.137458  0.141267 -0.206010  0.502292  0.219422  0.215153   \n",
       "\n",
       "   Amount  Class  \n",
       "0  149.62      0  \n",
       "1    2.69      0  \n",
       "2  378.66      0  \n",
       "3  123.50      0  \n",
       "4   69.99      0  "
      ]
     },
     "execution_count": 5,
     "metadata": {},
     "output_type": "execute_result"
    }
   ],
   "source": [
    "cards.head()"
   ]
  },
  {
   "cell_type": "code",
   "execution_count": 6,
   "id": "862a702f",
   "metadata": {
    "execution": {
     "iopub.execute_input": "2024-03-12T11:24:10.468016Z",
     "iopub.status.busy": "2024-03-12T11:24:10.467189Z",
     "iopub.status.idle": "2024-03-12T11:24:10.478680Z",
     "shell.execute_reply": "2024-03-12T11:24:10.477448Z"
    },
    "papermill": {
     "duration": 0.023858,
     "end_time": "2024-03-12T11:24:10.481638",
     "exception": false,
     "start_time": "2024-03-12T11:24:10.457780",
     "status": "completed"
    },
    "tags": []
   },
   "outputs": [],
   "source": [
    "y = cards.pop('Class')\n",
    "X = cards"
   ]
  },
  {
   "cell_type": "code",
   "execution_count": 7,
   "id": "69d78dbf",
   "metadata": {
    "execution": {
     "iopub.execute_input": "2024-03-12T11:24:10.499690Z",
     "iopub.status.busy": "2024-03-12T11:24:10.499271Z",
     "iopub.status.idle": "2024-03-12T11:24:10.505486Z",
     "shell.execute_reply": "2024-03-12T11:24:10.504115Z"
    },
    "papermill": {
     "duration": 0.01826,
     "end_time": "2024-03-12T11:24:10.508173",
     "exception": false,
     "start_time": "2024-03-12T11:24:10.489913",
     "status": "completed"
    },
    "tags": []
   },
   "outputs": [],
   "source": [
    "# Create Models\n",
    "\n",
    "RandomForest = RandomForestClassifier(random_state=10)\n",
    "xgboost = XGBClassifier(random_state=10)"
   ]
  },
  {
   "cell_type": "code",
   "execution_count": 8,
   "id": "d1b3bc05",
   "metadata": {
    "execution": {
     "iopub.execute_input": "2024-03-12T11:24:10.526474Z",
     "iopub.status.busy": "2024-03-12T11:24:10.526004Z",
     "iopub.status.idle": "2024-03-12T11:24:10.742477Z",
     "shell.execute_reply": "2024-03-12T11:24:10.741039Z"
    },
    "papermill": {
     "duration": 0.229117,
     "end_time": "2024-03-12T11:24:10.745353",
     "exception": false,
     "start_time": "2024-03-12T11:24:10.516236",
     "status": "completed"
    },
    "tags": []
   },
   "outputs": [],
   "source": [
    "X_train, X_test, y_train, y_test =  train_test_split(X, y, test_size=0.2, stratify=y, random_state=10)"
   ]
  },
  {
   "cell_type": "code",
   "execution_count": 9,
   "id": "bf911042",
   "metadata": {
    "execution": {
     "iopub.execute_input": "2024-03-12T11:24:10.763608Z",
     "iopub.status.busy": "2024-03-12T11:24:10.763152Z",
     "iopub.status.idle": "2024-03-12T11:29:28.454497Z",
     "shell.execute_reply": "2024-03-12T11:29:28.453201Z"
    },
    "papermill": {
     "duration": 317.706671,
     "end_time": "2024-03-12T11:29:28.460062",
     "exception": false,
     "start_time": "2024-03-12T11:24:10.753391",
     "status": "completed"
    },
    "tags": []
   },
   "outputs": [
    {
     "data": {
      "text/html": [
       "<style>#sk-container-id-1 {color: black;background-color: white;}#sk-container-id-1 pre{padding: 0;}#sk-container-id-1 div.sk-toggleable {background-color: white;}#sk-container-id-1 label.sk-toggleable__label {cursor: pointer;display: block;width: 100%;margin-bottom: 0;padding: 0.3em;box-sizing: border-box;text-align: center;}#sk-container-id-1 label.sk-toggleable__label-arrow:before {content: \"▸\";float: left;margin-right: 0.25em;color: #696969;}#sk-container-id-1 label.sk-toggleable__label-arrow:hover:before {color: black;}#sk-container-id-1 div.sk-estimator:hover label.sk-toggleable__label-arrow:before {color: black;}#sk-container-id-1 div.sk-toggleable__content {max-height: 0;max-width: 0;overflow: hidden;text-align: left;background-color: #f0f8ff;}#sk-container-id-1 div.sk-toggleable__content pre {margin: 0.2em;color: black;border-radius: 0.25em;background-color: #f0f8ff;}#sk-container-id-1 input.sk-toggleable__control:checked~div.sk-toggleable__content {max-height: 200px;max-width: 100%;overflow: auto;}#sk-container-id-1 input.sk-toggleable__control:checked~label.sk-toggleable__label-arrow:before {content: \"▾\";}#sk-container-id-1 div.sk-estimator input.sk-toggleable__control:checked~label.sk-toggleable__label {background-color: #d4ebff;}#sk-container-id-1 div.sk-label input.sk-toggleable__control:checked~label.sk-toggleable__label {background-color: #d4ebff;}#sk-container-id-1 input.sk-hidden--visually {border: 0;clip: rect(1px 1px 1px 1px);clip: rect(1px, 1px, 1px, 1px);height: 1px;margin: -1px;overflow: hidden;padding: 0;position: absolute;width: 1px;}#sk-container-id-1 div.sk-estimator {font-family: monospace;background-color: #f0f8ff;border: 1px dotted black;border-radius: 0.25em;box-sizing: border-box;margin-bottom: 0.5em;}#sk-container-id-1 div.sk-estimator:hover {background-color: #d4ebff;}#sk-container-id-1 div.sk-parallel-item::after {content: \"\";width: 100%;border-bottom: 1px solid gray;flex-grow: 1;}#sk-container-id-1 div.sk-label:hover label.sk-toggleable__label {background-color: #d4ebff;}#sk-container-id-1 div.sk-serial::before {content: \"\";position: absolute;border-left: 1px solid gray;box-sizing: border-box;top: 0;bottom: 0;left: 50%;z-index: 0;}#sk-container-id-1 div.sk-serial {display: flex;flex-direction: column;align-items: center;background-color: white;padding-right: 0.2em;padding-left: 0.2em;position: relative;}#sk-container-id-1 div.sk-item {position: relative;z-index: 1;}#sk-container-id-1 div.sk-parallel {display: flex;align-items: stretch;justify-content: center;background-color: white;position: relative;}#sk-container-id-1 div.sk-item::before, #sk-container-id-1 div.sk-parallel-item::before {content: \"\";position: absolute;border-left: 1px solid gray;box-sizing: border-box;top: 0;bottom: 0;left: 50%;z-index: -1;}#sk-container-id-1 div.sk-parallel-item {display: flex;flex-direction: column;z-index: 1;position: relative;background-color: white;}#sk-container-id-1 div.sk-parallel-item:first-child::after {align-self: flex-end;width: 50%;}#sk-container-id-1 div.sk-parallel-item:last-child::after {align-self: flex-start;width: 50%;}#sk-container-id-1 div.sk-parallel-item:only-child::after {width: 0;}#sk-container-id-1 div.sk-dashed-wrapped {border: 1px dashed gray;margin: 0 0.4em 0.5em 0.4em;box-sizing: border-box;padding-bottom: 0.4em;background-color: white;}#sk-container-id-1 div.sk-label label {font-family: monospace;font-weight: bold;display: inline-block;line-height: 1.2em;}#sk-container-id-1 div.sk-label-container {text-align: center;}#sk-container-id-1 div.sk-container {/* jupyter's `normalize.less` sets `[hidden] { display: none; }` but bootstrap.min.css set `[hidden] { display: none !important; }` so we also need the `!important` here to be able to override the default hidden behavior on the sphinx rendered scikit-learn.org. See: https://github.com/scikit-learn/scikit-learn/issues/21755 */display: inline-block !important;position: relative;}#sk-container-id-1 div.sk-text-repr-fallback {display: none;}</style><div id=\"sk-container-id-1\" class=\"sk-top-container\"><div class=\"sk-text-repr-fallback\"><pre>XGBClassifier(base_score=None, booster=None, callbacks=None,\n",
       "              colsample_bylevel=None, colsample_bynode=None,\n",
       "              colsample_bytree=None, device=None, early_stopping_rounds=None,\n",
       "              enable_categorical=False, eval_metric=None, feature_types=None,\n",
       "              gamma=None, grow_policy=None, importance_type=None,\n",
       "              interaction_constraints=None, learning_rate=None, max_bin=None,\n",
       "              max_cat_threshold=None, max_cat_to_onehot=None,\n",
       "              max_delta_step=None, max_depth=None, max_leaves=None,\n",
       "              min_child_weight=None, missing=nan, monotone_constraints=None,\n",
       "              multi_strategy=None, n_estimators=None, n_jobs=None,\n",
       "              num_parallel_tree=None, random_state=10, ...)</pre><b>In a Jupyter environment, please rerun this cell to show the HTML representation or trust the notebook. <br />On GitHub, the HTML representation is unable to render, please try loading this page with nbviewer.org.</b></div><div class=\"sk-container\" hidden><div class=\"sk-item\"><div class=\"sk-estimator sk-toggleable\"><input class=\"sk-toggleable__control sk-hidden--visually\" id=\"sk-estimator-id-1\" type=\"checkbox\" checked><label for=\"sk-estimator-id-1\" class=\"sk-toggleable__label sk-toggleable__label-arrow\">XGBClassifier</label><div class=\"sk-toggleable__content\"><pre>XGBClassifier(base_score=None, booster=None, callbacks=None,\n",
       "              colsample_bylevel=None, colsample_bynode=None,\n",
       "              colsample_bytree=None, device=None, early_stopping_rounds=None,\n",
       "              enable_categorical=False, eval_metric=None, feature_types=None,\n",
       "              gamma=None, grow_policy=None, importance_type=None,\n",
       "              interaction_constraints=None, learning_rate=None, max_bin=None,\n",
       "              max_cat_threshold=None, max_cat_to_onehot=None,\n",
       "              max_delta_step=None, max_depth=None, max_leaves=None,\n",
       "              min_child_weight=None, missing=nan, monotone_constraints=None,\n",
       "              multi_strategy=None, n_estimators=None, n_jobs=None,\n",
       "              num_parallel_tree=None, random_state=10, ...)</pre></div></div></div></div></div>"
      ],
      "text/plain": [
       "XGBClassifier(base_score=None, booster=None, callbacks=None,\n",
       "              colsample_bylevel=None, colsample_bynode=None,\n",
       "              colsample_bytree=None, device=None, early_stopping_rounds=None,\n",
       "              enable_categorical=False, eval_metric=None, feature_types=None,\n",
       "              gamma=None, grow_policy=None, importance_type=None,\n",
       "              interaction_constraints=None, learning_rate=None, max_bin=None,\n",
       "              max_cat_threshold=None, max_cat_to_onehot=None,\n",
       "              max_delta_step=None, max_depth=None, max_leaves=None,\n",
       "              min_child_weight=None, missing=nan, monotone_constraints=None,\n",
       "              multi_strategy=None, n_estimators=None, n_jobs=None,\n",
       "              num_parallel_tree=None, random_state=10, ...)"
      ]
     },
     "execution_count": 9,
     "metadata": {},
     "output_type": "execute_result"
    }
   ],
   "source": [
    "RandomForest.fit(X_train, y_train)\n",
    "xgboost.fit(X_train, y_train)"
   ]
  },
  {
   "cell_type": "markdown",
   "id": "2be0002b",
   "metadata": {
    "papermill": {
     "duration": 0.007966,
     "end_time": "2024-03-12T11:29:28.476290",
     "exception": false,
     "start_time": "2024-03-12T11:29:28.468324",
     "status": "completed"
    },
    "tags": []
   },
   "source": [
    "**Model Evaluation for RandomForest**"
   ]
  },
  {
   "cell_type": "code",
   "execution_count": 10,
   "id": "66bb037b",
   "metadata": {
    "execution": {
     "iopub.execute_input": "2024-03-12T11:29:28.495141Z",
     "iopub.status.busy": "2024-03-12T11:29:28.494686Z",
     "iopub.status.idle": "2024-03-12T11:29:31.838097Z",
     "shell.execute_reply": "2024-03-12T11:29:31.836282Z"
    },
    "papermill": {
     "duration": 3.356375,
     "end_time": "2024-03-12T11:29:31.840984",
     "exception": false,
     "start_time": "2024-03-12T11:29:28.484609",
     "status": "completed"
    },
    "tags": []
   },
   "outputs": [
    {
     "name": "stdout",
     "output_type": "stream",
     "text": [
      "train_average_precision_score:  0.994932635765275\n",
      "test_average_precision_score:  0.736275049542792\n"
     ]
    }
   ],
   "source": [
    "train_RandomForest_predictions = RandomForest.predict(X_train)\n",
    "train_average_precision_score = average_precision_score(y_train, train_RandomForest_predictions)\n",
    "\n",
    "test_RandomForest_predictions = RandomForest.predict(X_test)\n",
    "test_average_precision_score = average_precision_score(y_test, test_RandomForest_predictions)\n",
    "\n",
    "print('train_average_precision_score: ',train_average_precision_score)\n",
    "print('test_average_precision_score: ',test_average_precision_score)"
   ]
  },
  {
   "cell_type": "markdown",
   "id": "01769b67",
   "metadata": {
    "papermill": {
     "duration": 0.00824,
     "end_time": "2024-03-12T11:29:31.857849",
     "exception": false,
     "start_time": "2024-03-12T11:29:31.849609",
     "status": "completed"
    },
    "tags": []
   },
   "source": [
    "**Model Evaluation for XGBOOST**"
   ]
  },
  {
   "cell_type": "code",
   "execution_count": 11,
   "id": "1e9aa02d",
   "metadata": {
    "execution": {
     "iopub.execute_input": "2024-03-12T11:29:31.877019Z",
     "iopub.status.busy": "2024-03-12T11:29:31.876598Z",
     "iopub.status.idle": "2024-03-12T11:29:32.259944Z",
     "shell.execute_reply": "2024-03-12T11:29:32.258963Z"
    },
    "papermill": {
     "duration": 0.396723,
     "end_time": "2024-03-12T11:29:32.263089",
     "exception": false,
     "start_time": "2024-03-12T11:29:31.866366",
     "status": "completed"
    },
    "tags": []
   },
   "outputs": [
    {
     "name": "stdout",
     "output_type": "stream",
     "text": [
      "train_xgboost_average_precision_score:  1.0\n",
      "test_xgboost_average_precision_score:  0.7686233230696162\n"
     ]
    }
   ],
   "source": [
    "train_xgboost_predictions = xgboost.predict(X_train)\n",
    "train_xgboost_average_precision_score = average_precision_score(y_train, train_xgboost_predictions)\n",
    "\n",
    "test_xgboost_predictions = xgboost.predict(X_test)\n",
    "test_xgboost_average_precision_score = average_precision_score(y_test, test_xgboost_predictions)\n",
    "\n",
    "print('train_xgboost_average_precision_score: ',train_xgboost_average_precision_score)\n",
    "print('test_xgboost_average_precision_score: ',test_xgboost_average_precision_score)"
   ]
  },
  {
   "cell_type": "markdown",
   "id": "80ebaaa7",
   "metadata": {
    "papermill": {
     "duration": 0.008844,
     "end_time": "2024-03-12T11:29:32.280520",
     "exception": false,
     "start_time": "2024-03-12T11:29:32.271676",
     "status": "completed"
    },
    "tags": []
   },
   "source": [
    "## **Applied Cross Validation**"
   ]
  },
  {
   "cell_type": "code",
   "execution_count": 12,
   "id": "21c6e0fe",
   "metadata": {
    "execution": {
     "iopub.execute_input": "2024-03-12T11:29:32.300670Z",
     "iopub.status.busy": "2024-03-12T11:29:32.299818Z",
     "iopub.status.idle": "2024-03-12T11:29:32.309157Z",
     "shell.execute_reply": "2024-03-12T11:29:32.307736Z"
    },
    "papermill": {
     "duration": 0.022501,
     "end_time": "2024-03-12T11:29:32.312033",
     "exception": false,
     "start_time": "2024-03-12T11:29:32.289532",
     "status": "completed"
    },
    "tags": []
   },
   "outputs": [
    {
     "data": {
      "text/plain": [
       "['accuracy',\n",
       " 'adjusted_mutual_info_score',\n",
       " 'adjusted_rand_score',\n",
       " 'average_precision',\n",
       " 'balanced_accuracy',\n",
       " 'completeness_score',\n",
       " 'explained_variance',\n",
       " 'f1',\n",
       " 'f1_macro',\n",
       " 'f1_micro',\n",
       " 'f1_samples',\n",
       " 'f1_weighted',\n",
       " 'fowlkes_mallows_score',\n",
       " 'homogeneity_score',\n",
       " 'jaccard',\n",
       " 'jaccard_macro',\n",
       " 'jaccard_micro',\n",
       " 'jaccard_samples',\n",
       " 'jaccard_weighted',\n",
       " 'matthews_corrcoef',\n",
       " 'max_error',\n",
       " 'mutual_info_score',\n",
       " 'neg_brier_score',\n",
       " 'neg_log_loss',\n",
       " 'neg_mean_absolute_error',\n",
       " 'neg_mean_absolute_percentage_error',\n",
       " 'neg_mean_gamma_deviance',\n",
       " 'neg_mean_poisson_deviance',\n",
       " 'neg_mean_squared_error',\n",
       " 'neg_mean_squared_log_error',\n",
       " 'neg_median_absolute_error',\n",
       " 'neg_negative_likelihood_ratio',\n",
       " 'neg_root_mean_squared_error',\n",
       " 'normalized_mutual_info_score',\n",
       " 'positive_likelihood_ratio',\n",
       " 'precision',\n",
       " 'precision_macro',\n",
       " 'precision_micro',\n",
       " 'precision_samples',\n",
       " 'precision_weighted',\n",
       " 'r2',\n",
       " 'rand_score',\n",
       " 'recall',\n",
       " 'recall_macro',\n",
       " 'recall_micro',\n",
       " 'recall_samples',\n",
       " 'recall_weighted',\n",
       " 'roc_auc',\n",
       " 'roc_auc_ovo',\n",
       " 'roc_auc_ovo_weighted',\n",
       " 'roc_auc_ovr',\n",
       " 'roc_auc_ovr_weighted',\n",
       " 'top_k_accuracy',\n",
       " 'v_measure_score']"
      ]
     },
     "execution_count": 12,
     "metadata": {},
     "output_type": "execute_result"
    }
   ],
   "source": [
    "import sklearn\n",
    "sklearn.metrics.get_scorer_names()"
   ]
  },
  {
   "cell_type": "code",
   "execution_count": 13,
   "id": "a72d1511",
   "metadata": {
    "execution": {
     "iopub.execute_input": "2024-03-12T11:29:32.332102Z",
     "iopub.status.busy": "2024-03-12T11:29:32.331705Z",
     "iopub.status.idle": "2024-03-12T11:29:48.025388Z",
     "shell.execute_reply": "2024-03-12T11:29:48.024530Z"
    },
    "papermill": {
     "duration": 15.706965,
     "end_time": "2024-03-12T11:29:48.027871",
     "exception": false,
     "start_time": "2024-03-12T11:29:32.320906",
     "status": "completed"
    },
    "tags": []
   },
   "outputs": [
    {
     "data": {
      "text/plain": [
       "array([0.80781921, 0.87084371, 0.60776989, 0.87512438, 0.80714803])"
      ]
     },
     "execution_count": 13,
     "metadata": {},
     "output_type": "execute_result"
    }
   ],
   "source": [
    "my_pipeline = Pipeline(steps=[('model', XGBClassifier(random_state=10))])\n",
    "scores = cross_val_score(my_pipeline, X, y, cv=5, scoring='average_precision')\n",
    "scores"
   ]
  },
  {
   "cell_type": "code",
   "execution_count": 14,
   "id": "34ff2998",
   "metadata": {
    "execution": {
     "iopub.execute_input": "2024-03-12T11:29:48.047871Z",
     "iopub.status.busy": "2024-03-12T11:29:48.047343Z",
     "iopub.status.idle": "2024-03-12T11:29:48.054596Z",
     "shell.execute_reply": "2024-03-12T11:29:48.053395Z"
    },
    "papermill": {
     "duration": 0.020193,
     "end_time": "2024-03-12T11:29:48.057033",
     "exception": false,
     "start_time": "2024-03-12T11:29:48.036840",
     "status": "completed"
    },
    "tags": []
   },
   "outputs": [
    {
     "data": {
      "text/plain": [
       "0.7937410452727407"
      ]
     },
     "execution_count": 14,
     "metadata": {},
     "output_type": "execute_result"
    }
   ],
   "source": [
    "scores.mean()"
   ]
  },
  {
   "cell_type": "markdown",
   "id": "f7b19931",
   "metadata": {
    "papermill": {
     "duration": 0.009368,
     "end_time": "2024-03-12T11:29:48.075468",
     "exception": false,
     "start_time": "2024-03-12T11:29:48.066100",
     "status": "completed"
    },
    "tags": []
   },
   "source": [
    "## **Hyper parameter tunning**"
   ]
  },
  {
   "cell_type": "code",
   "execution_count": 15,
   "id": "f9c77ff0",
   "metadata": {
    "execution": {
     "iopub.execute_input": "2024-03-12T11:29:48.096399Z",
     "iopub.status.busy": "2024-03-12T11:29:48.095900Z",
     "iopub.status.idle": "2024-03-12T11:29:48.103017Z",
     "shell.execute_reply": "2024-03-12T11:29:48.101782Z"
    },
    "papermill": {
     "duration": 0.02084,
     "end_time": "2024-03-12T11:29:48.105606",
     "exception": false,
     "start_time": "2024-03-12T11:29:48.084766",
     "status": "completed"
    },
    "tags": []
   },
   "outputs": [],
   "source": [
    "def score(X_train, y_train, X_test, y_test, model_name, n_estimators):\n",
    "    model = model_name(n_estimators=n_estimators, random_state=10)\n",
    "    model.fit(X_train, y_train)\n",
    "    predictions = model.predict(X_test)\n",
    "    \n",
    "    precision_score = average_precision_score(y_test, predictions)\n",
    "    return precision_score"
   ]
  },
  {
   "cell_type": "markdown",
   "id": "1326b525",
   "metadata": {
    "papermill": {
     "duration": 0.00858,
     "end_time": "2024-03-12T11:29:48.123158",
     "exception": false,
     "start_time": "2024-03-12T11:29:48.114578",
     "status": "completed"
    },
    "tags": []
   },
   "source": [
    "**The Hyper parameter is taking so much time to finish execution.**"
   ]
  },
  {
   "cell_type": "code",
   "execution_count": 16,
   "id": "1e4bbf10",
   "metadata": {
    "execution": {
     "iopub.execute_input": "2024-03-12T11:29:48.143464Z",
     "iopub.status.busy": "2024-03-12T11:29:48.142807Z",
     "iopub.status.idle": "2024-03-12T11:29:48.148148Z",
     "shell.execute_reply": "2024-03-12T11:29:48.146807Z"
    },
    "papermill": {
     "duration": 0.018692,
     "end_time": "2024-03-12T11:29:48.150999",
     "exception": false,
     "start_time": "2024-03-12T11:29:48.132307",
     "status": "completed"
    },
    "tags": []
   },
   "outputs": [],
   "source": [
    "# randomForest_result = {n_estimators: score(X_train, y_train, X_test, y_test, RandomForestClassifier, n_estimators) for n_estimators in np.arange(50, 1001, 50)}\n",
    "# xgboost_result = {n_estimators: score(X_train, y_train, X_test, y_test, XGBClassifier, n_estimators) for n_estimators in np.arange(50, 1001, 50)}"
   ]
  },
  {
   "cell_type": "code",
   "execution_count": 17,
   "id": "06c449f9",
   "metadata": {
    "execution": {
     "iopub.execute_input": "2024-03-12T11:29:48.171862Z",
     "iopub.status.busy": "2024-03-12T11:29:48.171405Z",
     "iopub.status.idle": "2024-03-12T11:29:48.176289Z",
     "shell.execute_reply": "2024-03-12T11:29:48.174756Z"
    },
    "papermill": {
     "duration": 0.018487,
     "end_time": "2024-03-12T11:29:48.179206",
     "exception": false,
     "start_time": "2024-03-12T11:29:48.160719",
     "status": "completed"
    },
    "tags": []
   },
   "outputs": [],
   "source": [
    "# # RandomForest score performance\n",
    "# plt.plot(randomForest_result.keys(), randomForest_result.values(), marker='o')"
   ]
  }
 ],
 "metadata": {
  "kaggle": {
   "accelerator": "none",
   "dataSources": [
    {
     "datasetId": 310,
     "sourceId": 23498,
     "sourceType": "datasetVersion"
    }
   ],
   "dockerImageVersionId": 30664,
   "isGpuEnabled": false,
   "isInternetEnabled": true,
   "language": "python",
   "sourceType": "notebook"
  },
  "kernelspec": {
   "display_name": "Python 3",
   "language": "python",
   "name": "python3"
  },
  "language_info": {
   "codemirror_mode": {
    "name": "ipython",
    "version": 3
   },
   "file_extension": ".py",
   "mimetype": "text/x-python",
   "name": "python",
   "nbconvert_exporter": "python",
   "pygments_lexer": "ipython3",
   "version": "3.10.13"
  },
  "papermill": {
   "default_parameters": {},
   "duration": 350.341367,
   "end_time": "2024-03-12T11:29:48.912324",
   "environment_variables": {},
   "exception": null,
   "input_path": "__notebook__.ipynb",
   "output_path": "__notebook__.ipynb",
   "parameters": {},
   "start_time": "2024-03-12T11:23:58.570957",
   "version": "2.5.0"
  }
 },
 "nbformat": 4,
 "nbformat_minor": 5
}
