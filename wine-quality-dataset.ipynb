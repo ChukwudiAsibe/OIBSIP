{
 "cells": [
  {
   "cell_type": "code",
   "execution_count": 1,
   "id": "6369d60d",
   "metadata": {
    "_cell_guid": "b1076dfc-b9ad-4769-8c92-a6c4dae69d19",
    "_uuid": "8f2839f25d086af736a60e9eeb907d3b93b6e0e5",
    "execution": {
     "iopub.execute_input": "2024-03-08T11:32:24.810552Z",
     "iopub.status.busy": "2024-03-08T11:32:24.809523Z",
     "iopub.status.idle": "2024-03-08T11:32:25.487194Z",
     "shell.execute_reply": "2024-03-08T11:32:25.486510Z"
    },
    "papermill": {
     "duration": 0.687541,
     "end_time": "2024-03-08T11:32:25.488797",
     "exception": false,
     "start_time": "2024-03-08T11:32:24.801256",
     "status": "completed"
    },
    "tags": []
   },
   "outputs": [
    {
     "name": "stdout",
     "output_type": "stream",
     "text": [
      "/kaggle/input/wine-quality-dataset/WineQT.csv\n"
     ]
    }
   ],
   "source": [
    "# This Python 3 environment comes with many helpful analytics libraries installed\n",
    "# It is defined by the kaggle/python Docker image: https://github.com/kaggle/docker-python\n",
    "# For example, here's several helpful packages to load\n",
    "\n",
    "import numpy as np # linear algebra\n",
    "import pandas as pd # data processing, CSV file I/O (e.g. pd.read_csv)\n",
    "\n",
    "# Input data files are available in the read-only \"../input/\" directory\n",
    "# For example, running this (by clicking run or pressing Shift+Enter) will list all files under the input directory\n",
    "\n",
    "import os\n",
    "for dirname, _, filenames in os.walk('/kaggle/input'):\n",
    "    for filename in filenames:\n",
    "        print(os.path.join(dirname, filename))\n",
    "\n",
    "# You can write up to 20GB to the current directory (/kaggle/working/) that gets preserved as output when you create a version using \"Save & Run All\" \n",
    "# You can also write temporary files to /kaggle/temp/, but they won't be saved outside of the current session"
   ]
  },
  {
   "cell_type": "code",
   "execution_count": 2,
   "id": "7b944f27",
   "metadata": {
    "execution": {
     "iopub.execute_input": "2024-03-08T11:32:25.503480Z",
     "iopub.status.busy": "2024-03-08T11:32:25.502652Z",
     "iopub.status.idle": "2024-03-08T11:32:27.210451Z",
     "shell.execute_reply": "2024-03-08T11:32:27.209305Z"
    },
    "papermill": {
     "duration": 1.717256,
     "end_time": "2024-03-08T11:32:27.212812",
     "exception": false,
     "start_time": "2024-03-08T11:32:25.495556",
     "status": "completed"
    },
    "tags": []
   },
   "outputs": [],
   "source": [
    "import matplotlib.pyplot as plt\n",
    "import seaborn as sns\n",
    "\n",
    "from sklearn.model_selection import train_test_split\n",
    "from sklearn.metrics import accuracy_score, confusion_matrix, mean_absolute_error\n",
    "from sklearn.ensemble import RandomForestRegressor, RandomForestClassifier\n",
    "from xgboost import XGBRegressor"
   ]
  },
  {
   "cell_type": "markdown",
   "id": "bbfb950a",
   "metadata": {
    "papermill": {
     "duration": 0.006265,
     "end_time": "2024-03-08T11:32:27.226138",
     "exception": false,
     "start_time": "2024-03-08T11:32:27.219873",
     "status": "completed"
    },
    "tags": []
   },
   "source": [
    "**Load the data**"
   ]
  },
  {
   "cell_type": "code",
   "execution_count": 3,
   "id": "83886b9b",
   "metadata": {
    "execution": {
     "iopub.execute_input": "2024-03-08T11:32:27.240655Z",
     "iopub.status.busy": "2024-03-08T11:32:27.240113Z",
     "iopub.status.idle": "2024-03-08T11:32:27.263269Z",
     "shell.execute_reply": "2024-03-08T11:32:27.262542Z"
    },
    "papermill": {
     "duration": 0.032605,
     "end_time": "2024-03-08T11:32:27.265238",
     "exception": false,
     "start_time": "2024-03-08T11:32:27.232633",
     "status": "completed"
    },
    "tags": []
   },
   "outputs": [],
   "source": [
    "wine = pd.read_csv('/kaggle/input/wine-quality-dataset/WineQT.csv')"
   ]
  },
  {
   "cell_type": "code",
   "execution_count": 4,
   "id": "72c9feeb",
   "metadata": {
    "execution": {
     "iopub.execute_input": "2024-03-08T11:32:27.279611Z",
     "iopub.status.busy": "2024-03-08T11:32:27.279206Z",
     "iopub.status.idle": "2024-03-08T11:32:27.300694Z",
     "shell.execute_reply": "2024-03-08T11:32:27.299903Z"
    },
    "papermill": {
     "duration": 0.030224,
     "end_time": "2024-03-08T11:32:27.302342",
     "exception": false,
     "start_time": "2024-03-08T11:32:27.272118",
     "status": "completed"
    },
    "tags": []
   },
   "outputs": [
    {
     "data": {
      "text/html": [
       "<div>\n",
       "<style scoped>\n",
       "    .dataframe tbody tr th:only-of-type {\n",
       "        vertical-align: middle;\n",
       "    }\n",
       "\n",
       "    .dataframe tbody tr th {\n",
       "        vertical-align: top;\n",
       "    }\n",
       "\n",
       "    .dataframe thead th {\n",
       "        text-align: right;\n",
       "    }\n",
       "</style>\n",
       "<table border=\"1\" class=\"dataframe\">\n",
       "  <thead>\n",
       "    <tr style=\"text-align: right;\">\n",
       "      <th></th>\n",
       "      <th>fixed acidity</th>\n",
       "      <th>volatile acidity</th>\n",
       "      <th>citric acid</th>\n",
       "      <th>residual sugar</th>\n",
       "      <th>chlorides</th>\n",
       "      <th>free sulfur dioxide</th>\n",
       "      <th>total sulfur dioxide</th>\n",
       "      <th>density</th>\n",
       "      <th>pH</th>\n",
       "      <th>sulphates</th>\n",
       "      <th>alcohol</th>\n",
       "      <th>quality</th>\n",
       "      <th>Id</th>\n",
       "    </tr>\n",
       "  </thead>\n",
       "  <tbody>\n",
       "    <tr>\n",
       "      <th>0</th>\n",
       "      <td>7.4</td>\n",
       "      <td>0.70</td>\n",
       "      <td>0.00</td>\n",
       "      <td>1.9</td>\n",
       "      <td>0.076</td>\n",
       "      <td>11.0</td>\n",
       "      <td>34.0</td>\n",
       "      <td>0.9978</td>\n",
       "      <td>3.51</td>\n",
       "      <td>0.56</td>\n",
       "      <td>9.4</td>\n",
       "      <td>5</td>\n",
       "      <td>0</td>\n",
       "    </tr>\n",
       "    <tr>\n",
       "      <th>1</th>\n",
       "      <td>7.8</td>\n",
       "      <td>0.88</td>\n",
       "      <td>0.00</td>\n",
       "      <td>2.6</td>\n",
       "      <td>0.098</td>\n",
       "      <td>25.0</td>\n",
       "      <td>67.0</td>\n",
       "      <td>0.9968</td>\n",
       "      <td>3.20</td>\n",
       "      <td>0.68</td>\n",
       "      <td>9.8</td>\n",
       "      <td>5</td>\n",
       "      <td>1</td>\n",
       "    </tr>\n",
       "    <tr>\n",
       "      <th>2</th>\n",
       "      <td>7.8</td>\n",
       "      <td>0.76</td>\n",
       "      <td>0.04</td>\n",
       "      <td>2.3</td>\n",
       "      <td>0.092</td>\n",
       "      <td>15.0</td>\n",
       "      <td>54.0</td>\n",
       "      <td>0.9970</td>\n",
       "      <td>3.26</td>\n",
       "      <td>0.65</td>\n",
       "      <td>9.8</td>\n",
       "      <td>5</td>\n",
       "      <td>2</td>\n",
       "    </tr>\n",
       "    <tr>\n",
       "      <th>3</th>\n",
       "      <td>11.2</td>\n",
       "      <td>0.28</td>\n",
       "      <td>0.56</td>\n",
       "      <td>1.9</td>\n",
       "      <td>0.075</td>\n",
       "      <td>17.0</td>\n",
       "      <td>60.0</td>\n",
       "      <td>0.9980</td>\n",
       "      <td>3.16</td>\n",
       "      <td>0.58</td>\n",
       "      <td>9.8</td>\n",
       "      <td>6</td>\n",
       "      <td>3</td>\n",
       "    </tr>\n",
       "    <tr>\n",
       "      <th>4</th>\n",
       "      <td>7.4</td>\n",
       "      <td>0.70</td>\n",
       "      <td>0.00</td>\n",
       "      <td>1.9</td>\n",
       "      <td>0.076</td>\n",
       "      <td>11.0</td>\n",
       "      <td>34.0</td>\n",
       "      <td>0.9978</td>\n",
       "      <td>3.51</td>\n",
       "      <td>0.56</td>\n",
       "      <td>9.4</td>\n",
       "      <td>5</td>\n",
       "      <td>4</td>\n",
       "    </tr>\n",
       "  </tbody>\n",
       "</table>\n",
       "</div>"
      ],
      "text/plain": [
       "   fixed acidity  volatile acidity  citric acid  residual sugar  chlorides  \\\n",
       "0            7.4              0.70         0.00             1.9      0.076   \n",
       "1            7.8              0.88         0.00             2.6      0.098   \n",
       "2            7.8              0.76         0.04             2.3      0.092   \n",
       "3           11.2              0.28         0.56             1.9      0.075   \n",
       "4            7.4              0.70         0.00             1.9      0.076   \n",
       "\n",
       "   free sulfur dioxide  total sulfur dioxide  density    pH  sulphates  \\\n",
       "0                 11.0                  34.0   0.9978  3.51       0.56   \n",
       "1                 25.0                  67.0   0.9968  3.20       0.68   \n",
       "2                 15.0                  54.0   0.9970  3.26       0.65   \n",
       "3                 17.0                  60.0   0.9980  3.16       0.58   \n",
       "4                 11.0                  34.0   0.9978  3.51       0.56   \n",
       "\n",
       "   alcohol  quality  Id  \n",
       "0      9.4        5   0  \n",
       "1      9.8        5   1  \n",
       "2      9.8        5   2  \n",
       "3      9.8        6   3  \n",
       "4      9.4        5   4  "
      ]
     },
     "execution_count": 4,
     "metadata": {},
     "output_type": "execute_result"
    }
   ],
   "source": [
    "wine.head()"
   ]
  },
  {
   "cell_type": "code",
   "execution_count": 5,
   "id": "b16e9505",
   "metadata": {
    "execution": {
     "iopub.execute_input": "2024-03-08T11:32:27.317281Z",
     "iopub.status.busy": "2024-03-08T11:32:27.316689Z",
     "iopub.status.idle": "2024-03-08T11:32:27.321169Z",
     "shell.execute_reply": "2024-03-08T11:32:27.320646Z"
    },
    "papermill": {
     "duration": 0.013412,
     "end_time": "2024-03-08T11:32:27.322743",
     "exception": false,
     "start_time": "2024-03-08T11:32:27.309331",
     "status": "completed"
    },
    "tags": []
   },
   "outputs": [
    {
     "data": {
      "text/plain": [
       "(1143, 13)"
      ]
     },
     "execution_count": 5,
     "metadata": {},
     "output_type": "execute_result"
    }
   ],
   "source": [
    "# shape of the Data\n",
    "wine.shape"
   ]
  },
  {
   "cell_type": "code",
   "execution_count": 6,
   "id": "4c9f999b",
   "metadata": {
    "execution": {
     "iopub.execute_input": "2024-03-08T11:32:27.337751Z",
     "iopub.status.busy": "2024-03-08T11:32:27.337514Z",
     "iopub.status.idle": "2024-03-08T11:32:27.346423Z",
     "shell.execute_reply": "2024-03-08T11:32:27.345504Z"
    },
    "papermill": {
     "duration": 0.018078,
     "end_time": "2024-03-08T11:32:27.348027",
     "exception": false,
     "start_time": "2024-03-08T11:32:27.329949",
     "status": "completed"
    },
    "tags": []
   },
   "outputs": [
    {
     "data": {
      "text/plain": [
       "fixed acidity           False\n",
       "volatile acidity        False\n",
       "citric acid             False\n",
       "residual sugar          False\n",
       "chlorides               False\n",
       "free sulfur dioxide     False\n",
       "total sulfur dioxide    False\n",
       "density                 False\n",
       "pH                      False\n",
       "sulphates               False\n",
       "alcohol                 False\n",
       "quality                 False\n",
       "Id                      False\n",
       "dtype: bool"
      ]
     },
     "execution_count": 6,
     "metadata": {},
     "output_type": "execute_result"
    }
   ],
   "source": [
    "# Check for missing values \n",
    "wine.isna().any()"
   ]
  },
  {
   "cell_type": "code",
   "execution_count": 7,
   "id": "73da73af",
   "metadata": {
    "execution": {
     "iopub.execute_input": "2024-03-08T11:32:27.364765Z",
     "iopub.status.busy": "2024-03-08T11:32:27.364136Z",
     "iopub.status.idle": "2024-03-08T11:32:27.372109Z",
     "shell.execute_reply": "2024-03-08T11:32:27.371581Z"
    },
    "papermill": {
     "duration": 0.017639,
     "end_time": "2024-03-08T11:32:27.373573",
     "exception": false,
     "start_time": "2024-03-08T11:32:27.355934",
     "status": "completed"
    },
    "tags": []
   },
   "outputs": [
    {
     "data": {
      "text/plain": [
       "False"
      ]
     },
     "execution_count": 7,
     "metadata": {},
     "output_type": "execute_result"
    }
   ],
   "source": [
    "# Check for duplicates \n",
    "wine.duplicated(subset=['Id']).any()"
   ]
  },
  {
   "cell_type": "code",
   "execution_count": 8,
   "id": "5487b14b",
   "metadata": {
    "execution": {
     "iopub.execute_input": "2024-03-08T11:32:27.389223Z",
     "iopub.status.busy": "2024-03-08T11:32:27.388550Z",
     "iopub.status.idle": "2024-03-08T11:32:27.406950Z",
     "shell.execute_reply": "2024-03-08T11:32:27.406122Z"
    },
    "papermill": {
     "duration": 0.028109,
     "end_time": "2024-03-08T11:32:27.408689",
     "exception": false,
     "start_time": "2024-03-08T11:32:27.380580",
     "status": "completed"
    },
    "tags": []
   },
   "outputs": [
    {
     "name": "stdout",
     "output_type": "stream",
     "text": [
      "<class 'pandas.core.frame.DataFrame'>\n",
      "RangeIndex: 1143 entries, 0 to 1142\n",
      "Data columns (total 13 columns):\n",
      " #   Column                Non-Null Count  Dtype  \n",
      "---  ------                --------------  -----  \n",
      " 0   fixed acidity         1143 non-null   float64\n",
      " 1   volatile acidity      1143 non-null   float64\n",
      " 2   citric acid           1143 non-null   float64\n",
      " 3   residual sugar        1143 non-null   float64\n",
      " 4   chlorides             1143 non-null   float64\n",
      " 5   free sulfur dioxide   1143 non-null   float64\n",
      " 6   total sulfur dioxide  1143 non-null   float64\n",
      " 7   density               1143 non-null   float64\n",
      " 8   pH                    1143 non-null   float64\n",
      " 9   sulphates             1143 non-null   float64\n",
      " 10  alcohol               1143 non-null   float64\n",
      " 11  quality               1143 non-null   int64  \n",
      " 12  Id                    1143 non-null   int64  \n",
      "dtypes: float64(11), int64(2)\n",
      "memory usage: 116.2 KB\n"
     ]
    }
   ],
   "source": [
    "# overview of the data set\n",
    "wine.info()"
   ]
  },
  {
   "cell_type": "code",
   "execution_count": 9,
   "id": "f3f46178",
   "metadata": {
    "execution": {
     "iopub.execute_input": "2024-03-08T11:32:27.424454Z",
     "iopub.status.busy": "2024-03-08T11:32:27.424030Z",
     "iopub.status.idle": "2024-03-08T11:32:27.458169Z",
     "shell.execute_reply": "2024-03-08T11:32:27.457062Z"
    },
    "papermill": {
     "duration": 0.044379,
     "end_time": "2024-03-08T11:32:27.460339",
     "exception": false,
     "start_time": "2024-03-08T11:32:27.415960",
     "status": "completed"
    },
    "tags": []
   },
   "outputs": [
    {
     "data": {
      "text/html": [
       "<div>\n",
       "<style scoped>\n",
       "    .dataframe tbody tr th:only-of-type {\n",
       "        vertical-align: middle;\n",
       "    }\n",
       "\n",
       "    .dataframe tbody tr th {\n",
       "        vertical-align: top;\n",
       "    }\n",
       "\n",
       "    .dataframe thead th {\n",
       "        text-align: right;\n",
       "    }\n",
       "</style>\n",
       "<table border=\"1\" class=\"dataframe\">\n",
       "  <thead>\n",
       "    <tr style=\"text-align: right;\">\n",
       "      <th></th>\n",
       "      <th>fixed acidity</th>\n",
       "      <th>volatile acidity</th>\n",
       "      <th>citric acid</th>\n",
       "      <th>residual sugar</th>\n",
       "      <th>chlorides</th>\n",
       "      <th>free sulfur dioxide</th>\n",
       "      <th>total sulfur dioxide</th>\n",
       "      <th>density</th>\n",
       "      <th>pH</th>\n",
       "      <th>sulphates</th>\n",
       "      <th>alcohol</th>\n",
       "      <th>quality</th>\n",
       "      <th>Id</th>\n",
       "    </tr>\n",
       "  </thead>\n",
       "  <tbody>\n",
       "    <tr>\n",
       "      <th>count</th>\n",
       "      <td>1143.000000</td>\n",
       "      <td>1143.000000</td>\n",
       "      <td>1143.000000</td>\n",
       "      <td>1143.000000</td>\n",
       "      <td>1143.000000</td>\n",
       "      <td>1143.000000</td>\n",
       "      <td>1143.000000</td>\n",
       "      <td>1143.000000</td>\n",
       "      <td>1143.000000</td>\n",
       "      <td>1143.000000</td>\n",
       "      <td>1143.000000</td>\n",
       "      <td>1143.000000</td>\n",
       "      <td>1143.000000</td>\n",
       "    </tr>\n",
       "    <tr>\n",
       "      <th>mean</th>\n",
       "      <td>8.311111</td>\n",
       "      <td>0.531339</td>\n",
       "      <td>0.268364</td>\n",
       "      <td>2.532152</td>\n",
       "      <td>0.086933</td>\n",
       "      <td>15.615486</td>\n",
       "      <td>45.914698</td>\n",
       "      <td>0.996730</td>\n",
       "      <td>3.311015</td>\n",
       "      <td>0.657708</td>\n",
       "      <td>10.442111</td>\n",
       "      <td>5.657043</td>\n",
       "      <td>804.969379</td>\n",
       "    </tr>\n",
       "    <tr>\n",
       "      <th>std</th>\n",
       "      <td>1.747595</td>\n",
       "      <td>0.179633</td>\n",
       "      <td>0.196686</td>\n",
       "      <td>1.355917</td>\n",
       "      <td>0.047267</td>\n",
       "      <td>10.250486</td>\n",
       "      <td>32.782130</td>\n",
       "      <td>0.001925</td>\n",
       "      <td>0.156664</td>\n",
       "      <td>0.170399</td>\n",
       "      <td>1.082196</td>\n",
       "      <td>0.805824</td>\n",
       "      <td>463.997116</td>\n",
       "    </tr>\n",
       "    <tr>\n",
       "      <th>min</th>\n",
       "      <td>4.600000</td>\n",
       "      <td>0.120000</td>\n",
       "      <td>0.000000</td>\n",
       "      <td>0.900000</td>\n",
       "      <td>0.012000</td>\n",
       "      <td>1.000000</td>\n",
       "      <td>6.000000</td>\n",
       "      <td>0.990070</td>\n",
       "      <td>2.740000</td>\n",
       "      <td>0.330000</td>\n",
       "      <td>8.400000</td>\n",
       "      <td>3.000000</td>\n",
       "      <td>0.000000</td>\n",
       "    </tr>\n",
       "    <tr>\n",
       "      <th>25%</th>\n",
       "      <td>7.100000</td>\n",
       "      <td>0.392500</td>\n",
       "      <td>0.090000</td>\n",
       "      <td>1.900000</td>\n",
       "      <td>0.070000</td>\n",
       "      <td>7.000000</td>\n",
       "      <td>21.000000</td>\n",
       "      <td>0.995570</td>\n",
       "      <td>3.205000</td>\n",
       "      <td>0.550000</td>\n",
       "      <td>9.500000</td>\n",
       "      <td>5.000000</td>\n",
       "      <td>411.000000</td>\n",
       "    </tr>\n",
       "    <tr>\n",
       "      <th>50%</th>\n",
       "      <td>7.900000</td>\n",
       "      <td>0.520000</td>\n",
       "      <td>0.250000</td>\n",
       "      <td>2.200000</td>\n",
       "      <td>0.079000</td>\n",
       "      <td>13.000000</td>\n",
       "      <td>37.000000</td>\n",
       "      <td>0.996680</td>\n",
       "      <td>3.310000</td>\n",
       "      <td>0.620000</td>\n",
       "      <td>10.200000</td>\n",
       "      <td>6.000000</td>\n",
       "      <td>794.000000</td>\n",
       "    </tr>\n",
       "    <tr>\n",
       "      <th>75%</th>\n",
       "      <td>9.100000</td>\n",
       "      <td>0.640000</td>\n",
       "      <td>0.420000</td>\n",
       "      <td>2.600000</td>\n",
       "      <td>0.090000</td>\n",
       "      <td>21.000000</td>\n",
       "      <td>61.000000</td>\n",
       "      <td>0.997845</td>\n",
       "      <td>3.400000</td>\n",
       "      <td>0.730000</td>\n",
       "      <td>11.100000</td>\n",
       "      <td>6.000000</td>\n",
       "      <td>1209.500000</td>\n",
       "    </tr>\n",
       "    <tr>\n",
       "      <th>max</th>\n",
       "      <td>15.900000</td>\n",
       "      <td>1.580000</td>\n",
       "      <td>1.000000</td>\n",
       "      <td>15.500000</td>\n",
       "      <td>0.611000</td>\n",
       "      <td>68.000000</td>\n",
       "      <td>289.000000</td>\n",
       "      <td>1.003690</td>\n",
       "      <td>4.010000</td>\n",
       "      <td>2.000000</td>\n",
       "      <td>14.900000</td>\n",
       "      <td>8.000000</td>\n",
       "      <td>1597.000000</td>\n",
       "    </tr>\n",
       "  </tbody>\n",
       "</table>\n",
       "</div>"
      ],
      "text/plain": [
       "       fixed acidity  volatile acidity  citric acid  residual sugar  \\\n",
       "count    1143.000000       1143.000000  1143.000000     1143.000000   \n",
       "mean        8.311111          0.531339     0.268364        2.532152   \n",
       "std         1.747595          0.179633     0.196686        1.355917   \n",
       "min         4.600000          0.120000     0.000000        0.900000   \n",
       "25%         7.100000          0.392500     0.090000        1.900000   \n",
       "50%         7.900000          0.520000     0.250000        2.200000   \n",
       "75%         9.100000          0.640000     0.420000        2.600000   \n",
       "max        15.900000          1.580000     1.000000       15.500000   \n",
       "\n",
       "         chlorides  free sulfur dioxide  total sulfur dioxide      density  \\\n",
       "count  1143.000000          1143.000000           1143.000000  1143.000000   \n",
       "mean      0.086933            15.615486             45.914698     0.996730   \n",
       "std       0.047267            10.250486             32.782130     0.001925   \n",
       "min       0.012000             1.000000              6.000000     0.990070   \n",
       "25%       0.070000             7.000000             21.000000     0.995570   \n",
       "50%       0.079000            13.000000             37.000000     0.996680   \n",
       "75%       0.090000            21.000000             61.000000     0.997845   \n",
       "max       0.611000            68.000000            289.000000     1.003690   \n",
       "\n",
       "                pH    sulphates      alcohol      quality           Id  \n",
       "count  1143.000000  1143.000000  1143.000000  1143.000000  1143.000000  \n",
       "mean      3.311015     0.657708    10.442111     5.657043   804.969379  \n",
       "std       0.156664     0.170399     1.082196     0.805824   463.997116  \n",
       "min       2.740000     0.330000     8.400000     3.000000     0.000000  \n",
       "25%       3.205000     0.550000     9.500000     5.000000   411.000000  \n",
       "50%       3.310000     0.620000    10.200000     6.000000   794.000000  \n",
       "75%       3.400000     0.730000    11.100000     6.000000  1209.500000  \n",
       "max       4.010000     2.000000    14.900000     8.000000  1597.000000  "
      ]
     },
     "execution_count": 9,
     "metadata": {},
     "output_type": "execute_result"
    }
   ],
   "source": [
    "# breif decription of the data\n",
    "wine.describe()"
   ]
  },
  {
   "cell_type": "markdown",
   "id": "e3799100",
   "metadata": {
    "papermill": {
     "duration": 0.007377,
     "end_time": "2024-03-08T11:32:27.476208",
     "exception": false,
     "start_time": "2024-03-08T11:32:27.468831",
     "status": "completed"
    },
    "tags": []
   },
   "source": [
    "## **Feature Engineering**"
   ]
  },
  {
   "cell_type": "code",
   "execution_count": 10,
   "id": "cf84c5fd",
   "metadata": {
    "execution": {
     "iopub.execute_input": "2024-03-08T11:32:27.492238Z",
     "iopub.status.busy": "2024-03-08T11:32:27.491937Z",
     "iopub.status.idle": "2024-03-08T11:32:27.498103Z",
     "shell.execute_reply": "2024-03-08T11:32:27.496989Z"
    },
    "papermill": {
     "duration": 0.016243,
     "end_time": "2024-03-08T11:32:27.499806",
     "exception": false,
     "start_time": "2024-03-08T11:32:27.483563",
     "status": "completed"
    },
    "tags": []
   },
   "outputs": [],
   "source": [
    "wine.drop('Id', axis=1, inplace=True)"
   ]
  },
  {
   "cell_type": "code",
   "execution_count": 11,
   "id": "7c93f348",
   "metadata": {
    "execution": {
     "iopub.execute_input": "2024-03-08T11:32:27.515678Z",
     "iopub.status.busy": "2024-03-08T11:32:27.515392Z",
     "iopub.status.idle": "2024-03-08T11:32:27.521913Z",
     "shell.execute_reply": "2024-03-08T11:32:27.521197Z"
    },
    "papermill": {
     "duration": 0.016214,
     "end_time": "2024-03-08T11:32:27.523475",
     "exception": false,
     "start_time": "2024-03-08T11:32:27.507261",
     "status": "completed"
    },
    "tags": []
   },
   "outputs": [],
   "source": [
    "wine.insert(3, 'total acid', value=np.sum(wine[wine.columns[:3]], axis=1))"
   ]
  },
  {
   "cell_type": "code",
   "execution_count": 12,
   "id": "c00754d5",
   "metadata": {
    "execution": {
     "iopub.execute_input": "2024-03-08T11:32:27.539716Z",
     "iopub.status.busy": "2024-03-08T11:32:27.539137Z",
     "iopub.status.idle": "2024-03-08T11:32:27.554748Z",
     "shell.execute_reply": "2024-03-08T11:32:27.554061Z"
    },
    "papermill": {
     "duration": 0.025305,
     "end_time": "2024-03-08T11:32:27.556168",
     "exception": false,
     "start_time": "2024-03-08T11:32:27.530863",
     "status": "completed"
    },
    "tags": []
   },
   "outputs": [
    {
     "data": {
      "text/html": [
       "<div>\n",
       "<style scoped>\n",
       "    .dataframe tbody tr th:only-of-type {\n",
       "        vertical-align: middle;\n",
       "    }\n",
       "\n",
       "    .dataframe tbody tr th {\n",
       "        vertical-align: top;\n",
       "    }\n",
       "\n",
       "    .dataframe thead th {\n",
       "        text-align: right;\n",
       "    }\n",
       "</style>\n",
       "<table border=\"1\" class=\"dataframe\">\n",
       "  <thead>\n",
       "    <tr style=\"text-align: right;\">\n",
       "      <th></th>\n",
       "      <th>fixed acidity</th>\n",
       "      <th>volatile acidity</th>\n",
       "      <th>citric acid</th>\n",
       "      <th>total acid</th>\n",
       "      <th>residual sugar</th>\n",
       "      <th>chlorides</th>\n",
       "      <th>free sulfur dioxide</th>\n",
       "      <th>total sulfur dioxide</th>\n",
       "      <th>density</th>\n",
       "      <th>pH</th>\n",
       "      <th>sulphates</th>\n",
       "      <th>alcohol</th>\n",
       "      <th>quality</th>\n",
       "    </tr>\n",
       "  </thead>\n",
       "  <tbody>\n",
       "    <tr>\n",
       "      <th>0</th>\n",
       "      <td>7.4</td>\n",
       "      <td>0.70</td>\n",
       "      <td>0.00</td>\n",
       "      <td>8.10</td>\n",
       "      <td>1.9</td>\n",
       "      <td>0.076</td>\n",
       "      <td>11.0</td>\n",
       "      <td>34.0</td>\n",
       "      <td>0.9978</td>\n",
       "      <td>3.51</td>\n",
       "      <td>0.56</td>\n",
       "      <td>9.4</td>\n",
       "      <td>5</td>\n",
       "    </tr>\n",
       "    <tr>\n",
       "      <th>1</th>\n",
       "      <td>7.8</td>\n",
       "      <td>0.88</td>\n",
       "      <td>0.00</td>\n",
       "      <td>8.68</td>\n",
       "      <td>2.6</td>\n",
       "      <td>0.098</td>\n",
       "      <td>25.0</td>\n",
       "      <td>67.0</td>\n",
       "      <td>0.9968</td>\n",
       "      <td>3.20</td>\n",
       "      <td>0.68</td>\n",
       "      <td>9.8</td>\n",
       "      <td>5</td>\n",
       "    </tr>\n",
       "    <tr>\n",
       "      <th>2</th>\n",
       "      <td>7.8</td>\n",
       "      <td>0.76</td>\n",
       "      <td>0.04</td>\n",
       "      <td>8.60</td>\n",
       "      <td>2.3</td>\n",
       "      <td>0.092</td>\n",
       "      <td>15.0</td>\n",
       "      <td>54.0</td>\n",
       "      <td>0.9970</td>\n",
       "      <td>3.26</td>\n",
       "      <td>0.65</td>\n",
       "      <td>9.8</td>\n",
       "      <td>5</td>\n",
       "    </tr>\n",
       "    <tr>\n",
       "      <th>3</th>\n",
       "      <td>11.2</td>\n",
       "      <td>0.28</td>\n",
       "      <td>0.56</td>\n",
       "      <td>12.04</td>\n",
       "      <td>1.9</td>\n",
       "      <td>0.075</td>\n",
       "      <td>17.0</td>\n",
       "      <td>60.0</td>\n",
       "      <td>0.9980</td>\n",
       "      <td>3.16</td>\n",
       "      <td>0.58</td>\n",
       "      <td>9.8</td>\n",
       "      <td>6</td>\n",
       "    </tr>\n",
       "    <tr>\n",
       "      <th>4</th>\n",
       "      <td>7.4</td>\n",
       "      <td>0.70</td>\n",
       "      <td>0.00</td>\n",
       "      <td>8.10</td>\n",
       "      <td>1.9</td>\n",
       "      <td>0.076</td>\n",
       "      <td>11.0</td>\n",
       "      <td>34.0</td>\n",
       "      <td>0.9978</td>\n",
       "      <td>3.51</td>\n",
       "      <td>0.56</td>\n",
       "      <td>9.4</td>\n",
       "      <td>5</td>\n",
       "    </tr>\n",
       "  </tbody>\n",
       "</table>\n",
       "</div>"
      ],
      "text/plain": [
       "   fixed acidity  volatile acidity  citric acid  total acid  residual sugar  \\\n",
       "0            7.4              0.70         0.00        8.10             1.9   \n",
       "1            7.8              0.88         0.00        8.68             2.6   \n",
       "2            7.8              0.76         0.04        8.60             2.3   \n",
       "3           11.2              0.28         0.56       12.04             1.9   \n",
       "4            7.4              0.70         0.00        8.10             1.9   \n",
       "\n",
       "   chlorides  free sulfur dioxide  total sulfur dioxide  density    pH  \\\n",
       "0      0.076                 11.0                  34.0   0.9978  3.51   \n",
       "1      0.098                 25.0                  67.0   0.9968  3.20   \n",
       "2      0.092                 15.0                  54.0   0.9970  3.26   \n",
       "3      0.075                 17.0                  60.0   0.9980  3.16   \n",
       "4      0.076                 11.0                  34.0   0.9978  3.51   \n",
       "\n",
       "   sulphates  alcohol  quality  \n",
       "0       0.56      9.4        5  \n",
       "1       0.68      9.8        5  \n",
       "2       0.65      9.8        5  \n",
       "3       0.58      9.8        6  \n",
       "4       0.56      9.4        5  "
      ]
     },
     "execution_count": 12,
     "metadata": {},
     "output_type": "execute_result"
    }
   ],
   "source": [
    "wine.head()"
   ]
  },
  {
   "cell_type": "code",
   "execution_count": 13,
   "id": "288769de",
   "metadata": {
    "execution": {
     "iopub.execute_input": "2024-03-08T11:32:27.573071Z",
     "iopub.status.busy": "2024-03-08T11:32:27.572413Z",
     "iopub.status.idle": "2024-03-08T11:32:27.577433Z",
     "shell.execute_reply": "2024-03-08T11:32:27.576830Z"
    },
    "papermill": {
     "duration": 0.01515,
     "end_time": "2024-03-08T11:32:27.578927",
     "exception": false,
     "start_time": "2024-03-08T11:32:27.563777",
     "status": "completed"
    },
    "tags": []
   },
   "outputs": [],
   "source": [
    "wine = wine.copy()\n",
    "y = wine.pop('quality')\n",
    "X = wine\n",
    "\n",
    "discrete_features = X.dtypes == int"
   ]
  },
  {
   "cell_type": "code",
   "execution_count": 14,
   "id": "6269e604",
   "metadata": {
    "execution": {
     "iopub.execute_input": "2024-03-08T11:32:27.594992Z",
     "iopub.status.busy": "2024-03-08T11:32:27.594658Z",
     "iopub.status.idle": "2024-03-08T11:32:27.680432Z",
     "shell.execute_reply": "2024-03-08T11:32:27.679581Z"
    },
    "papermill": {
     "duration": 0.096288,
     "end_time": "2024-03-08T11:32:27.682506",
     "exception": false,
     "start_time": "2024-03-08T11:32:27.586218",
     "status": "completed"
    },
    "tags": []
   },
   "outputs": [
    {
     "data": {
      "text/plain": [
       "alcohol                 0.177097\n",
       "total sulfur dioxide    0.084858\n",
       "density                 0.063026\n",
       "residual sugar          0.030255\n",
       "Name: MI Scores, dtype: float64"
      ]
     },
     "execution_count": 14,
     "metadata": {},
     "output_type": "execute_result"
    }
   ],
   "source": [
    "from sklearn.feature_selection import mutual_info_regression\n",
    "\n",
    "def make_mi_scores(X, y, discrete_features):\n",
    "    mi_scores = mutual_info_regression(X, y, discrete_features=discrete_features)\n",
    "    mi_scores = pd.Series(mi_scores, name=\"MI Scores\", index=X.columns)\n",
    "    mi_scores = mi_scores.sort_values(ascending=False)\n",
    "    return mi_scores\n",
    "\n",
    "mi_scores = make_mi_scores(X, y, discrete_features)\n",
    "mi_scores[::3]"
   ]
  },
  {
   "cell_type": "code",
   "execution_count": 15,
   "id": "64904ccd",
   "metadata": {
    "execution": {
     "iopub.execute_input": "2024-03-08T11:32:27.700325Z",
     "iopub.status.busy": "2024-03-08T11:32:27.700095Z",
     "iopub.status.idle": "2024-03-08T11:32:27.963767Z",
     "shell.execute_reply": "2024-03-08T11:32:27.962744Z"
    },
    "papermill": {
     "duration": 0.275525,
     "end_time": "2024-03-08T11:32:27.965939",
     "exception": false,
     "start_time": "2024-03-08T11:32:27.690414",
     "status": "completed"
    },
    "tags": []
   },
   "outputs": [
    {
     "data": {
      "image/png": "[encoded data removed]",
      "text/plain": [
       "<Figure size 800x500 with 1 Axes>"
      ]
     },
     "metadata": {},
     "output_type": "display_data"
    }
   ],
   "source": [
    "def plot_mi_scores(scores):\n",
    "    scores = scores.sort_values(ascending=True)\n",
    "    width = np.arange(len(scores))\n",
    "    ticks = list(scores.index)\n",
    "    plt.barh(width, scores)\n",
    "    plt.yticks(width, ticks)\n",
    "    plt.title(\"Mutual Information Scores\")\n",
    "\n",
    "\n",
    "plt.figure(dpi=100, figsize=(8, 5))\n",
    "plot_mi_scores(mi_scores)"
   ]
  },
  {
   "cell_type": "code",
   "execution_count": 16,
   "id": "51339628",
   "metadata": {
    "execution": {
     "iopub.execute_input": "2024-03-08T11:32:27.983703Z",
     "iopub.status.busy": "2024-03-08T11:32:27.983295Z",
     "iopub.status.idle": "2024-03-08T11:32:28.178737Z",
     "shell.execute_reply": "2024-03-08T11:32:28.177794Z"
    },
    "papermill": {
     "duration": 0.206319,
     "end_time": "2024-03-08T11:32:28.180613",
     "exception": false,
     "start_time": "2024-03-08T11:32:27.974294",
     "status": "completed"
    },
    "tags": []
   },
   "outputs": [
    {
     "data": {
      "text/plain": [
       "<matplotlib.collections.PathCollection at 0x78b2834893c0>"
      ]
     },
     "execution_count": 16,
     "metadata": {},
     "output_type": "execute_result"
    },
    {
     "data": {
      "image/png": "[encoded data removed]",
      "text/plain": [
       "<Figure size 640x480 with 1 Axes>"
      ]
     },
     "metadata": {},
     "output_type": "display_data"
    }
   ],
   "source": [
    "plt.scatter(x=wine['alcohol'], y=y)"
   ]
  },
  {
   "cell_type": "code",
   "execution_count": 17,
   "id": "d03fcdfa",
   "metadata": {
    "execution": {
     "iopub.execute_input": "2024-03-08T11:32:28.199094Z",
     "iopub.status.busy": "2024-03-08T11:32:28.198773Z",
     "iopub.status.idle": "2024-03-08T11:32:28.382300Z",
     "shell.execute_reply": "2024-03-08T11:32:28.381453Z"
    },
    "papermill": {
     "duration": 0.194713,
     "end_time": "2024-03-08T11:32:28.384044",
     "exception": false,
     "start_time": "2024-03-08T11:32:28.189331",
     "status": "completed"
    },
    "tags": []
   },
   "outputs": [
    {
     "data": {
      "text/plain": [
       "<matplotlib.collections.PathCollection at 0x78b283307010>"
      ]
     },
     "execution_count": 17,
     "metadata": {},
     "output_type": "execute_result"
    },
    {
     "data": {
      "image/png": "[encoded data removed]",
      "text/plain": [
       "<Figure size 640x480 with 1 Axes>"
      ]
     },
     "metadata": {},
     "output_type": "display_data"
    }
   ],
   "source": [
    "plt.scatter(x=wine.pH, y=y)"
   ]
  },
  {
   "cell_type": "code",
   "execution_count": 18,
   "id": "4e15b8c7",
   "metadata": {
    "execution": {
     "iopub.execute_input": "2024-03-08T11:32:28.403466Z",
     "iopub.status.busy": "2024-03-08T11:32:28.403180Z",
     "iopub.status.idle": "2024-03-08T11:32:28.411025Z",
     "shell.execute_reply": "2024-03-08T11:32:28.410279Z"
    },
    "papermill": {
     "duration": 0.019522,
     "end_time": "2024-03-08T11:32:28.412693",
     "exception": false,
     "start_time": "2024-03-08T11:32:28.393171",
     "status": "completed"
    },
    "tags": []
   },
   "outputs": [],
   "source": [
    "X_train, X_test, y_train, y_test = train_test_split(X, y, stratify=y, random_state=0, test_size=0.2)"
   ]
  },
  {
   "cell_type": "markdown",
   "id": "56976ebd",
   "metadata": {
    "papermill": {
     "duration": 0.00853,
     "end_time": "2024-03-08T11:32:28.430278",
     "exception": false,
     "start_time": "2024-03-08T11:32:28.421748",
     "status": "completed"
    },
    "tags": []
   },
   "source": [
    "## **Model Creation**"
   ]
  },
  {
   "cell_type": "code",
   "execution_count": 19,
   "id": "fc51c7a1",
   "metadata": {
    "execution": {
     "iopub.execute_input": "2024-03-08T11:32:28.449435Z",
     "iopub.status.busy": "2024-03-08T11:32:28.449123Z",
     "iopub.status.idle": "2024-03-08T11:32:28.453883Z",
     "shell.execute_reply": "2024-03-08T11:32:28.452930Z"
    },
    "papermill": {
     "duration": 0.01649,
     "end_time": "2024-03-08T11:32:28.455652",
     "exception": false,
     "start_time": "2024-03-08T11:32:28.439162",
     "status": "completed"
    },
    "tags": []
   },
   "outputs": [],
   "source": [
    "# Create Models\n",
    "\n",
    "regressor = RandomForestRegressor(random_state=10)\n",
    "classifier = RandomForestClassifier()\n",
    "xgboost = XGBRegressor(random_state=10)"
   ]
  },
  {
   "cell_type": "markdown",
   "id": "950b9819",
   "metadata": {
    "papermill": {
     "duration": 0.008458,
     "end_time": "2024-03-08T11:32:28.472907",
     "exception": false,
     "start_time": "2024-03-08T11:32:28.464449",
     "status": "completed"
    },
    "tags": []
   },
   "source": [
    "****"
   ]
  },
  {
   "cell_type": "code",
   "execution_count": 20,
   "id": "096dc6c7",
   "metadata": {
    "execution": {
     "iopub.execute_input": "2024-03-08T11:32:28.491541Z",
     "iopub.status.busy": "2024-03-08T11:32:28.491270Z",
     "iopub.status.idle": "2024-03-08T11:32:29.131579Z",
     "shell.execute_reply": "2024-03-08T11:32:29.130968Z"
    },
    "papermill": {
     "duration": 0.65165,
     "end_time": "2024-03-08T11:32:29.133383",
     "exception": false,
     "start_time": "2024-03-08T11:32:28.481733",
     "status": "completed"
    },
    "tags": []
   },
   "outputs": [
    {
     "data": {
      "text/html": [
       "<style>#sk-container-id-1 {color: black;background-color: white;}#sk-container-id-1 pre{padding: 0;}#sk-container-id-1 div.sk-toggleable {background-color: white;}#sk-container-id-1 label.sk-toggleable__label {cursor: pointer;display: block;width: 100%;margin-bottom: 0;padding: 0.3em;box-sizing: border-box;text-align: center;}#sk-container-id-1 label.sk-toggleable__label-arrow:before {content: \"▸\";float: left;margin-right: 0.25em;color: #696969;}#sk-container-id-1 label.sk-toggleable__label-arrow:hover:before {color: black;}#sk-container-id-1 div.sk-estimator:hover label.sk-toggleable__label-arrow:before {color: black;}#sk-container-id-1 div.sk-toggleable__content {max-height: 0;max-width: 0;overflow: hidden;text-align: left;background-color: #f0f8ff;}#sk-container-id-1 div.sk-toggleable__content pre {margin: 0.2em;color: black;border-radius: 0.25em;background-color: #f0f8ff;}#sk-container-id-1 input.sk-toggleable__control:checked~div.sk-toggleable__content {max-height: 200px;max-width: 100%;overflow: auto;}#sk-container-id-1 input.sk-toggleable__control:checked~label.sk-toggleable__label-arrow:before {content: \"▾\";}#sk-container-id-1 div.sk-estimator input.sk-toggleable__control:checked~label.sk-toggleable__label {background-color: #d4ebff;}#sk-container-id-1 div.sk-label input.sk-toggleable__control:checked~label.sk-toggleable__label {background-color: #d4ebff;}#sk-container-id-1 input.sk-hidden--visually {border: 0;clip: rect(1px 1px 1px 1px);clip: rect(1px, 1px, 1px, 1px);height: 1px;margin: -1px;overflow: hidden;padding: 0;position: absolute;width: 1px;}#sk-container-id-1 div.sk-estimator {font-family: monospace;background-color: #f0f8ff;border: 1px dotted black;border-radius: 0.25em;box-sizing: border-box;margin-bottom: 0.5em;}#sk-container-id-1 div.sk-estimator:hover {background-color: #d4ebff;}#sk-container-id-1 div.sk-parallel-item::after {content: \"\";width: 100%;border-bottom: 1px solid gray;flex-grow: 1;}#sk-container-id-1 div.sk-label:hover label.sk-toggleable__label {background-color: #d4ebff;}#sk-container-id-1 div.sk-serial::before {content: \"\";position: absolute;border-left: 1px solid gray;box-sizing: border-box;top: 0;bottom: 0;left: 50%;z-index: 0;}#sk-container-id-1 div.sk-serial {display: flex;flex-direction: column;align-items: center;background-color: white;padding-right: 0.2em;padding-left: 0.2em;position: relative;}#sk-container-id-1 div.sk-item {position: relative;z-index: 1;}#sk-container-id-1 div.sk-parallel {display: flex;align-items: stretch;justify-content: center;background-color: white;position: relative;}#sk-container-id-1 div.sk-item::before, #sk-container-id-1 div.sk-parallel-item::before {content: \"\";position: absolute;border-left: 1px solid gray;box-sizing: border-box;top: 0;bottom: 0;left: 50%;z-index: -1;}#sk-container-id-1 div.sk-parallel-item {display: flex;flex-direction: column;z-index: 1;position: relative;background-color: white;}#sk-container-id-1 div.sk-parallel-item:first-child::after {align-self: flex-end;width: 50%;}#sk-container-id-1 div.sk-parallel-item:last-child::after {align-self: flex-start;width: 50%;}#sk-container-id-1 div.sk-parallel-item:only-child::after {width: 0;}#sk-container-id-1 div.sk-dashed-wrapped {border: 1px dashed gray;margin: 0 0.4em 0.5em 0.4em;box-sizing: border-box;padding-bottom: 0.4em;background-color: white;}#sk-container-id-1 div.sk-label label {font-family: monospace;font-weight: bold;display: inline-block;line-height: 1.2em;}#sk-container-id-1 div.sk-label-container {text-align: center;}#sk-container-id-1 div.sk-container {/* jupyter's `normalize.less` sets `[hidden] { display: none; }` but bootstrap.min.css set `[hidden] { display: none !important; }` so we also need the `!important` here to be able to override the default hidden behavior on the sphinx rendered scikit-learn.org. See: https://github.com/scikit-learn/scikit-learn/issues/21755 */display: inline-block !important;position: relative;}#sk-container-id-1 div.sk-text-repr-fallback {display: none;}</style><div id=\"sk-container-id-1\" class=\"sk-top-container\"><div class=\"sk-text-repr-fallback\"><pre>XGBRegressor(base_score=None, booster=None, callbacks=None,\n",
       "             colsample_bylevel=None, colsample_bynode=None,\n",
       "             colsample_bytree=None, device=None, early_stopping_rounds=None,\n",
       "             enable_categorical=False, eval_metric=None, feature_types=None,\n",
       "             gamma=None, grow_policy=None, importance_type=None,\n",
       "             interaction_constraints=None, learning_rate=None, max_bin=None,\n",
       "             max_cat_threshold=None, max_cat_to_onehot=None,\n",
       "             max_delta_step=None, max_depth=None, max_leaves=None,\n",
       "             min_child_weight=None, missing=nan, monotone_constraints=None,\n",
       "             multi_strategy=None, n_estimators=None, n_jobs=None,\n",
       "             num_parallel_tree=None, random_state=10, ...)</pre><b>In a Jupyter environment, please rerun this cell to show the HTML representation or trust the notebook. <br />On GitHub, the HTML representation is unable to render, please try loading this page with nbviewer.org.</b></div><div class=\"sk-container\" hidden><div class=\"sk-item\"><div class=\"sk-estimator sk-toggleable\"><input class=\"sk-toggleable__control sk-hidden--visually\" id=\"sk-estimator-id-1\" type=\"checkbox\" checked><label for=\"sk-estimator-id-1\" class=\"sk-toggleable__label sk-toggleable__label-arrow\">XGBRegressor</label><div class=\"sk-toggleable__content\"><pre>XGBRegressor(base_score=None, booster=None, callbacks=None,\n",
       "             colsample_bylevel=None, colsample_bynode=None,\n",
       "             colsample_bytree=None, device=None, early_stopping_rounds=None,\n",
       "             enable_categorical=False, eval_metric=None, feature_types=None,\n",
       "             gamma=None, grow_policy=None, importance_type=None,\n",
       "             interaction_constraints=None, learning_rate=None, max_bin=None,\n",
       "             max_cat_threshold=None, max_cat_to_onehot=None,\n",
       "             max_delta_step=None, max_depth=None, max_leaves=None,\n",
       "             min_child_weight=None, missing=nan, monotone_constraints=None,\n",
       "             multi_strategy=None, n_estimators=None, n_jobs=None,\n",
       "             num_parallel_tree=None, random_state=10, ...)</pre></div></div></div></div></div>"
      ],
      "text/plain": [
       "XGBRegressor(base_score=None, booster=None, callbacks=None,\n",
       "             colsample_bylevel=None, colsample_bynode=None,\n",
       "             colsample_bytree=None, device=None, early_stopping_rounds=None,\n",
       "             enable_categorical=False, eval_metric=None, feature_types=None,\n",
       "             gamma=None, grow_policy=None, importance_type=None,\n",
       "             interaction_constraints=None, learning_rate=None, max_bin=None,\n",
       "             max_cat_threshold=None, max_cat_to_onehot=None,\n",
       "             max_delta_step=None, max_depth=None, max_leaves=None,\n",
       "             min_child_weight=None, missing=nan, monotone_constraints=None,\n",
       "             multi_strategy=None, n_estimators=None, n_jobs=None,\n",
       "             num_parallel_tree=None, random_state=10, ...)"
      ]
     },
     "execution_count": 20,
     "metadata": {},
     "output_type": "execute_result"
    }
   ],
   "source": [
    "regressor.fit(X_train, y_train)\n",
    "xgboost.fit(X_train, y_train)"
   ]
  },
  {
   "cell_type": "markdown",
   "id": "96d4e910",
   "metadata": {
    "papermill": {
     "duration": 0.008488,
     "end_time": "2024-03-08T11:32:29.150880",
     "exception": false,
     "start_time": "2024-03-08T11:32:29.142392",
     "status": "completed"
    },
    "tags": []
   },
   "source": [
    "**Model Evaluation for RandomForest**"
   ]
  },
  {
   "cell_type": "code",
   "execution_count": 21,
   "id": "9e8540d2",
   "metadata": {
    "execution": {
     "iopub.execute_input": "2024-03-08T11:32:29.170318Z",
     "iopub.status.busy": "2024-03-08T11:32:29.169178Z",
     "iopub.status.idle": "2024-03-08T11:32:29.193767Z",
     "shell.execute_reply": "2024-03-08T11:32:29.192807Z"
    },
    "papermill": {
     "duration": 0.03597,
     "end_time": "2024-03-08T11:32:29.195458",
     "exception": false,
     "start_time": "2024-03-08T11:32:29.159488",
     "status": "completed"
    },
    "tags": []
   },
   "outputs": [
    {
     "name": "stdout",
     "output_type": "stream",
     "text": [
      "train_mean_absolute_error:  0.15835886214442008\n",
      "test_mean_absolute_error:  0.45240174672489086\n"
     ]
    }
   ],
   "source": [
    "train_regressor_predictions = regressor.predict(X_train)\n",
    "train_mean_absolute_error = mean_absolute_error(y_train, train_regressor_predictions)\n",
    "\n",
    "test_regressor_predictions = regressor.predict(X_test)\n",
    "test_mean_absolute_error = mean_absolute_error(y_test, test_regressor_predictions)\n",
    "\n",
    "print('train_mean_absolute_error: ',train_mean_absolute_error)\n",
    "print('test_mean_absolute_error: ',test_mean_absolute_error)"
   ]
  },
  {
   "cell_type": "markdown",
   "id": "ad407b17",
   "metadata": {
    "papermill": {
     "duration": 0.008589,
     "end_time": "2024-03-08T11:32:29.213135",
     "exception": false,
     "start_time": "2024-03-08T11:32:29.204546",
     "status": "completed"
    },
    "tags": []
   },
   "source": [
    "**Model Evaluation for XGBOOST**"
   ]
  },
  {
   "cell_type": "code",
   "execution_count": 22,
   "id": "22a6bfeb",
   "metadata": {
    "execution": {
     "iopub.execute_input": "2024-03-08T11:32:29.232817Z",
     "iopub.status.busy": "2024-03-08T11:32:29.231945Z",
     "iopub.status.idle": "2024-03-08T11:32:29.246235Z",
     "shell.execute_reply": "2024-03-08T11:32:29.245446Z"
    },
    "papermill": {
     "duration": 0.025963,
     "end_time": "2024-03-08T11:32:29.247985",
     "exception": false,
     "start_time": "2024-03-08T11:32:29.222022",
     "status": "completed"
    },
    "tags": []
   },
   "outputs": [
    {
     "name": "stdout",
     "output_type": "stream",
     "text": [
      "train_xgboost_mean_absolute_error:  0.013731052630318073\n",
      "test_xgboost_mean_absolute_error:  0.44128931661880694\n"
     ]
    }
   ],
   "source": [
    "train_xgboost_predictions = xgboost.predict(X_train)\n",
    "train_xgboost_mean_absolute_error = mean_absolute_error(y_train, train_xgboost_predictions)\n",
    "\n",
    "test_xgboost_predictions = xgboost.predict(X_test)\n",
    "test_xgboost_mean_absolute_error = mean_absolute_error(y_test, test_xgboost_predictions)\n",
    "\n",
    "print('train_xgboost_mean_absolute_error: ',train_xgboost_mean_absolute_error)\n",
    "print('test_xgboost_mean_absolute_error: ',test_xgboost_mean_absolute_error)"
   ]
  },
  {
   "cell_type": "markdown",
   "id": "97e11738",
   "metadata": {
    "papermill": {
     "duration": 0.008528,
     "end_time": "2024-03-08T11:32:29.266011",
     "exception": false,
     "start_time": "2024-03-08T11:32:29.257483",
     "status": "completed"
    },
    "tags": []
   },
   "source": [
    "## **Hyper parameter tunning**"
   ]
  },
  {
   "cell_type": "code",
   "execution_count": 23,
   "id": "f052579e",
   "metadata": {
    "execution": {
     "iopub.execute_input": "2024-03-08T11:32:29.285012Z",
     "iopub.status.busy": "2024-03-08T11:32:29.284549Z",
     "iopub.status.idle": "2024-03-08T11:32:29.289099Z",
     "shell.execute_reply": "2024-03-08T11:32:29.288483Z"
    },
    "papermill": {
     "duration": 0.015875,
     "end_time": "2024-03-08T11:32:29.290669",
     "exception": false,
     "start_time": "2024-03-08T11:32:29.274794",
     "status": "completed"
    },
    "tags": []
   },
   "outputs": [],
   "source": [
    "def score(X_train, y_train, X_test, y_test, model_name, n_estimators):\n",
    "    model = model_name(n_estimators=n_estimators, random_state=10)\n",
    "    model.fit(X_train, y_train)\n",
    "    predictions = model.predict(X_test)\n",
    "    mae = mean_absolute_error(y_test, predictions)\n",
    "    return mae"
   ]
  },
  {
   "cell_type": "code",
   "execution_count": 24,
   "id": "4803767c",
   "metadata": {
    "execution": {
     "iopub.execute_input": "2024-03-08T11:32:29.309653Z",
     "iopub.status.busy": "2024-03-08T11:32:29.309143Z",
     "iopub.status.idle": "2024-03-08T11:33:24.989393Z",
     "shell.execute_reply": "2024-03-08T11:33:24.988541Z"
    },
    "papermill": {
     "duration": 55.692017,
     "end_time": "2024-03-08T11:33:24.991550",
     "exception": false,
     "start_time": "2024-03-08T11:32:29.299533",
     "status": "completed"
    },
    "tags": []
   },
   "outputs": [],
   "source": [
    "randomForest_result = {n_estimators: score(X_train, y_train, X_test, y_test, RandomForestRegressor, n_estimators) for n_estimators in np.arange(50, 1001, 50)}\n",
    "xgboost_result = {n_estimators: score(X_train, y_train, X_test, y_test, XGBRegressor, n_estimators) for n_estimators in np.arange(50, 1001, 50)}"
   ]
  },
  {
   "cell_type": "code",
   "execution_count": 25,
   "id": "2e0a0fa9",
   "metadata": {
    "execution": {
     "iopub.execute_input": "2024-03-08T11:33:25.011174Z",
     "iopub.status.busy": "2024-03-08T11:33:25.010861Z",
     "iopub.status.idle": "2024-03-08T11:33:25.190569Z",
     "shell.execute_reply": "2024-03-08T11:33:25.188655Z"
    },
    "papermill": {
     "duration": 0.191469,
     "end_time": "2024-03-08T11:33:25.192659",
     "exception": false,
     "start_time": "2024-03-08T11:33:25.001190",
     "status": "completed"
    },
    "tags": []
   },
   "outputs": [
    {
     "data": {
      "text/plain": [
       "[<matplotlib.lines.Line2D at 0x78b28337f4c0>]"
      ]
     },
     "execution_count": 25,
     "metadata": {},
     "output_type": "execute_result"
    },
    {
     "data": {
      "image/png": "[encoded data removed]",
      "text/plain": [
       "<Figure size 640x480 with 1 Axes>"
      ]
     },
     "metadata": {},
     "output_type": "display_data"
    }
   ],
   "source": [
    "# RandomForest score performance\n",
    "plt.plot(randomForest_result.keys(), randomForest_result.values(), marker='o')"
   ]
  },
  {
   "cell_type": "code",
   "execution_count": 26,
   "id": "bd041fa1",
   "metadata": {
    "execution": {
     "iopub.execute_input": "2024-03-08T11:33:25.214358Z",
     "iopub.status.busy": "2024-03-08T11:33:25.213523Z",
     "iopub.status.idle": "2024-03-08T11:33:25.358138Z",
     "shell.execute_reply": "2024-03-08T11:33:25.357297Z"
    },
    "papermill": {
     "duration": 0.157162,
     "end_time": "2024-03-08T11:33:25.359874",
     "exception": false,
     "start_time": "2024-03-08T11:33:25.202712",
     "status": "completed"
    },
    "tags": []
   },
   "outputs": [
    {
     "data": {
      "text/plain": [
       "[<matplotlib.lines.Line2D at 0x78b281a7d510>]"
      ]
     },
     "execution_count": 26,
     "metadata": {},
     "output_type": "execute_result"
    },
    {
     "data": {
      "image/png": "[encoded data removed]",
      "text/plain": [
       "<Figure size 640x480 with 1 Axes>"
      ]
     },
     "metadata": {},
     "output_type": "display_data"
    }
   ],
   "source": [
    "# XGBOOST score performance\n",
    "plt.plot(xgboost_result.keys(), xgboost_result.values(), marker='o')"
   ]
  },
  {
   "cell_type": "markdown",
   "id": "1c72a3c1",
   "metadata": {
    "papermill": {
     "duration": 0.009408,
     "end_time": "2024-03-08T11:33:25.379231",
     "exception": false,
     "start_time": "2024-03-08T11:33:25.369823",
     "status": "completed"
    },
    "tags": []
   },
   "source": [
    "# **Final Prediction**"
   ]
  },
  {
   "cell_type": "code",
   "execution_count": 27,
   "id": "9c97a652",
   "metadata": {
    "execution": {
     "iopub.execute_input": "2024-03-08T11:33:25.400773Z",
     "iopub.status.busy": "2024-03-08T11:33:25.400197Z",
     "iopub.status.idle": "2024-03-08T11:33:25.566170Z",
     "shell.execute_reply": "2024-03-08T11:33:25.565513Z"
    },
    "papermill": {
     "duration": 0.178957,
     "end_time": "2024-03-08T11:33:25.567953",
     "exception": false,
     "start_time": "2024-03-08T11:33:25.388996",
     "status": "completed"
    },
    "tags": []
   },
   "outputs": [
    {
     "name": "stdout",
     "output_type": "stream",
     "text": [
      "train_xgboost_mean_absolute_error:  0.0009043613200114645\n",
      "test_xgboost_mean_absolute_error:  0.44005520375014395\n"
     ]
    }
   ],
   "source": [
    "xgboost_model = XGBRegressor(n_estimators=200, random_state=10)\n",
    "xgboost_model.fit(X_train, y_train)\n",
    "\n",
    "train_xgboost_predictions = xgboost_model.predict(X_train)\n",
    "train_xgboost_mean_absolute_error = mean_absolute_error(y_train, train_xgboost_predictions)\n",
    "\n",
    "test_xgboost_predictions = xgboost_model.predict(X_test)\n",
    "test_xgboost_mean_absolute_error = mean_absolute_error(y_test, test_xgboost_predictions)\n",
    "\n",
    "print('train_xgboost_mean_absolute_error: ',train_xgboost_mean_absolute_error)\n",
    "print('test_xgboost_mean_absolute_error: ',test_xgboost_mean_absolute_error)"
   ]
  },
  {
   "cell_type": "code",
   "execution_count": null,
   "id": "4e5c0d7a",
   "metadata": {
    "papermill": {
     "duration": 0.009714,
     "end_time": "2024-03-08T11:33:25.587857",
     "exception": false,
     "start_time": "2024-03-08T11:33:25.578143",
     "status": "completed"
    },
    "tags": []
   },
   "outputs": [],
   "source": []
  }
 ],
 "metadata": {
  "kaggle": {
   "accelerator": "none",
   "dataSources": [
    {
     "datasetId": 1866301,
     "sourceId": 3047725,
     "sourceType": "datasetVersion"
    }
   ],
   "dockerImageVersionId": 30664,
   "isGpuEnabled": false,
   "isInternetEnabled": true,
   "language": "python",
   "sourceType": "notebook"
  },
  "kernelspec": {
   "display_name": "Python 3",
   "language": "python",
   "name": "python3"
  },
  "language_info": {
   "codemirror_mode": {
    "name": "ipython",
    "version": 3
   },
   "file_extension": ".py",
   "mimetype": "text/x-python",
   "name": "python",
   "nbconvert_exporter": "python",
   "pygments_lexer": "ipython3",
   "version": "3.10.13"
  },
  "papermill": {
   "default_parameters": {},
   "duration": 63.481532,
   "end_time": "2024-03-08T11:33:26.115925",
   "environment_variables": {},
   "exception": null,
   "input_path": "__notebook__.ipynb",
   "output_path": "__notebook__.ipynb",
   "parameters": {},
   "start_time": "2024-03-08T11:32:22.634393",
   "version": "2.5.0"
  }
 },
 "nbformat": 4,
 "nbformat_minor": 5
}
