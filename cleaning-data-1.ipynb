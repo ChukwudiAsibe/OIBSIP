{
 "cells": [
  {
   "cell_type": "code",
   "execution_count": 1,
   "id": "803b8fe3",
   "metadata": {
    "_cell_guid": "b1076dfc-b9ad-4769-8c92-a6c4dae69d19",
    "_uuid": "8f2839f25d086af736a60e9eeb907d3b93b6e0e5",
    "execution": {
     "iopub.execute_input": "2024-03-11T16:49:31.109188Z",
     "iopub.status.busy": "2024-03-11T16:49:31.108671Z",
     "iopub.status.idle": "2024-03-11T16:49:32.189537Z",
     "shell.execute_reply": "2024-03-11T16:49:32.187832Z"
    },
    "papermill": {
     "duration": 1.097402,
     "end_time": "2024-03-11T16:49:32.192380",
     "exception": false,
     "start_time": "2024-03-11T16:49:31.094978",
     "status": "completed"
    },
    "tags": []
   },
   "outputs": [
    {
     "name": "stdout",
     "output_type": "stream",
     "text": [
      "/kaggle/input/new-york-city-airbnb-open-data/AB_NYC_2019.csv\n",
      "/kaggle/input/new-york-city-airbnb-open-data/New_York_City_.png\n"
     ]
    }
   ],
   "source": [
    "# This Python 3 environment comes with many helpful analytics libraries installed\n",
    "# It is defined by the kaggle/python Docker image: https://github.com/kaggle/docker-python\n",
    "# For example, here's several helpful packages to load\n",
    "\n",
    "import numpy as np # linear algebra\n",
    "import pandas as pd # data processing, CSV file I/O (e.g. pd.read_csv)\n",
    "\n",
    "# Input data files are available in the read-only \"../input/\" directory\n",
    "# For example, running this (by clicking run or pressing Shift+Enter) will list all files under the input directory\n",
    "\n",
    "import os\n",
    "for dirname, _, filenames in os.walk('/kaggle/input'):\n",
    "    for filename in filenames:\n",
    "        print(os.path.join(dirname, filename))\n",
    "\n",
    "# You can write up to 20GB to the current directory (/kaggle/working/) that gets preserved as output when you create a version using \"Save & Run All\" \n",
    "# You can also write temporary files to /kaggle/temp/, but they won't be saved outside of the current session"
   ]
  },
  {
   "cell_type": "code",
   "execution_count": 2,
   "id": "bd4fed21",
   "metadata": {
    "execution": {
     "iopub.execute_input": "2024-03-11T16:49:32.216690Z",
     "iopub.status.busy": "2024-03-11T16:49:32.215398Z",
     "iopub.status.idle": "2024-03-11T16:49:33.814573Z",
     "shell.execute_reply": "2024-03-11T16:49:33.812956Z"
    },
    "papermill": {
     "duration": 1.614483,
     "end_time": "2024-03-11T16:49:33.817939",
     "exception": false,
     "start_time": "2024-03-11T16:49:32.203456",
     "status": "completed"
    },
    "tags": []
   },
   "outputs": [],
   "source": [
    "import matplotlib.pyplot as plt\n",
    "import seaborn as sns"
   ]
  },
  {
   "cell_type": "markdown",
   "id": "3c703e71",
   "metadata": {
    "papermill": {
     "duration": 0.010166,
     "end_time": "2024-03-11T16:49:33.838999",
     "exception": false,
     "start_time": "2024-03-11T16:49:33.828833",
     "status": "completed"
    },
    "tags": []
   },
   "source": [
    "### **Cleaning Data**\n",
    "\n",
    "\n",
    "\n",
    "**Description:**\n",
    "\n",
    "\n",
    "\n",
    "Data cleaning is the process of fixing or removing incorrect, corrupted, duplicate, or incomplete\n",
    "data within a dataset. Messy data leads to unreliable outcomes. Cleaning data is an essential\n",
    "part of data analysis, and demonstrating your data cleaning skills is key to landing a job. Here\n",
    "are some projects to test out your data cleaning skills: \n",
    "\n",
    "\n",
    "**Key Concepts and Challenges:**\n",
    "\n",
    "**Data Integrity:** Ensuring the accuracy, consistency, and reliability of data throughout the cleaning process.\n",
    "\n",
    "**Missing Data Handling:** Dealing with missing values by either imputing them or making informed decisions on how to handle gaps in the dataset.\n",
    "\n",
    "**Duplicate Removal:** Identifying and eliminating duplicate records to maintain data uniqueness.\n",
    "\n",
    "**Standardization:** Consistent formatting and units across the dataset for accurate analysis.\n",
    "\n",
    "**Outlier Detection:** Identifying and addressing outliers that may skew analysis or model performance."
   ]
  },
  {
   "cell_type": "markdown",
   "id": "750fbbc6",
   "metadata": {
    "papermill": {
     "duration": 0.010226,
     "end_time": "2024-03-11T16:49:33.859877",
     "exception": false,
     "start_time": "2024-03-11T16:49:33.849651",
     "status": "completed"
    },
    "tags": []
   },
   "source": [
    "![](/kaggle/input/new-york-city-airbnb-open-data/New_York_City_.png)"
   ]
  },
  {
   "cell_type": "code",
   "execution_count": 3,
   "id": "8ae8b2ad",
   "metadata": {
    "execution": {
     "iopub.execute_input": "2024-03-11T16:49:33.884079Z",
     "iopub.status.busy": "2024-03-11T16:49:33.883129Z",
     "iopub.status.idle": "2024-03-11T16:49:34.226833Z",
     "shell.execute_reply": "2024-03-11T16:49:34.225841Z"
    },
    "papermill": {
     "duration": 0.359255,
     "end_time": "2024-03-11T16:49:34.229816",
     "exception": false,
     "start_time": "2024-03-11T16:49:33.870561",
     "status": "completed"
    },
    "tags": []
   },
   "outputs": [],
   "source": [
    "df = pd.read_csv('/kaggle/input/new-york-city-airbnb-open-data/AB_NYC_2019.csv')"
   ]
  },
  {
   "cell_type": "code",
   "execution_count": 4,
   "id": "dfaba55e",
   "metadata": {
    "execution": {
     "iopub.execute_input": "2024-03-11T16:49:34.254391Z",
     "iopub.status.busy": "2024-03-11T16:49:34.252917Z",
     "iopub.status.idle": "2024-03-11T16:49:34.283417Z",
     "shell.execute_reply": "2024-03-11T16:49:34.282145Z"
    },
    "papermill": {
     "duration": 0.045287,
     "end_time": "2024-03-11T16:49:34.286163",
     "exception": false,
     "start_time": "2024-03-11T16:49:34.240876",
     "status": "completed"
    },
    "tags": []
   },
   "outputs": [
    {
     "data": {
      "text/html": [
       "<div>\n",
       "<style scoped>\n",
       "    .dataframe tbody tr th:only-of-type {\n",
       "        vertical-align: middle;\n",
       "    }\n",
       "\n",
       "    .dataframe tbody tr th {\n",
       "        vertical-align: top;\n",
       "    }\n",
       "\n",
       "    .dataframe thead th {\n",
       "        text-align: right;\n",
       "    }\n",
       "</style>\n",
       "<table border=\"1\" class=\"dataframe\">\n",
       "  <thead>\n",
       "    <tr style=\"text-align: right;\">\n",
       "      <th></th>\n",
       "      <th>id</th>\n",
       "      <th>name</th>\n",
       "      <th>host_id</th>\n",
       "      <th>host_name</th>\n",
       "      <th>neighbourhood_group</th>\n",
       "      <th>neighbourhood</th>\n",
       "      <th>latitude</th>\n",
       "      <th>longitude</th>\n",
       "      <th>room_type</th>\n",
       "      <th>price</th>\n",
       "      <th>minimum_nights</th>\n",
       "      <th>number_of_reviews</th>\n",
       "      <th>last_review</th>\n",
       "      <th>reviews_per_month</th>\n",
       "      <th>calculated_host_listings_count</th>\n",
       "      <th>availability_365</th>\n",
       "    </tr>\n",
       "  </thead>\n",
       "  <tbody>\n",
       "    <tr>\n",
       "      <th>0</th>\n",
       "      <td>2539</td>\n",
       "      <td>Clean &amp; quiet apt home by the park</td>\n",
       "      <td>2787</td>\n",
       "      <td>John</td>\n",
       "      <td>Brooklyn</td>\n",
       "      <td>Kensington</td>\n",
       "      <td>40.64749</td>\n",
       "      <td>-73.97237</td>\n",
       "      <td>Private room</td>\n",
       "      <td>149</td>\n",
       "      <td>1</td>\n",
       "      <td>9</td>\n",
       "      <td>2018-10-19</td>\n",
       "      <td>0.21</td>\n",
       "      <td>6</td>\n",
       "      <td>365</td>\n",
       "    </tr>\n",
       "    <tr>\n",
       "      <th>1</th>\n",
       "      <td>2595</td>\n",
       "      <td>Skylit Midtown Castle</td>\n",
       "      <td>2845</td>\n",
       "      <td>Jennifer</td>\n",
       "      <td>Manhattan</td>\n",
       "      <td>Midtown</td>\n",
       "      <td>40.75362</td>\n",
       "      <td>-73.98377</td>\n",
       "      <td>Entire home/apt</td>\n",
       "      <td>225</td>\n",
       "      <td>1</td>\n",
       "      <td>45</td>\n",
       "      <td>2019-05-21</td>\n",
       "      <td>0.38</td>\n",
       "      <td>2</td>\n",
       "      <td>355</td>\n",
       "    </tr>\n",
       "    <tr>\n",
       "      <th>2</th>\n",
       "      <td>3647</td>\n",
       "      <td>THE VILLAGE OF HARLEM....NEW YORK !</td>\n",
       "      <td>4632</td>\n",
       "      <td>Elisabeth</td>\n",
       "      <td>Manhattan</td>\n",
       "      <td>Harlem</td>\n",
       "      <td>40.80902</td>\n",
       "      <td>-73.94190</td>\n",
       "      <td>Private room</td>\n",
       "      <td>150</td>\n",
       "      <td>3</td>\n",
       "      <td>0</td>\n",
       "      <td>NaN</td>\n",
       "      <td>NaN</td>\n",
       "      <td>1</td>\n",
       "      <td>365</td>\n",
       "    </tr>\n",
       "    <tr>\n",
       "      <th>3</th>\n",
       "      <td>3831</td>\n",
       "      <td>Cozy Entire Floor of Brownstone</td>\n",
       "      <td>4869</td>\n",
       "      <td>LisaRoxanne</td>\n",
       "      <td>Brooklyn</td>\n",
       "      <td>Clinton Hill</td>\n",
       "      <td>40.68514</td>\n",
       "      <td>-73.95976</td>\n",
       "      <td>Entire home/apt</td>\n",
       "      <td>89</td>\n",
       "      <td>1</td>\n",
       "      <td>270</td>\n",
       "      <td>2019-07-05</td>\n",
       "      <td>4.64</td>\n",
       "      <td>1</td>\n",
       "      <td>194</td>\n",
       "    </tr>\n",
       "    <tr>\n",
       "      <th>4</th>\n",
       "      <td>5022</td>\n",
       "      <td>Entire Apt: Spacious Studio/Loft by central park</td>\n",
       "      <td>7192</td>\n",
       "      <td>Laura</td>\n",
       "      <td>Manhattan</td>\n",
       "      <td>East Harlem</td>\n",
       "      <td>40.79851</td>\n",
       "      <td>-73.94399</td>\n",
       "      <td>Entire home/apt</td>\n",
       "      <td>80</td>\n",
       "      <td>10</td>\n",
       "      <td>9</td>\n",
       "      <td>2018-11-19</td>\n",
       "      <td>0.10</td>\n",
       "      <td>1</td>\n",
       "      <td>0</td>\n",
       "    </tr>\n",
       "  </tbody>\n",
       "</table>\n",
       "</div>"
      ],
      "text/plain": [
       "     id                                              name  host_id  \\\n",
       "0  2539                Clean & quiet apt home by the park     2787   \n",
       "1  2595                             Skylit Midtown Castle     2845   \n",
       "2  3647               THE VILLAGE OF HARLEM....NEW YORK !     4632   \n",
       "3  3831                   Cozy Entire Floor of Brownstone     4869   \n",
       "4  5022  Entire Apt: Spacious Studio/Loft by central park     7192   \n",
       "\n",
       "     host_name neighbourhood_group neighbourhood  latitude  longitude  \\\n",
       "0         John            Brooklyn    Kensington  40.64749  -73.97237   \n",
       "1     Jennifer           Manhattan       Midtown  40.75362  -73.98377   \n",
       "2    Elisabeth           Manhattan        Harlem  40.80902  -73.94190   \n",
       "3  LisaRoxanne            Brooklyn  Clinton Hill  40.68514  -73.95976   \n",
       "4        Laura           Manhattan   East Harlem  40.79851  -73.94399   \n",
       "\n",
       "         room_type  price  minimum_nights  number_of_reviews last_review  \\\n",
       "0     Private room    149               1                  9  2018-10-19   \n",
       "1  Entire home/apt    225               1                 45  2019-05-21   \n",
       "2     Private room    150               3                  0         NaN   \n",
       "3  Entire home/apt     89               1                270  2019-07-05   \n",
       "4  Entire home/apt     80              10                  9  2018-11-19   \n",
       "\n",
       "   reviews_per_month  calculated_host_listings_count  availability_365  \n",
       "0               0.21                               6               365  \n",
       "1               0.38                               2               355  \n",
       "2                NaN                               1               365  \n",
       "3               4.64                               1               194  \n",
       "4               0.10                               1                 0  "
      ]
     },
     "execution_count": 4,
     "metadata": {},
     "output_type": "execute_result"
    }
   ],
   "source": [
    "df.head()"
   ]
  },
  {
   "cell_type": "code",
   "execution_count": 5,
   "id": "b5e89eec",
   "metadata": {
    "execution": {
     "iopub.execute_input": "2024-03-11T16:49:34.310200Z",
     "iopub.status.busy": "2024-03-11T16:49:34.309762Z",
     "iopub.status.idle": "2024-03-11T16:49:34.317433Z",
     "shell.execute_reply": "2024-03-11T16:49:34.316121Z"
    },
    "papermill": {
     "duration": 0.022886,
     "end_time": "2024-03-11T16:49:34.320126",
     "exception": false,
     "start_time": "2024-03-11T16:49:34.297240",
     "status": "completed"
    },
    "tags": []
   },
   "outputs": [
    {
     "data": {
      "text/plain": [
       "(48895, 16)"
      ]
     },
     "execution_count": 5,
     "metadata": {},
     "output_type": "execute_result"
    }
   ],
   "source": [
    "df.shape"
   ]
  },
  {
   "cell_type": "markdown",
   "id": "98b17b7e",
   "metadata": {
    "papermill": {
     "duration": 0.010295,
     "end_time": "2024-03-11T16:49:34.342255",
     "exception": false,
     "start_time": "2024-03-11T16:49:34.331960",
     "status": "completed"
    },
    "tags": []
   },
   "source": [
    "**Miising Values**"
   ]
  },
  {
   "cell_type": "code",
   "execution_count": 6,
   "id": "5d680706",
   "metadata": {
    "execution": {
     "iopub.execute_input": "2024-03-11T16:49:34.365662Z",
     "iopub.status.busy": "2024-03-11T16:49:34.365167Z",
     "iopub.status.idle": "2024-03-11T16:49:34.408425Z",
     "shell.execute_reply": "2024-03-11T16:49:34.407145Z"
    },
    "papermill": {
     "duration": 0.05865,
     "end_time": "2024-03-11T16:49:34.411459",
     "exception": false,
     "start_time": "2024-03-11T16:49:34.352809",
     "status": "completed"
    },
    "tags": []
   },
   "outputs": [
    {
     "data": {
      "text/plain": [
       "id                                False\n",
       "name                               True\n",
       "host_id                           False\n",
       "host_name                          True\n",
       "neighbourhood_group               False\n",
       "neighbourhood                     False\n",
       "latitude                          False\n",
       "longitude                         False\n",
       "room_type                         False\n",
       "price                             False\n",
       "minimum_nights                    False\n",
       "number_of_reviews                 False\n",
       "last_review                        True\n",
       "reviews_per_month                  True\n",
       "calculated_host_listings_count    False\n",
       "availability_365                  False\n",
       "dtype: bool"
      ]
     },
     "execution_count": 6,
     "metadata": {},
     "output_type": "execute_result"
    }
   ],
   "source": [
    "# Columns missing values report\n",
    "df.isna().any()"
   ]
  },
  {
   "cell_type": "code",
   "execution_count": 7,
   "id": "7e7ec7da",
   "metadata": {
    "execution": {
     "iopub.execute_input": "2024-03-11T16:49:34.436631Z",
     "iopub.status.busy": "2024-03-11T16:49:34.435857Z",
     "iopub.status.idle": "2024-03-11T16:49:34.489296Z",
     "shell.execute_reply": "2024-03-11T16:49:34.488157Z"
    },
    "papermill": {
     "duration": 0.068991,
     "end_time": "2024-03-11T16:49:34.491721",
     "exception": false,
     "start_time": "2024-03-11T16:49:34.422730",
     "status": "completed"
    },
    "tags": []
   },
   "outputs": [
    {
     "data": {
      "text/html": [
       "<div>\n",
       "<style scoped>\n",
       "    .dataframe tbody tr th:only-of-type {\n",
       "        vertical-align: middle;\n",
       "    }\n",
       "\n",
       "    .dataframe tbody tr th {\n",
       "        vertical-align: top;\n",
       "    }\n",
       "\n",
       "    .dataframe thead th {\n",
       "        text-align: right;\n",
       "    }\n",
       "</style>\n",
       "<table border=\"1\" class=\"dataframe\">\n",
       "  <thead>\n",
       "    <tr style=\"text-align: right;\">\n",
       "      <th></th>\n",
       "      <th>features</th>\n",
       "      <th>num_mising_values</th>\n",
       "      <th>mising values in Perct</th>\n",
       "    </tr>\n",
       "  </thead>\n",
       "  <tbody>\n",
       "    <tr>\n",
       "      <th>0</th>\n",
       "      <td>id</td>\n",
       "      <td>0</td>\n",
       "      <td>0.00</td>\n",
       "    </tr>\n",
       "    <tr>\n",
       "      <th>1</th>\n",
       "      <td>name</td>\n",
       "      <td>16</td>\n",
       "      <td>0.03</td>\n",
       "    </tr>\n",
       "    <tr>\n",
       "      <th>2</th>\n",
       "      <td>host_id</td>\n",
       "      <td>0</td>\n",
       "      <td>0.00</td>\n",
       "    </tr>\n",
       "    <tr>\n",
       "      <th>3</th>\n",
       "      <td>host_name</td>\n",
       "      <td>21</td>\n",
       "      <td>0.04</td>\n",
       "    </tr>\n",
       "    <tr>\n",
       "      <th>4</th>\n",
       "      <td>neighbourhood_group</td>\n",
       "      <td>0</td>\n",
       "      <td>0.00</td>\n",
       "    </tr>\n",
       "    <tr>\n",
       "      <th>5</th>\n",
       "      <td>neighbourhood</td>\n",
       "      <td>0</td>\n",
       "      <td>0.00</td>\n",
       "    </tr>\n",
       "    <tr>\n",
       "      <th>6</th>\n",
       "      <td>latitude</td>\n",
       "      <td>0</td>\n",
       "      <td>0.00</td>\n",
       "    </tr>\n",
       "    <tr>\n",
       "      <th>7</th>\n",
       "      <td>longitude</td>\n",
       "      <td>0</td>\n",
       "      <td>0.00</td>\n",
       "    </tr>\n",
       "    <tr>\n",
       "      <th>8</th>\n",
       "      <td>room_type</td>\n",
       "      <td>0</td>\n",
       "      <td>0.00</td>\n",
       "    </tr>\n",
       "    <tr>\n",
       "      <th>9</th>\n",
       "      <td>price</td>\n",
       "      <td>0</td>\n",
       "      <td>0.00</td>\n",
       "    </tr>\n",
       "    <tr>\n",
       "      <th>10</th>\n",
       "      <td>minimum_nights</td>\n",
       "      <td>0</td>\n",
       "      <td>0.00</td>\n",
       "    </tr>\n",
       "    <tr>\n",
       "      <th>11</th>\n",
       "      <td>number_of_reviews</td>\n",
       "      <td>0</td>\n",
       "      <td>0.00</td>\n",
       "    </tr>\n",
       "    <tr>\n",
       "      <th>12</th>\n",
       "      <td>last_review</td>\n",
       "      <td>10052</td>\n",
       "      <td>20.56</td>\n",
       "    </tr>\n",
       "    <tr>\n",
       "      <th>13</th>\n",
       "      <td>reviews_per_month</td>\n",
       "      <td>10052</td>\n",
       "      <td>20.56</td>\n",
       "    </tr>\n",
       "    <tr>\n",
       "      <th>14</th>\n",
       "      <td>calculated_host_listings_count</td>\n",
       "      <td>0</td>\n",
       "      <td>0.00</td>\n",
       "    </tr>\n",
       "    <tr>\n",
       "      <th>15</th>\n",
       "      <td>availability_365</td>\n",
       "      <td>0</td>\n",
       "      <td>0.00</td>\n",
       "    </tr>\n",
       "  </tbody>\n",
       "</table>\n",
       "</div>"
      ],
      "text/plain": [
       "                          features  num_mising_values  mising values in Perct\n",
       "0                               id                  0                    0.00\n",
       "1                             name                 16                    0.03\n",
       "2                          host_id                  0                    0.00\n",
       "3                        host_name                 21                    0.04\n",
       "4              neighbourhood_group                  0                    0.00\n",
       "5                    neighbourhood                  0                    0.00\n",
       "6                         latitude                  0                    0.00\n",
       "7                        longitude                  0                    0.00\n",
       "8                        room_type                  0                    0.00\n",
       "9                            price                  0                    0.00\n",
       "10                  minimum_nights                  0                    0.00\n",
       "11               number_of_reviews                  0                    0.00\n",
       "12                     last_review              10052                   20.56\n",
       "13               reviews_per_month              10052                   20.56\n",
       "14  calculated_host_listings_count                  0                    0.00\n",
       "15                availability_365                  0                    0.00"
      ]
     },
     "execution_count": 7,
     "metadata": {},
     "output_type": "execute_result"
    }
   ],
   "source": [
    "# Columns missing values Evaluation\n",
    "missing_columns_evalution = df.isna().sum().reset_index().rename(columns={'index':'features', 0:'num_mising_values'})\n",
    "missing_columns_evalution['mising values in Perct'] = round(missing_columns_evalution.num_mising_values / df.shape[0] * 100, 2)\n",
    "missing_columns_evalution"
   ]
  },
  {
   "cell_type": "code",
   "execution_count": 8,
   "id": "c0c263ac",
   "metadata": {
    "execution": {
     "iopub.execute_input": "2024-03-11T16:49:34.517676Z",
     "iopub.status.busy": "2024-03-11T16:49:34.517266Z",
     "iopub.status.idle": "2024-03-11T16:49:34.559941Z",
     "shell.execute_reply": "2024-03-11T16:49:34.558774Z"
    },
    "papermill": {
     "duration": 0.058766,
     "end_time": "2024-03-11T16:49:34.562870",
     "exception": false,
     "start_time": "2024-03-11T16:49:34.504104",
     "status": "completed"
    },
    "tags": []
   },
   "outputs": [
    {
     "data": {
      "text/plain": [
       "['name', 'host_name', 'last_review', 'reviews_per_month']"
      ]
     },
     "execution_count": 8,
     "metadata": {},
     "output_type": "execute_result"
    }
   ],
   "source": [
    "col_with_mising_values = [col for col in df.columns if df[col].isna().any() == True]\n",
    "col_with_mising_values"
   ]
  },
  {
   "cell_type": "code",
   "execution_count": 9,
   "id": "e533e080",
   "metadata": {
    "execution": {
     "iopub.execute_input": "2024-03-11T16:49:34.588231Z",
     "iopub.status.busy": "2024-03-11T16:49:34.587747Z",
     "iopub.status.idle": "2024-03-11T16:49:34.620665Z",
     "shell.execute_reply": "2024-03-11T16:49:34.619495Z"
    },
    "papermill": {
     "duration": 0.049555,
     "end_time": "2024-03-11T16:49:34.623982",
     "exception": false,
     "start_time": "2024-03-11T16:49:34.574427",
     "status": "completed"
    },
    "tags": []
   },
   "outputs": [],
   "source": [
    "df.dropna(subset=['name', 'host_name'], how='any', axis=0, inplace=True,)"
   ]
  },
  {
   "cell_type": "code",
   "execution_count": 10,
   "id": "84f9ea3b",
   "metadata": {
    "execution": {
     "iopub.execute_input": "2024-03-11T16:49:34.650251Z",
     "iopub.status.busy": "2024-03-11T16:49:34.649855Z",
     "iopub.status.idle": "2024-03-11T16:49:34.730280Z",
     "shell.execute_reply": "2024-03-11T16:49:34.728896Z"
    },
    "papermill": {
     "duration": 0.096988,
     "end_time": "2024-03-11T16:49:34.733694",
     "exception": false,
     "start_time": "2024-03-11T16:49:34.636706",
     "status": "completed"
    },
    "tags": []
   },
   "outputs": [
    {
     "name": "stderr",
     "output_type": "stream",
     "text": [
      "/tmp/ipykernel_18/3970806690.py:1: FutureWarning: DataFrame.fillna with 'method' is deprecated and will raise in a future version. Use obj.ffill() or obj.bfill() instead.\n",
      "  df.fillna(method='ffill', inplace=True)\n"
     ]
    }
   ],
   "source": [
    "df.fillna(method='ffill', inplace=True)"
   ]
  },
  {
   "cell_type": "code",
   "execution_count": 11,
   "id": "42f88869",
   "metadata": {
    "execution": {
     "iopub.execute_input": "2024-03-11T16:49:34.760112Z",
     "iopub.status.busy": "2024-03-11T16:49:34.759599Z",
     "iopub.status.idle": "2024-03-11T16:49:34.804393Z",
     "shell.execute_reply": "2024-03-11T16:49:34.803218Z"
    },
    "papermill": {
     "duration": 0.061266,
     "end_time": "2024-03-11T16:49:34.807084",
     "exception": false,
     "start_time": "2024-03-11T16:49:34.745818",
     "status": "completed"
    },
    "tags": []
   },
   "outputs": [
    {
     "data": {
      "text/plain": [
       "id                                0\n",
       "name                              0\n",
       "host_id                           0\n",
       "host_name                         0\n",
       "neighbourhood_group               0\n",
       "neighbourhood                     0\n",
       "latitude                          0\n",
       "longitude                         0\n",
       "room_type                         0\n",
       "price                             0\n",
       "minimum_nights                    0\n",
       "number_of_reviews                 0\n",
       "last_review                       0\n",
       "reviews_per_month                 0\n",
       "calculated_host_listings_count    0\n",
       "availability_365                  0\n",
       "dtype: int64"
      ]
     },
     "execution_count": 11,
     "metadata": {},
     "output_type": "execute_result"
    }
   ],
   "source": [
    "df.isna().sum()"
   ]
  },
  {
   "cell_type": "code",
   "execution_count": 12,
   "id": "41931d5a",
   "metadata": {
    "execution": {
     "iopub.execute_input": "2024-03-11T16:49:34.833943Z",
     "iopub.status.busy": "2024-03-11T16:49:34.832815Z",
     "iopub.status.idle": "2024-03-11T16:49:34.840533Z",
     "shell.execute_reply": "2024-03-11T16:49:34.839346Z"
    },
    "papermill": {
     "duration": 0.024287,
     "end_time": "2024-03-11T16:49:34.843223",
     "exception": false,
     "start_time": "2024-03-11T16:49:34.818936",
     "status": "completed"
    },
    "tags": []
   },
   "outputs": [
    {
     "data": {
      "text/plain": [
       "(48858, 16)"
      ]
     },
     "execution_count": 12,
     "metadata": {},
     "output_type": "execute_result"
    }
   ],
   "source": [
    "df.shape"
   ]
  },
  {
   "cell_type": "markdown",
   "id": "a5f50bf7",
   "metadata": {
    "papermill": {
     "duration": 0.011824,
     "end_time": "2024-03-11T16:49:34.867283",
     "exception": false,
     "start_time": "2024-03-11T16:49:34.855459",
     "status": "completed"
    },
    "tags": []
   },
   "source": [
    "**Standardization:**"
   ]
  },
  {
   "cell_type": "code",
   "execution_count": 13,
   "id": "baa0a3d6",
   "metadata": {
    "execution": {
     "iopub.execute_input": "2024-03-11T16:49:34.893629Z",
     "iopub.status.busy": "2024-03-11T16:49:34.893233Z",
     "iopub.status.idle": "2024-03-11T16:49:34.949420Z",
     "shell.execute_reply": "2024-03-11T16:49:34.948029Z"
    },
    "papermill": {
     "duration": 0.072954,
     "end_time": "2024-03-11T16:49:34.952380",
     "exception": false,
     "start_time": "2024-03-11T16:49:34.879426",
     "status": "completed"
    },
    "tags": []
   },
   "outputs": [
    {
     "name": "stdout",
     "output_type": "stream",
     "text": [
      "<class 'pandas.core.frame.DataFrame'>\n",
      "Index: 48858 entries, 0 to 48894\n",
      "Data columns (total 16 columns):\n",
      " #   Column                          Non-Null Count  Dtype  \n",
      "---  ------                          --------------  -----  \n",
      " 0   id                              48858 non-null  int64  \n",
      " 1   name                            48858 non-null  object \n",
      " 2   host_id                         48858 non-null  int64  \n",
      " 3   host_name                       48858 non-null  object \n",
      " 4   neighbourhood_group             48858 non-null  object \n",
      " 5   neighbourhood                   48858 non-null  object \n",
      " 6   latitude                        48858 non-null  float64\n",
      " 7   longitude                       48858 non-null  float64\n",
      " 8   room_type                       48858 non-null  object \n",
      " 9   price                           48858 non-null  int64  \n",
      " 10  minimum_nights                  48858 non-null  int64  \n",
      " 11  number_of_reviews               48858 non-null  int64  \n",
      " 12  last_review                     48858 non-null  object \n",
      " 13  reviews_per_month               48858 non-null  float64\n",
      " 14  calculated_host_listings_count  48858 non-null  int64  \n",
      " 15  availability_365                48858 non-null  int64  \n",
      "dtypes: float64(3), int64(7), object(6)\n",
      "memory usage: 6.3+ MB\n"
     ]
    }
   ],
   "source": [
    "df.info()"
   ]
  },
  {
   "cell_type": "code",
   "execution_count": 14,
   "id": "d6d65839",
   "metadata": {
    "execution": {
     "iopub.execute_input": "2024-03-11T16:49:34.980231Z",
     "iopub.status.busy": "2024-03-11T16:49:34.978755Z",
     "iopub.status.idle": "2024-03-11T16:49:35.000451Z",
     "shell.execute_reply": "2024-03-11T16:49:34.999215Z"
    },
    "papermill": {
     "duration": 0.038584,
     "end_time": "2024-03-11T16:49:35.003529",
     "exception": false,
     "start_time": "2024-03-11T16:49:34.964945",
     "status": "completed"
    },
    "tags": []
   },
   "outputs": [],
   "source": [
    "# convert last_review to  date format\n",
    "df.last_review = pd.to_datetime(df.last_review)"
   ]
  },
  {
   "cell_type": "code",
   "execution_count": 15,
   "id": "df85ad60",
   "metadata": {
    "execution": {
     "iopub.execute_input": "2024-03-11T16:49:35.030699Z",
     "iopub.status.busy": "2024-03-11T16:49:35.029251Z",
     "iopub.status.idle": "2024-03-11T16:49:35.070907Z",
     "shell.execute_reply": "2024-03-11T16:49:35.069564Z"
    },
    "papermill": {
     "duration": 0.058207,
     "end_time": "2024-03-11T16:49:35.073903",
     "exception": false,
     "start_time": "2024-03-11T16:49:35.015696",
     "status": "completed"
    },
    "tags": []
   },
   "outputs": [
    {
     "name": "stdout",
     "output_type": "stream",
     "text": [
      "<class 'pandas.core.frame.DataFrame'>\n",
      "Index: 48858 entries, 0 to 48894\n",
      "Data columns (total 16 columns):\n",
      " #   Column                          Non-Null Count  Dtype         \n",
      "---  ------                          --------------  -----         \n",
      " 0   id                              48858 non-null  int64         \n",
      " 1   name                            48858 non-null  object        \n",
      " 2   host_id                         48858 non-null  int64         \n",
      " 3   host_name                       48858 non-null  object        \n",
      " 4   neighbourhood_group             48858 non-null  object        \n",
      " 5   neighbourhood                   48858 non-null  object        \n",
      " 6   latitude                        48858 non-null  float64       \n",
      " 7   longitude                       48858 non-null  float64       \n",
      " 8   room_type                       48858 non-null  object        \n",
      " 9   price                           48858 non-null  int64         \n",
      " 10  minimum_nights                  48858 non-null  int64         \n",
      " 11  number_of_reviews               48858 non-null  int64         \n",
      " 12  last_review                     48858 non-null  datetime64[ns]\n",
      " 13  reviews_per_month               48858 non-null  float64       \n",
      " 14  calculated_host_listings_count  48858 non-null  int64         \n",
      " 15  availability_365                48858 non-null  int64         \n",
      "dtypes: datetime64[ns](1), float64(3), int64(7), object(5)\n",
      "memory usage: 6.3+ MB\n"
     ]
    }
   ],
   "source": [
    "df.info()"
   ]
  },
  {
   "cell_type": "markdown",
   "id": "212caccd",
   "metadata": {
    "papermill": {
     "duration": 0.012255,
     "end_time": "2024-03-11T16:49:35.098488",
     "exception": false,
     "start_time": "2024-03-11T16:49:35.086233",
     "status": "completed"
    },
    "tags": []
   },
   "source": [
    "**Data Integrity**"
   ]
  },
  {
   "cell_type": "code",
   "execution_count": 16,
   "id": "41396f52",
   "metadata": {
    "execution": {
     "iopub.execute_input": "2024-03-11T16:49:35.125327Z",
     "iopub.status.busy": "2024-03-11T16:49:35.124198Z",
     "iopub.status.idle": "2024-03-11T16:49:35.169289Z",
     "shell.execute_reply": "2024-03-11T16:49:35.168012Z"
    },
    "papermill": {
     "duration": 0.06212,
     "end_time": "2024-03-11T16:49:35.172720",
     "exception": false,
     "start_time": "2024-03-11T16:49:35.110600",
     "status": "completed"
    },
    "tags": []
   },
   "outputs": [
    {
     "name": "stdout",
     "output_type": "stream",
     "text": [
      "name  : ['Clean & quiet apt home by the park' 'Skylit Midtown Castle'\n",
      " 'THE VILLAGE OF HARLEM....NEW YORK !' ...\n",
      " 'Sunny Studio at Historical Neighborhood'\n",
      " '43rd St. Time Square-cozy single bed'\n",
      " \"Trendy duplex in the very heart of Hell's Kitchen\"] \n",
      "\n",
      "\n",
      "host_name  : ['John' 'Jennifer' 'Elisabeth' ... 'Abayomi' 'Alberth' 'Ilgar & Aysel'] \n",
      "\n",
      "\n",
      "neighbourhood_group  : ['Brooklyn' 'Manhattan' 'Queens' 'Staten Island' 'Bronx'] \n",
      "\n",
      "\n",
      "neighbourhood  : ['Kensington' 'Midtown' 'Harlem' 'Clinton Hill' 'East Harlem'\n",
      " 'Murray Hill' 'Bedford-Stuyvesant' \"Hell's Kitchen\" 'Upper West Side'\n",
      " 'Chinatown' 'South Slope' 'West Village' 'Williamsburg' 'Fort Greene'\n",
      " 'Chelsea' 'Crown Heights' 'Park Slope' 'Windsor Terrace' 'Inwood'\n",
      " 'East Village' 'Greenpoint' 'Bushwick' 'Flatbush' 'Lower East Side'\n",
      " 'Prospect-Lefferts Gardens' 'Long Island City' 'Kips Bay' 'SoHo'\n",
      " 'Upper East Side' 'Prospect Heights' 'Washington Heights' 'Woodside'\n",
      " 'Brooklyn Heights' 'Carroll Gardens' 'Gowanus' 'Flatlands' 'Cobble Hill'\n",
      " 'Flushing' 'Boerum Hill' 'Sunnyside' 'DUMBO' 'St. George' 'Highbridge'\n",
      " 'Financial District' 'Ridgewood' 'Morningside Heights' 'Jamaica'\n",
      " 'Middle Village' 'NoHo' 'Ditmars Steinway' 'Flatiron District'\n",
      " 'Roosevelt Island' 'Greenwich Village' 'Little Italy' 'East Flatbush'\n",
      " 'Tompkinsville' 'Astoria' 'Clason Point' 'Eastchester' 'Kingsbridge'\n",
      " 'Two Bridges' 'Rockaway Beach' 'Forest Hills' 'Nolita' 'Woodlawn'\n",
      " 'University Heights' 'Gravesend' 'Gramercy' 'Allerton' 'East New York'\n",
      " 'Theater District' 'Concourse Village' 'Sheepshead Bay' 'Emerson Hill'\n",
      " 'Fort Hamilton' 'Bensonhurst' 'Tribeca' 'Shore Acres' 'Sunset Park'\n",
      " 'Concourse' 'Elmhurst' 'Brighton Beach' 'Jackson Heights' 'Cypress Hills'\n",
      " 'St. Albans' 'Arrochar' 'Rego Park' 'Wakefield' 'Clifton' 'Bay Ridge'\n",
      " 'Graniteville' 'Spuyten Duyvil' 'Stapleton' 'Briarwood' 'Ozone Park'\n",
      " 'Columbia St' 'Vinegar Hill' 'Mott Haven' 'Longwood' 'Canarsie'\n",
      " 'Battery Park City' 'Civic Center' 'East Elmhurst' 'New Springville'\n",
      " 'Morris Heights' 'Arverne' 'Cambria Heights' 'Tottenville'\n",
      " 'Mariners Harbor' 'Concord' 'Borough Park' 'Bayside' 'Downtown Brooklyn'\n",
      " 'Port Morris' 'Fieldston' 'Kew Gardens' 'Midwood' 'College Point'\n",
      " 'Mount Eden' 'City Island' 'Glendale' 'Port Richmond' 'Red Hook'\n",
      " 'Richmond Hill' 'Queens Village' 'Bellerose' 'Maspeth' 'Williamsbridge'\n",
      " 'Soundview' 'Woodhaven' 'Woodrow' 'Co-op City' 'Stuyvesant Town'\n",
      " 'Parkchester' 'North Riverdale' 'Dyker Heights' 'Bronxdale' 'Sea Gate'\n",
      " 'Riverdale' 'Kew Gardens Hills' 'Bay Terrace' 'Norwood'\n",
      " 'Claremont Village' 'Whitestone' 'Fordham' 'Bayswater' 'Navy Yard'\n",
      " 'Brownsville' 'Eltingville' 'Fresh Meadows' 'Mount Hope'\n",
      " 'Lighthouse Hill' 'Springfield Gardens' 'Howard Beach' 'Belle Harbor'\n",
      " 'Jamaica Estates' 'Van Nest' 'Morris Park' 'West Brighton' 'Far Rockaway'\n",
      " 'South Ozone Park' 'Tremont' 'Corona' 'Great Kills' 'Manhattan Beach'\n",
      " 'Marble Hill' 'Dongan Hills' 'Castleton Corners' 'East Morrisania'\n",
      " 'Hunts Point' 'Neponsit' 'Pelham Bay' 'Randall Manor' 'Throgs Neck'\n",
      " 'Todt Hill' 'West Farms' 'Silver Lake' 'Morrisania' 'Laurelton'\n",
      " 'Grymes Hill' 'Holliswood' 'Pelham Gardens' 'Belmont' 'Rosedale'\n",
      " 'Edgemere' 'New Brighton' 'Midland Beach' 'Baychester' 'Melrose'\n",
      " 'Bergen Beach' 'Richmondtown' 'Howland Hook' 'Schuylerville'\n",
      " 'Coney Island' 'New Dorp Beach' \"Prince's Bay\" 'South Beach' 'Bath Beach'\n",
      " 'Jamaica Hills' 'Oakwood' 'Castle Hill' 'Hollis' 'Douglaston' 'Huguenot'\n",
      " 'Olinville' 'Edenwald' 'Grant City' 'Westerleigh'\n",
      " 'Bay Terrace, Staten Island' 'Westchester Square' 'Little Neck'\n",
      " 'Fort Wadsworth' 'Rosebank' 'Unionport' 'Mill Basin' 'Arden Heights'\n",
      " \"Bull's Head\" 'New Dorp' 'Rossville' 'Breezy Point' 'Willowbrook'] \n",
      "\n",
      "\n",
      "room_type  : ['Private room' 'Entire home/apt' 'Shared room'] \n",
      "\n",
      "\n"
     ]
    }
   ],
   "source": [
    "cat_col = [col for col in df.columns if df[col].dtypes == \"O\"]\n",
    "for col in cat_col:\n",
    "    print(col, ' :', df[col].unique(), '\\n\\n')"
   ]
  },
  {
   "cell_type": "markdown",
   "id": "df5857b7",
   "metadata": {
    "papermill": {
     "duration": 0.01205,
     "end_time": "2024-03-11T16:49:35.196950",
     "exception": false,
     "start_time": "2024-03-11T16:49:35.184900",
     "status": "completed"
    },
    "tags": []
   },
   "source": [
    "**Duplicate Removal**"
   ]
  },
  {
   "cell_type": "code",
   "execution_count": 17,
   "id": "a87d11fa",
   "metadata": {
    "execution": {
     "iopub.execute_input": "2024-03-11T16:49:35.225998Z",
     "iopub.status.busy": "2024-03-11T16:49:35.225130Z",
     "iopub.status.idle": "2024-03-11T16:49:35.290881Z",
     "shell.execute_reply": "2024-03-11T16:49:35.289667Z"
    },
    "papermill": {
     "duration": 0.083997,
     "end_time": "2024-03-11T16:49:35.293393",
     "exception": false,
     "start_time": "2024-03-11T16:49:35.209396",
     "status": "completed"
    },
    "tags": []
   },
   "outputs": [
    {
     "data": {
      "text/plain": [
       "False"
      ]
     },
     "execution_count": 17,
     "metadata": {},
     "output_type": "execute_result"
    }
   ],
   "source": [
    "df.duplicated().any()"
   ]
  },
  {
   "cell_type": "markdown",
   "id": "40fe8d6e",
   "metadata": {
    "papermill": {
     "duration": 0.013022,
     "end_time": "2024-03-11T16:49:35.320402",
     "exception": false,
     "start_time": "2024-03-11T16:49:35.307380",
     "status": "completed"
    },
    "tags": []
   },
   "source": [
    "### **IQR Based Filtering**\n",
    "**Used when our data distribution is skewed.**\n",
    "\n",
    "#### **For Skewed Distributions**\n",
    "**Use Inter-Quartile Range (IQR) proximity rule.\n",
    "The data points that fall below Q1 – 1.5 IQR or above the third quartile Q3 + 1.5 IQR are outliers, where Q1 and Q3 are the 25th and 75th percentile of the dataset, respectively. IQR represents the inter-quartile range and is given by Q3 – Q1.**"
   ]
  },
  {
   "cell_type": "code",
   "execution_count": 18,
   "id": "fd1e636e",
   "metadata": {
    "execution": {
     "iopub.execute_input": "2024-03-11T16:49:35.350228Z",
     "iopub.status.busy": "2024-03-11T16:49:35.349490Z",
     "iopub.status.idle": "2024-03-11T16:49:36.791465Z",
     "shell.execute_reply": "2024-03-11T16:49:36.789170Z"
    },
    "papermill": {
     "duration": 1.460193,
     "end_time": "2024-03-11T16:49:36.794855",
     "exception": false,
     "start_time": "2024-03-11T16:49:35.334662",
     "status": "completed"
    },
    "tags": []
   },
   "outputs": [
    {
     "name": "stderr",
     "output_type": "stream",
     "text": [
      "/tmp/ipykernel_18/609497423.py:3: UserWarning: \n",
      "\n",
      "`distplot` is a deprecated function and will be removed in seaborn v0.14.0.\n",
      "\n",
      "Please adapt your code to use either `displot` (a figure-level function with\n",
      "similar flexibility) or `histplot` (an axes-level function for histograms).\n",
      "\n",
      "For a guide to updating your code to use the new functions, please see\n",
      "https://gist.github.com/mwaskom/de44147ed2974457ad6372750bbe5751\n",
      "\n",
      "  sns.distplot(df['availability_365'])\n",
      "/opt/conda/lib/python3.10/site-packages/seaborn/_oldcore.py:1119: FutureWarning: use_inf_as_na option is deprecated and will be removed in a future version. Convert inf values to NaN before operating instead.\n",
      "  with pd.option_context('mode.use_inf_as_na', True):\n",
      "/tmp/ipykernel_18/609497423.py:5: UserWarning: \n",
      "\n",
      "`distplot` is a deprecated function and will be removed in seaborn v0.14.0.\n",
      "\n",
      "Please adapt your code to use either `displot` (a figure-level function with\n",
      "similar flexibility) or `histplot` (an axes-level function for histograms).\n",
      "\n",
      "For a guide to updating your code to use the new functions, please see\n",
      "https://gist.github.com/mwaskom/de44147ed2974457ad6372750bbe5751\n",
      "\n",
      "  sns.distplot(df['price'])\n",
      "/opt/conda/lib/python3.10/site-packages/seaborn/_oldcore.py:1119: FutureWarning: use_inf_as_na option is deprecated and will be removed in a future version. Convert inf values to NaN before operating instead.\n",
      "  with pd.option_context('mode.use_inf_as_na', True):\n"
     ]
    },
    {
     "data": {
      "image/png": "[encoded data removed]",
      "text/plain": [
       "<Figure size 1600x500 with 2 Axes>"
      ]
     },
     "metadata": {},
     "output_type": "display_data"
    }
   ],
   "source": [
    "plt.figure(figsize=(16,5))\n",
    "plt.subplot(1,2,1)\n",
    "sns.distplot(df['availability_365'])\n",
    "plt.subplot(1,2,2)\n",
    "sns.distplot(df['price'])\n",
    "plt.show()"
   ]
  },
  {
   "cell_type": "code",
   "execution_count": 19,
   "id": "5008344c",
   "metadata": {
    "execution": {
     "iopub.execute_input": "2024-03-11T16:49:36.824718Z",
     "iopub.status.busy": "2024-03-11T16:49:36.824327Z",
     "iopub.status.idle": "2024-03-11T16:49:36.832268Z",
     "shell.execute_reply": "2024-03-11T16:49:36.831106Z"
    },
    "papermill": {
     "duration": 0.025454,
     "end_time": "2024-03-11T16:49:36.834689",
     "exception": false,
     "start_time": "2024-03-11T16:49:36.809235",
     "status": "completed"
    },
    "tags": []
   },
   "outputs": [],
   "source": [
    "num_col = df.select_dtypes(include=[float, int]).columns"
   ]
  },
  {
   "cell_type": "code",
   "execution_count": 20,
   "id": "55e26ab0",
   "metadata": {
    "execution": {
     "iopub.execute_input": "2024-03-11T16:49:36.864015Z",
     "iopub.status.busy": "2024-03-11T16:49:36.863542Z",
     "iopub.status.idle": "2024-03-11T16:49:36.876633Z",
     "shell.execute_reply": "2024-03-11T16:49:36.875435Z"
    },
    "papermill": {
     "duration": 0.030642,
     "end_time": "2024-03-11T16:49:36.878771",
     "exception": false,
     "start_time": "2024-03-11T16:49:36.848129",
     "status": "completed"
    },
    "tags": []
   },
   "outputs": [
    {
     "data": {
      "text/plain": [
       "<Figure size 1600x500 with 0 Axes>"
      ]
     },
     "metadata": {},
     "output_type": "display_data"
    }
   ],
   "source": [
    "import warnings\n",
    "warnings.filterwarnings('ignore')\n",
    "\n",
    "plt.figure(figsize=(16,5))\n",
    "def plots(df, content):\n",
    "    ax = sns.boxplot(df[content])\n",
    "    plt.show()\n",
    "        \n",
    "\n",
    "    "
   ]
  },
  {
   "cell_type": "code",
   "execution_count": 21,
   "id": "cd48537f",
   "metadata": {
    "execution": {
     "iopub.execute_input": "2024-03-11T16:49:36.909930Z",
     "iopub.status.busy": "2024-03-11T16:49:36.908840Z",
     "iopub.status.idle": "2024-03-11T16:49:38.850608Z",
     "shell.execute_reply": "2024-03-11T16:49:38.849169Z"
    },
    "papermill": {
     "duration": 1.961034,
     "end_time": "2024-03-11T16:49:38.853432",
     "exception": false,
     "start_time": "2024-03-11T16:49:36.892398",
     "status": "completed"
    },
    "tags": []
   },
   "outputs": [
    {
     "data": {
      "image/png": "[encoded data removed]",
      "text/plain": [
       "<Figure size 640x480 with 1 Axes>"
      ]
     },
     "metadata": {},
     "output_type": "display_data"
    },
    {
     "data": {
      "image/png": "[encoded data removed]",
      "text/plain": [
       "<Figure size 640x480 with 1 Axes>"
      ]
     },
     "metadata": {},
     "output_type": "display_data"
    },
    {
     "data": {
      "image/png": "[encoded data removed]",
      "text/plain": [
       "<Figure size 640x480 with 1 Axes>"
      ]
     },
     "metadata": {},
     "output_type": "display_data"
    },
    {
     "data": {
      "image/png": "[encoded data removed]",
      "text/plain": [
       "<Figure size 640x480 with 1 Axes>"
      ]
     },
     "metadata": {},
     "output_type": "display_data"
    },
    {
     "data": {
      "image/png": "[encoded data removed]",
      "text/plain": [
       "<Figure size 640x480 with 1 Axes>"
      ]
     },
     "metadata": {},
     "output_type": "display_data"
    },
    {
     "data": {
      "image/png": "[encoded data removed]",
      "text/plain": [
       "<Figure size 640x480 with 1 Axes>"
      ]
     },
     "metadata": {},
     "output_type": "display_data"
    },
    {
     "data": {
      "image/png": "[encoded data removed]",
      "text/plain": [
       "<Figure size 640x480 with 1 Axes>"
      ]
     },
     "metadata": {},
     "output_type": "display_data"
    },
    {
     "data": {
      "image/png": "[encoded data removed]",
      "text/plain": [
       "<Figure size 640x480 with 1 Axes>"
      ]
     },
     "metadata": {},
     "output_type": "display_data"
    },
    {
     "data": {
      "image/png": "[encoded data removed]",
      "text/plain": [
       "<Figure size 640x480 with 1 Axes>"
      ]
     },
     "metadata": {},
     "output_type": "display_data"
    },
    {
     "data": {
      "image/png": "[encoded data removed]",
      "text/plain": [
       "<Figure size 640x480 with 1 Axes>"
      ]
     },
     "metadata": {},
     "output_type": "display_data"
    }
   ],
   "source": [
    "for col in num_col:\n",
    "    plots(df, col)"
   ]
  },
  {
   "cell_type": "code",
   "execution_count": 22,
   "id": "76268c00",
   "metadata": {
    "execution": {
     "iopub.execute_input": "2024-03-11T16:49:38.890361Z",
     "iopub.status.busy": "2024-03-11T16:49:38.889099Z",
     "iopub.status.idle": "2024-03-11T16:49:38.897935Z",
     "shell.execute_reply": "2024-03-11T16:49:38.896550Z"
    },
    "papermill": {
     "duration": 0.030261,
     "end_time": "2024-03-11T16:49:38.900754",
     "exception": false,
     "start_time": "2024-03-11T16:49:38.870493",
     "status": "completed"
    },
    "tags": []
   },
   "outputs": [],
   "source": [
    "def trimm_outliers(df, features):\n",
    "    df = df\n",
    "    for col in features:\n",
    "        percentile25 = df[col].quantile(0.25)\n",
    "        percentile75 = df[col].quantile(0.75)\n",
    "        iqr = percentile75 - percentile25\n",
    "        upper_limit = percentile75 + 1.5 * iqr\n",
    "        lower_limit = percentile25 - 1.5 * iqr\n",
    "\n",
    "        # create the filter\n",
    "        \n",
    "        ##finding outliers\n",
    "        outliers = df[(df[col] > upper_limit) & (df[col] < lower_limit)]\n",
    "        \n",
    "        ## Trimming outliers method\n",
    "        df = df[(df[col] < upper_limit) & (df[col] > lower_limit)]\n",
    "        \n",
    "    return df\n"
   ]
  },
  {
   "cell_type": "code",
   "execution_count": 23,
   "id": "87c360d8",
   "metadata": {
    "execution": {
     "iopub.execute_input": "2024-03-11T16:49:38.937774Z",
     "iopub.status.busy": "2024-03-11T16:49:38.937356Z",
     "iopub.status.idle": "2024-03-11T16:49:39.045511Z",
     "shell.execute_reply": "2024-03-11T16:49:39.044255Z"
    },
    "papermill": {
     "duration": 0.129922,
     "end_time": "2024-03-11T16:49:39.048617",
     "exception": false,
     "start_time": "2024-03-11T16:49:38.918695",
     "status": "completed"
    },
    "tags": []
   },
   "outputs": [
    {
     "data": {
      "text/plain": [
       "(23312, 16)"
      ]
     },
     "execution_count": 23,
     "metadata": {},
     "output_type": "execute_result"
    }
   ],
   "source": [
    "new_df = trimm_outliers(df, num_col)\n",
    "new_df.shape"
   ]
  },
  {
   "cell_type": "code",
   "execution_count": 24,
   "id": "c731ac6c",
   "metadata": {
    "execution": {
     "iopub.execute_input": "2024-03-11T16:49:39.088168Z",
     "iopub.status.busy": "2024-03-11T16:49:39.087385Z",
     "iopub.status.idle": "2024-03-11T16:49:41.196425Z",
     "shell.execute_reply": "2024-03-11T16:49:41.195097Z"
    },
    "papermill": {
     "duration": 2.132405,
     "end_time": "2024-03-11T16:49:41.199550",
     "exception": false,
     "start_time": "2024-03-11T16:49:39.067145",
     "status": "completed"
    },
    "tags": []
   },
   "outputs": [
    {
     "data": {
      "image/png": "[encoded data removed]",
      "text/plain": [
       "<Figure size 640x480 with 1 Axes>"
      ]
     },
     "metadata": {},
     "output_type": "display_data"
    },
    {
     "data": {
      "image/png": "[encoded data removed]",
      "text/plain": [
       "<Figure size 640x480 with 1 Axes>"
      ]
     },
     "metadata": {},
     "output_type": "display_data"
    },
    {
     "data": {
      "image/png": "[encoded data removed]",
      "text/plain": [
       "<Figure size 640x480 with 1 Axes>"
      ]
     },
     "metadata": {},
     "output_type": "display_data"
    },
    {
     "data": {
      "image/png": "[encoded data removed]",
      "text/plain": [
       "<Figure size 640x480 with 1 Axes>"
      ]
     },
     "metadata": {},
     "output_type": "display_data"
    },
    {
     "data": {
      "image/png": "[encoded data removed]",
      "text/plain": [
       "<Figure size 640x480 with 1 Axes>"
      ]
     },
     "metadata": {},
     "output_type": "display_data"
    },
    {
     "data": {
      "image/png": "[encoded data removed]",
      "text/plain": [
       "<Figure size 640x480 with 1 Axes>"
      ]
     },
     "metadata": {},
     "output_type": "display_data"
    },
    {
     "data": {
      "image/png": "[encoded data removed]",
      "text/plain": [
       "<Figure size 640x480 with 1 Axes>"
      ]
     },
     "metadata": {},
     "output_type": "display_data"
    },
    {
     "data": {
      "image/png": "[encoded data removed]",
      "text/plain": [
       "<Figure size 640x480 with 1 Axes>"
      ]
     },
     "metadata": {},
     "output_type": "display_data"
    },
    {
     "data": {
      "image/png": "[encoded data removed]",
      "text/plain": [
       "<Figure size 640x480 with 1 Axes>"
      ]
     },
     "metadata": {},
     "output_type": "display_data"
    },
    {
     "data": {
      "image/png": "[encoded data removed]",
      "text/plain": [
       "<Figure size 640x480 with 1 Axes>"
      ]
     },
     "metadata": {},
     "output_type": "display_data"
    }
   ],
   "source": [
    "for col in num_col:\n",
    "    plt.boxplot(new_df[col])\n",
    "    plt.show()"
   ]
  },
  {
   "cell_type": "code",
   "execution_count": null,
   "id": "e18f816d",
   "metadata": {
    "execution": {
     "iopub.status.busy": "2024-03-10T21:09:42.843016Z",
     "iopub.status.idle": "2024-03-10T21:09:42.843761Z",
     "shell.execute_reply": "2024-03-10T21:09:42.843507Z",
     "shell.execute_reply.started": "2024-03-10T21:09:42.843486Z"
    },
    "jupyter": {
     "source_hidden": true
    },
    "papermill": {
     "duration": 0.021223,
     "end_time": "2024-03-11T16:49:41.241338",
     "exception": false,
     "start_time": "2024-03-11T16:49:41.220115",
     "status": "completed"
    },
    "tags": []
   },
   "outputs": [],
   "source": []
  }
 ],
 "metadata": {
  "kaggle": {
   "accelerator": "none",
   "dataSources": [
    {
     "datasetId": 268833,
     "sourceId": 611395,
     "sourceType": "datasetVersion"
    }
   ],
   "dockerImageVersionId": 30664,
   "isGpuEnabled": false,
   "isInternetEnabled": true,
   "language": "python",
   "sourceType": "notebook"
  },
  "kernelspec": {
   "display_name": "Python 3",
   "language": "python",
   "name": "python3"
  },
  "language_info": {
   "codemirror_mode": {
    "name": "ipython",
    "version": 3
   },
   "file_extension": ".py",
   "mimetype": "text/x-python",
   "name": "python",
   "nbconvert_exporter": "python",
   "pygments_lexer": "ipython3",
   "version": "3.10.13"
  },
  "papermill": {
   "default_parameters": {},
   "duration": 14.537268,
   "end_time": "2024-03-11T16:49:42.087354",
   "environment_variables": {},
   "exception": null,
   "input_path": "__notebook__.ipynb",
   "output_path": "__notebook__.ipynb",
   "parameters": {},
   "start_time": "2024-03-11T16:49:27.550086",
   "version": "2.5.0"
  }
 },
 "nbformat": 4,
 "nbformat_minor": 5
}
