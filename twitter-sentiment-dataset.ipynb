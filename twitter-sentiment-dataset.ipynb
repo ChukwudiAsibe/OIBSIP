{
 "cells": [
  {
   "cell_type": "code",
   "execution_count": 1,
   "id": "6e50f249",
   "metadata": {
    "_cell_guid": "b1076dfc-b9ad-4769-8c92-a6c4dae69d19",
    "_uuid": "8f2839f25d086af736a60e9eeb907d3b93b6e0e5",
    "execution": {
     "iopub.execute_input": "2024-03-07T11:26:12.132449Z",
     "iopub.status.busy": "2024-03-07T11:26:12.131905Z",
     "iopub.status.idle": "2024-03-07T11:26:13.016470Z",
     "shell.execute_reply": "2024-03-07T11:26:13.015425Z"
    },
    "papermill": {
     "duration": 0.900829,
     "end_time": "2024-03-07T11:26:13.019144",
     "exception": false,
     "start_time": "2024-03-07T11:26:12.118315",
     "status": "completed"
    },
    "tags": []
   },
   "outputs": [
    {
     "name": "stdout",
     "output_type": "stream",
     "text": [
      "/kaggle/input/twitter-sentiment-dataset/Twitter_Data.csv\n"
     ]
    }
   ],
   "source": [
    "# This Python 3 environment comes with many helpful analytics libraries installed\n",
    "# It is defined by the kaggle/python Docker image: https://github.com/kaggle/docker-python\n",
    "# For example, here's several helpful packages to load\n",
    "\n",
    "import numpy as np # linear algebra\n",
    "import pandas as pd # data processing, CSV file I/O (e.g. pd.read_csv)\n",
    "\n",
    "# Input data files are available in the read-only \"../input/\" directory\n",
    "# For example, running this (by clicking run or pressing Shift+Enter) will list all files under the input directory\n",
    "\n",
    "import os\n",
    "for dirname, _, filenames in os.walk('/kaggle/input'):\n",
    "    for filename in filenames:\n",
    "        print(os.path.join(dirname, filename))\n",
    "\n",
    "# You can write up to 20GB to the current directory (/kaggle/working/) that gets preserved as output when you create a version using \"Save & Run All\" \n",
    "# You can also write temporary files to /kaggle/temp/, but they won't be saved outside of the current session"
   ]
  },
  {
   "cell_type": "markdown",
   "id": "87cc9f08",
   "metadata": {
    "papermill": {
     "duration": 0.009765,
     "end_time": "2024-03-07T11:26:13.039552",
     "exception": false,
     "start_time": "2024-03-07T11:26:13.029787",
     "status": "completed"
    },
    "tags": []
   },
   "source": [
    "**Importing Dependencies**"
   ]
  },
  {
   "cell_type": "code",
   "execution_count": 2,
   "id": "363e0648",
   "metadata": {
    "execution": {
     "iopub.execute_input": "2024-03-07T11:26:13.062547Z",
     "iopub.status.busy": "2024-03-07T11:26:13.061491Z",
     "iopub.status.idle": "2024-03-07T11:26:15.020947Z",
     "shell.execute_reply": "2024-03-07T11:26:15.019691Z"
    },
    "papermill": {
     "duration": 1.973667,
     "end_time": "2024-03-07T11:26:15.023819",
     "exception": false,
     "start_time": "2024-03-07T11:26:13.050152",
     "status": "completed"
    },
    "tags": []
   },
   "outputs": [],
   "source": [
    "import re\n",
    "from nltk.corpus import stopwords\n",
    "from nltk.stem.porter import PorterStemmer\n",
    "from sklearn.feature_extraction.text import TfidfVectorizer\n",
    "from sklearn.model_selection import train_test_split\n",
    "from sklearn.linear_model import LogisticRegression\n",
    "from sklearn.metrics import accuracy_score, confusion_matrix"
   ]
  },
  {
   "cell_type": "code",
   "execution_count": 3,
   "id": "e1d95a5c",
   "metadata": {
    "execution": {
     "iopub.execute_input": "2024-03-07T11:26:15.046716Z",
     "iopub.status.busy": "2024-03-07T11:26:15.045498Z",
     "iopub.status.idle": "2024-03-07T11:26:15.494600Z",
     "shell.execute_reply": "2024-03-07T11:26:15.493346Z"
    },
    "papermill": {
     "duration": 0.463143,
     "end_time": "2024-03-07T11:26:15.497383",
     "exception": false,
     "start_time": "2024-03-07T11:26:15.034240",
     "status": "completed"
    },
    "tags": []
   },
   "outputs": [
    {
     "name": "stdout",
     "output_type": "stream",
     "text": [
      "[nltk_data] Downloading package stopwords to /usr/share/nltk_data...\n",
      "[nltk_data]   Package stopwords is already up-to-date!\n"
     ]
    },
    {
     "data": {
      "text/plain": [
       "True"
      ]
     },
     "execution_count": 3,
     "metadata": {},
     "output_type": "execute_result"
    }
   ],
   "source": [
    "# download stop_word\n",
    "import nltk\n",
    "nltk.download('stopwords')"
   ]
  },
  {
   "cell_type": "markdown",
   "id": "e78e3a4f",
   "metadata": {
    "papermill": {
     "duration": 0.009641,
     "end_time": "2024-03-07T11:26:15.517232",
     "exception": false,
     "start_time": "2024-03-07T11:26:15.507591",
     "status": "completed"
    },
    "tags": []
   },
   "source": [
    "**Load data to the Data Frame**"
   ]
  },
  {
   "cell_type": "code",
   "execution_count": 4,
   "id": "32d58d0f",
   "metadata": {
    "execution": {
     "iopub.execute_input": "2024-03-07T11:26:15.538883Z",
     "iopub.status.busy": "2024-03-07T11:26:15.538508Z",
     "iopub.status.idle": "2024-03-07T11:26:16.198507Z",
     "shell.execute_reply": "2024-03-07T11:26:16.197506Z"
    },
    "papermill": {
     "duration": 0.673858,
     "end_time": "2024-03-07T11:26:16.201176",
     "exception": false,
     "start_time": "2024-03-07T11:26:15.527318",
     "status": "completed"
    },
    "tags": []
   },
   "outputs": [],
   "source": [
    "data = pd.read_csv('/kaggle/input/twitter-sentiment-dataset/Twitter_Data.csv')"
   ]
  },
  {
   "cell_type": "markdown",
   "id": "7f4b4a64",
   "metadata": {
    "papermill": {
     "duration": 0.009993,
     "end_time": "2024-03-07T11:26:16.221926",
     "exception": false,
     "start_time": "2024-03-07T11:26:16.211933",
     "status": "completed"
    },
    "tags": []
   },
   "source": [
    "**Data preprocessing**"
   ]
  },
  {
   "cell_type": "code",
   "execution_count": 5,
   "id": "4956e9f5",
   "metadata": {
    "execution": {
     "iopub.execute_input": "2024-03-07T11:26:16.245261Z",
     "iopub.status.busy": "2024-03-07T11:26:16.244878Z",
     "iopub.status.idle": "2024-03-07T11:26:16.251344Z",
     "shell.execute_reply": "2024-03-07T11:26:16.250233Z"
    },
    "papermill": {
     "duration": 0.020251,
     "end_time": "2024-03-07T11:26:16.253875",
     "exception": false,
     "start_time": "2024-03-07T11:26:16.233624",
     "status": "completed"
    },
    "tags": []
   },
   "outputs": [
    {
     "data": {
      "text/plain": [
       "(162980, 2)"
      ]
     },
     "execution_count": 5,
     "metadata": {},
     "output_type": "execute_result"
    }
   ],
   "source": [
    "# Shape of the data\n",
    "data.shape"
   ]
  },
  {
   "cell_type": "code",
   "execution_count": 6,
   "id": "1e80b8be",
   "metadata": {
    "execution": {
     "iopub.execute_input": "2024-03-07T11:26:16.275977Z",
     "iopub.status.busy": "2024-03-07T11:26:16.275596Z",
     "iopub.status.idle": "2024-03-07T11:26:16.293322Z",
     "shell.execute_reply": "2024-03-07T11:26:16.292411Z"
    },
    "papermill": {
     "duration": 0.031515,
     "end_time": "2024-03-07T11:26:16.295646",
     "exception": false,
     "start_time": "2024-03-07T11:26:16.264131",
     "status": "completed"
    },
    "tags": []
   },
   "outputs": [
    {
     "data": {
      "text/html": [
       "<div>\n",
       "<style scoped>\n",
       "    .dataframe tbody tr th:only-of-type {\n",
       "        vertical-align: middle;\n",
       "    }\n",
       "\n",
       "    .dataframe tbody tr th {\n",
       "        vertical-align: top;\n",
       "    }\n",
       "\n",
       "    .dataframe thead th {\n",
       "        text-align: right;\n",
       "    }\n",
       "</style>\n",
       "<table border=\"1\" class=\"dataframe\">\n",
       "  <thead>\n",
       "    <tr style=\"text-align: right;\">\n",
       "      <th></th>\n",
       "      <th>clean_text</th>\n",
       "      <th>category</th>\n",
       "    </tr>\n",
       "  </thead>\n",
       "  <tbody>\n",
       "    <tr>\n",
       "      <th>0</th>\n",
       "      <td>when modi promised “minimum government maximum...</td>\n",
       "      <td>-1.0</td>\n",
       "    </tr>\n",
       "    <tr>\n",
       "      <th>1</th>\n",
       "      <td>talk all the nonsense and continue all the dra...</td>\n",
       "      <td>0.0</td>\n",
       "    </tr>\n",
       "    <tr>\n",
       "      <th>2</th>\n",
       "      <td>what did just say vote for modi  welcome bjp t...</td>\n",
       "      <td>1.0</td>\n",
       "    </tr>\n",
       "    <tr>\n",
       "      <th>3</th>\n",
       "      <td>asking his supporters prefix chowkidar their n...</td>\n",
       "      <td>1.0</td>\n",
       "    </tr>\n",
       "    <tr>\n",
       "      <th>4</th>\n",
       "      <td>answer who among these the most powerful world...</td>\n",
       "      <td>1.0</td>\n",
       "    </tr>\n",
       "  </tbody>\n",
       "</table>\n",
       "</div>"
      ],
      "text/plain": [
       "                                          clean_text  category\n",
       "0  when modi promised “minimum government maximum...      -1.0\n",
       "1  talk all the nonsense and continue all the dra...       0.0\n",
       "2  what did just say vote for modi  welcome bjp t...       1.0\n",
       "3  asking his supporters prefix chowkidar their n...       1.0\n",
       "4  answer who among these the most powerful world...       1.0"
      ]
     },
     "execution_count": 6,
     "metadata": {},
     "output_type": "execute_result"
    }
   ],
   "source": [
    "data.head()"
   ]
  },
  {
   "cell_type": "code",
   "execution_count": 7,
   "id": "313a0005",
   "metadata": {
    "execution": {
     "iopub.execute_input": "2024-03-07T11:26:16.319185Z",
     "iopub.status.busy": "2024-03-07T11:26:16.318372Z",
     "iopub.status.idle": "2024-03-07T11:26:16.346454Z",
     "shell.execute_reply": "2024-03-07T11:26:16.345374Z"
    },
    "papermill": {
     "duration": 0.042716,
     "end_time": "2024-03-07T11:26:16.348954",
     "exception": false,
     "start_time": "2024-03-07T11:26:16.306238",
     "status": "completed"
    },
    "tags": []
   },
   "outputs": [
    {
     "data": {
      "text/plain": [
       "True"
      ]
     },
     "execution_count": 7,
     "metadata": {},
     "output_type": "execute_result"
    }
   ],
   "source": [
    "# check for missind values\n",
    "\n",
    "data.isna().values.any()"
   ]
  },
  {
   "cell_type": "code",
   "execution_count": 8,
   "id": "7b479fba",
   "metadata": {
    "execution": {
     "iopub.execute_input": "2024-03-07T11:26:16.373039Z",
     "iopub.status.busy": "2024-03-07T11:26:16.372258Z",
     "iopub.status.idle": "2024-03-07T11:26:16.402695Z",
     "shell.execute_reply": "2024-03-07T11:26:16.401614Z"
    },
    "papermill": {
     "duration": 0.044687,
     "end_time": "2024-03-07T11:26:16.404927",
     "exception": false,
     "start_time": "2024-03-07T11:26:16.360240",
     "status": "completed"
    },
    "tags": []
   },
   "outputs": [
    {
     "data": {
      "text/plain": [
       "clean_text    4\n",
       "category      7\n",
       "dtype: int64"
      ]
     },
     "execution_count": 8,
     "metadata": {},
     "output_type": "execute_result"
    }
   ],
   "source": [
    "# columns with missind values\n",
    "\n",
    "data.isnull().sum()"
   ]
  },
  {
   "cell_type": "code",
   "execution_count": 9,
   "id": "c5961a73",
   "metadata": {
    "execution": {
     "iopub.execute_input": "2024-03-07T11:26:16.428684Z",
     "iopub.status.busy": "2024-03-07T11:26:16.428050Z",
     "iopub.status.idle": "2024-03-07T11:26:16.488948Z",
     "shell.execute_reply": "2024-03-07T11:26:16.487770Z"
    },
    "papermill": {
     "duration": 0.07553,
     "end_time": "2024-03-07T11:26:16.491448",
     "exception": false,
     "start_time": "2024-03-07T11:26:16.415918",
     "status": "completed"
    },
    "tags": []
   },
   "outputs": [
    {
     "data": {
      "text/html": [
       "<div>\n",
       "<style scoped>\n",
       "    .dataframe tbody tr th:only-of-type {\n",
       "        vertical-align: middle;\n",
       "    }\n",
       "\n",
       "    .dataframe tbody tr th {\n",
       "        vertical-align: top;\n",
       "    }\n",
       "\n",
       "    .dataframe thead th {\n",
       "        text-align: right;\n",
       "    }\n",
       "</style>\n",
       "<table border=\"1\" class=\"dataframe\">\n",
       "  <thead>\n",
       "    <tr style=\"text-align: right;\">\n",
       "      <th></th>\n",
       "      <th>clean_text</th>\n",
       "      <th>category</th>\n",
       "    </tr>\n",
       "  </thead>\n",
       "  <tbody>\n",
       "    <tr>\n",
       "      <th>148</th>\n",
       "      <td>NaN</td>\n",
       "      <td>0.0</td>\n",
       "    </tr>\n",
       "    <tr>\n",
       "      <th>158694</th>\n",
       "      <td>NaN</td>\n",
       "      <td>-1.0</td>\n",
       "    </tr>\n",
       "    <tr>\n",
       "      <th>159443</th>\n",
       "      <td>NaN</td>\n",
       "      <td>0.0</td>\n",
       "    </tr>\n",
       "    <tr>\n",
       "      <th>160560</th>\n",
       "      <td>NaN</td>\n",
       "      <td>1.0</td>\n",
       "    </tr>\n",
       "  </tbody>\n",
       "</table>\n",
       "</div>"
      ],
      "text/plain": [
       "       clean_text  category\n",
       "148           NaN       0.0\n",
       "158694        NaN      -1.0\n",
       "159443        NaN       0.0\n",
       "160560        NaN       1.0"
      ]
     },
     "execution_count": 9,
     "metadata": {},
     "output_type": "execute_result"
    }
   ],
   "source": [
    "# Actual missing values in the columns\n",
    "\n",
    "data[data.clean_text.isnull() == data.isnull().values.any()]"
   ]
  },
  {
   "cell_type": "code",
   "execution_count": 10,
   "id": "558b3fed",
   "metadata": {
    "execution": {
     "iopub.execute_input": "2024-03-07T11:26:16.516026Z",
     "iopub.status.busy": "2024-03-07T11:26:16.514997Z",
     "iopub.status.idle": "2024-03-07T11:26:16.549867Z",
     "shell.execute_reply": "2024-03-07T11:26:16.549028Z"
    },
    "papermill": {
     "duration": 0.049615,
     "end_time": "2024-03-07T11:26:16.552279",
     "exception": false,
     "start_time": "2024-03-07T11:26:16.502664",
     "status": "completed"
    },
    "tags": []
   },
   "outputs": [
    {
     "data": {
      "text/html": [
       "<div>\n",
       "<style scoped>\n",
       "    .dataframe tbody tr th:only-of-type {\n",
       "        vertical-align: middle;\n",
       "    }\n",
       "\n",
       "    .dataframe tbody tr th {\n",
       "        vertical-align: top;\n",
       "    }\n",
       "\n",
       "    .dataframe thead th {\n",
       "        text-align: right;\n",
       "    }\n",
       "</style>\n",
       "<table border=\"1\" class=\"dataframe\">\n",
       "  <thead>\n",
       "    <tr style=\"text-align: right;\">\n",
       "      <th></th>\n",
       "      <th>clean_text</th>\n",
       "      <th>category</th>\n",
       "    </tr>\n",
       "  </thead>\n",
       "  <tbody>\n",
       "    <tr>\n",
       "      <th>130448</th>\n",
       "      <td>the foundation stone northeast gas grid inaugu...</td>\n",
       "      <td>NaN</td>\n",
       "    </tr>\n",
       "    <tr>\n",
       "      <th>155642</th>\n",
       "      <td>dear terrorists you can run but you cant hide ...</td>\n",
       "      <td>NaN</td>\n",
       "    </tr>\n",
       "    <tr>\n",
       "      <th>155698</th>\n",
       "      <td>offense the best defence with mission shakti m...</td>\n",
       "      <td>NaN</td>\n",
       "    </tr>\n",
       "    <tr>\n",
       "      <th>155770</th>\n",
       "      <td>have always heard politicians backing out thei...</td>\n",
       "      <td>NaN</td>\n",
       "    </tr>\n",
       "    <tr>\n",
       "      <th>158693</th>\n",
       "      <td>modi government plans felicitate the faceless ...</td>\n",
       "      <td>NaN</td>\n",
       "    </tr>\n",
       "    <tr>\n",
       "      <th>159442</th>\n",
       "      <td>chidambaram gives praises modinomics</td>\n",
       "      <td>NaN</td>\n",
       "    </tr>\n",
       "    <tr>\n",
       "      <th>160559</th>\n",
       "      <td>the reason why modi contested from seats 2014 ...</td>\n",
       "      <td>NaN</td>\n",
       "    </tr>\n",
       "  </tbody>\n",
       "</table>\n",
       "</div>"
      ],
      "text/plain": [
       "                                               clean_text  category\n",
       "130448  the foundation stone northeast gas grid inaugu...       NaN\n",
       "155642  dear terrorists you can run but you cant hide ...       NaN\n",
       "155698  offense the best defence with mission shakti m...       NaN\n",
       "155770  have always heard politicians backing out thei...       NaN\n",
       "158693  modi government plans felicitate the faceless ...       NaN\n",
       "159442               chidambaram gives praises modinomics       NaN\n",
       "160559  the reason why modi contested from seats 2014 ...       NaN"
      ]
     },
     "execution_count": 10,
     "metadata": {},
     "output_type": "execute_result"
    }
   ],
   "source": [
    "data[data.category.isnull() == data.isnull().values.any()]"
   ]
  },
  {
   "cell_type": "code",
   "execution_count": 11,
   "id": "2c530804",
   "metadata": {
    "execution": {
     "iopub.execute_input": "2024-03-07T11:26:16.576720Z",
     "iopub.status.busy": "2024-03-07T11:26:16.576075Z",
     "iopub.status.idle": "2024-03-07T11:26:16.639002Z",
     "shell.execute_reply": "2024-03-07T11:26:16.637871Z"
    },
    "papermill": {
     "duration": 0.077996,
     "end_time": "2024-03-07T11:26:16.641523",
     "exception": false,
     "start_time": "2024-03-07T11:26:16.563527",
     "status": "completed"
    },
    "tags": []
   },
   "outputs": [
    {
     "data": {
      "text/plain": [
       "clean_text    False\n",
       "category      False\n",
       "dtype: bool"
      ]
     },
     "execution_count": 11,
     "metadata": {},
     "output_type": "execute_result"
    }
   ],
   "source": [
    "# Drop missing values\n",
    "\n",
    "data = data.dropna()\n",
    "data.isna().any()"
   ]
  },
  {
   "cell_type": "code",
   "execution_count": 12,
   "id": "93532518",
   "metadata": {
    "execution": {
     "iopub.execute_input": "2024-03-07T11:26:16.667009Z",
     "iopub.status.busy": "2024-03-07T11:26:16.666557Z",
     "iopub.status.idle": "2024-03-07T11:26:16.673200Z",
     "shell.execute_reply": "2024-03-07T11:26:16.672116Z"
    },
    "papermill": {
     "duration": 0.02166,
     "end_time": "2024-03-07T11:26:16.675596",
     "exception": false,
     "start_time": "2024-03-07T11:26:16.653936",
     "status": "completed"
    },
    "tags": []
   },
   "outputs": [
    {
     "data": {
      "text/plain": [
       "(162969, 2)"
      ]
     },
     "execution_count": 12,
     "metadata": {},
     "output_type": "execute_result"
    }
   ],
   "source": [
    "data.shape"
   ]
  },
  {
   "cell_type": "markdown",
   "id": "5a6e4547",
   "metadata": {
    "papermill": {
     "duration": 0.011326,
     "end_time": "2024-03-07T11:26:16.698488",
     "exception": false,
     "start_time": "2024-03-07T11:26:16.687162",
     "status": "completed"
    },
    "tags": []
   },
   "source": [
    "**EDA**"
   ]
  },
  {
   "cell_type": "code",
   "execution_count": 13,
   "id": "46b1bc0c",
   "metadata": {
    "execution": {
     "iopub.execute_input": "2024-03-07T11:26:16.723217Z",
     "iopub.status.busy": "2024-03-07T11:26:16.722842Z",
     "iopub.status.idle": "2024-03-07T11:26:19.381063Z",
     "shell.execute_reply": "2024-03-07T11:26:19.380248Z"
    },
    "papermill": {
     "duration": 2.673318,
     "end_time": "2024-03-07T11:26:19.383340",
     "exception": false,
     "start_time": "2024-03-07T11:26:16.710022",
     "status": "completed"
    },
    "tags": []
   },
   "outputs": [
    {
     "data": {
      "text/html": [
       "        <script type=\"text/javascript\">\n",
       "        window.PlotlyConfig = {MathJaxConfig: 'local'};\n",
       "        if (window.MathJax && window.MathJax.Hub && window.MathJax.Hub.Config) {window.MathJax.Hub.Config({SVG: {font: \"STIX-Web\"}});}\n",
       "        if (typeof require !== 'undefined') {\n",
       "        require.undef(\"plotly\");\n",
       "        requirejs.config({\n",
       "            paths: {\n",
       "                'plotly': ['https://cdn.plot.ly/plotly-2.27.0.min']\n",
       "            }\n",
       "        });\n",
       "        require(['plotly'], function(Plotly) {\n",
       "            window._Plotly = Plotly;\n",
       "        });\n",
       "        }\n",
       "        </script>\n",
       "        "
      ]
     },
     "metadata": {},
     "output_type": "display_data"
    },
    {
     "data": {
      "text/html": [
       "<div>                            <div id=\"7c40b547-2e9a-4044-b736-ade9a3da12c8\" class=\"plotly-graph-div\" style=\"height:525px; width:100%;\"></div>            <script type=\"text/javascript\">                require([\"plotly\"], function(Plotly) {                    window.PLOTLYENV=window.PLOTLYENV || {};                                    if (document.getElementById(\"7c40b547-2e9a-4044-b736-ade9a3da12c8\")) {                    Plotly.newPlot(                        \"7c40b547-2e9a-4044-b736-ade9a3da12c8\",                        [{\"domain\":{\"x\":[0.0,1.0],\"y\":[0.0,1.0]},\"hole\":0.4,\"hovertemplate\":\"label=%{label}\\u003cbr\\u003ecount=%{value}\\u003cextra\\u003e\\u003c\\u002fextra\\u003e\",\"labels\":[\"Positive\",\"Neutral\",\"Negative\"],\"legendgroup\":\"\",\"name\":\"\",\"showlegend\":true,\"values\":[72249,55211,35509],\"type\":\"pie\"}],                        {\"template\":{\"data\":{\"histogram2dcontour\":[{\"type\":\"histogram2dcontour\",\"colorbar\":{\"outlinewidth\":0,\"ticks\":\"\"},\"colorscale\":[[0.0,\"#0d0887\"],[0.1111111111111111,\"#46039f\"],[0.2222222222222222,\"#7201a8\"],[0.3333333333333333,\"#9c179e\"],[0.4444444444444444,\"#bd3786\"],[0.5555555555555556,\"#d8576b\"],[0.6666666666666666,\"#ed7953\"],[0.7777777777777778,\"#fb9f3a\"],[0.8888888888888888,\"#fdca26\"],[1.0,\"#f0f921\"]]}],\"choropleth\":[{\"type\":\"choropleth\",\"colorbar\":{\"outlinewidth\":0,\"ticks\":\"\"}}],\"histogram2d\":[{\"type\":\"histogram2d\",\"colorbar\":{\"outlinewidth\":0,\"ticks\":\"\"},\"colorscale\":[[0.0,\"#0d0887\"],[0.1111111111111111,\"#46039f\"],[0.2222222222222222,\"#7201a8\"],[0.3333333333333333,\"#9c179e\"],[0.4444444444444444,\"#bd3786\"],[0.5555555555555556,\"#d8576b\"],[0.6666666666666666,\"#ed7953\"],[0.7777777777777778,\"#fb9f3a\"],[0.8888888888888888,\"#fdca26\"],[1.0,\"#f0f921\"]]}],\"heatmap\":[{\"type\":\"heatmap\",\"colorbar\":{\"outlinewidth\":0,\"ticks\":\"\"},\"colorscale\":[[0.0,\"#0d0887\"],[0.1111111111111111,\"#46039f\"],[0.2222222222222222,\"#7201a8\"],[0.3333333333333333,\"#9c179e\"],[0.4444444444444444,\"#bd3786\"],[0.5555555555555556,\"#d8576b\"],[0.6666666666666666,\"#ed7953\"],[0.7777777777777778,\"#fb9f3a\"],[0.8888888888888888,\"#fdca26\"],[1.0,\"#f0f921\"]]}],\"heatmapgl\":[{\"type\":\"heatmapgl\",\"colorbar\":{\"outlinewidth\":0,\"ticks\":\"\"},\"colorscale\":[[0.0,\"#0d0887\"],[0.1111111111111111,\"#46039f\"],[0.2222222222222222,\"#7201a8\"],[0.3333333333333333,\"#9c179e\"],[0.4444444444444444,\"#bd3786\"],[0.5555555555555556,\"#d8576b\"],[0.6666666666666666,\"#ed7953\"],[0.7777777777777778,\"#fb9f3a\"],[0.8888888888888888,\"#fdca26\"],[1.0,\"#f0f921\"]]}],\"contourcarpet\":[{\"type\":\"contourcarpet\",\"colorbar\":{\"outlinewidth\":0,\"ticks\":\"\"}}],\"contour\":[{\"type\":\"contour\",\"colorbar\":{\"outlinewidth\":0,\"ticks\":\"\"},\"colorscale\":[[0.0,\"#0d0887\"],[0.1111111111111111,\"#46039f\"],[0.2222222222222222,\"#7201a8\"],[0.3333333333333333,\"#9c179e\"],[0.4444444444444444,\"#bd3786\"],[0.5555555555555556,\"#d8576b\"],[0.6666666666666666,\"#ed7953\"],[0.7777777777777778,\"#fb9f3a\"],[0.8888888888888888,\"#fdca26\"],[1.0,\"#f0f921\"]]}],\"surface\":[{\"type\":\"surface\",\"colorbar\":{\"outlinewidth\":0,\"ticks\":\"\"},\"colorscale\":[[0.0,\"#0d0887\"],[0.1111111111111111,\"#46039f\"],[0.2222222222222222,\"#7201a8\"],[0.3333333333333333,\"#9c179e\"],[0.4444444444444444,\"#bd3786\"],[0.5555555555555556,\"#d8576b\"],[0.6666666666666666,\"#ed7953\"],[0.7777777777777778,\"#fb9f3a\"],[0.8888888888888888,\"#fdca26\"],[1.0,\"#f0f921\"]]}],\"mesh3d\":[{\"type\":\"mesh3d\",\"colorbar\":{\"outlinewidth\":0,\"ticks\":\"\"}}],\"scatter\":[{\"fillpattern\":{\"fillmode\":\"overlay\",\"size\":10,\"solidity\":0.2},\"type\":\"scatter\"}],\"parcoords\":[{\"type\":\"parcoords\",\"line\":{\"colorbar\":{\"outlinewidth\":0,\"ticks\":\"\"}}}],\"scatterpolargl\":[{\"type\":\"scatterpolargl\",\"marker\":{\"colorbar\":{\"outlinewidth\":0,\"ticks\":\"\"}}}],\"bar\":[{\"error_x\":{\"color\":\"#2a3f5f\"},\"error_y\":{\"color\":\"#2a3f5f\"},\"marker\":{\"line\":{\"color\":\"#E5ECF6\",\"width\":0.5},\"pattern\":{\"fillmode\":\"overlay\",\"size\":10,\"solidity\":0.2}},\"type\":\"bar\"}],\"scattergeo\":[{\"type\":\"scattergeo\",\"marker\":{\"colorbar\":{\"outlinewidth\":0,\"ticks\":\"\"}}}],\"scatterpolar\":[{\"type\":\"scatterpolar\",\"marker\":{\"colorbar\":{\"outlinewidth\":0,\"ticks\":\"\"}}}],\"histogram\":[{\"marker\":{\"pattern\":{\"fillmode\":\"overlay\",\"size\":10,\"solidity\":0.2}},\"type\":\"histogram\"}],\"scattergl\":[{\"type\":\"scattergl\",\"marker\":{\"colorbar\":{\"outlinewidth\":0,\"ticks\":\"\"}}}],\"scatter3d\":[{\"type\":\"scatter3d\",\"line\":{\"colorbar\":{\"outlinewidth\":0,\"ticks\":\"\"}},\"marker\":{\"colorbar\":{\"outlinewidth\":0,\"ticks\":\"\"}}}],\"scattermapbox\":[{\"type\":\"scattermapbox\",\"marker\":{\"colorbar\":{\"outlinewidth\":0,\"ticks\":\"\"}}}],\"scatterternary\":[{\"type\":\"scatterternary\",\"marker\":{\"colorbar\":{\"outlinewidth\":0,\"ticks\":\"\"}}}],\"scattercarpet\":[{\"type\":\"scattercarpet\",\"marker\":{\"colorbar\":{\"outlinewidth\":0,\"ticks\":\"\"}}}],\"carpet\":[{\"aaxis\":{\"endlinecolor\":\"#2a3f5f\",\"gridcolor\":\"white\",\"linecolor\":\"white\",\"minorgridcolor\":\"white\",\"startlinecolor\":\"#2a3f5f\"},\"baxis\":{\"endlinecolor\":\"#2a3f5f\",\"gridcolor\":\"white\",\"linecolor\":\"white\",\"minorgridcolor\":\"white\",\"startlinecolor\":\"#2a3f5f\"},\"type\":\"carpet\"}],\"table\":[{\"cells\":{\"fill\":{\"color\":\"#EBF0F8\"},\"line\":{\"color\":\"white\"}},\"header\":{\"fill\":{\"color\":\"#C8D4E3\"},\"line\":{\"color\":\"white\"}},\"type\":\"table\"}],\"barpolar\":[{\"marker\":{\"line\":{\"color\":\"#E5ECF6\",\"width\":0.5},\"pattern\":{\"fillmode\":\"overlay\",\"size\":10,\"solidity\":0.2}},\"type\":\"barpolar\"}],\"pie\":[{\"automargin\":true,\"type\":\"pie\"}]},\"layout\":{\"autotypenumbers\":\"strict\",\"colorway\":[\"#636efa\",\"#EF553B\",\"#00cc96\",\"#ab63fa\",\"#FFA15A\",\"#19d3f3\",\"#FF6692\",\"#B6E880\",\"#FF97FF\",\"#FECB52\"],\"font\":{\"color\":\"#2a3f5f\"},\"hovermode\":\"closest\",\"hoverlabel\":{\"align\":\"left\"},\"paper_bgcolor\":\"white\",\"plot_bgcolor\":\"#E5ECF6\",\"polar\":{\"bgcolor\":\"#E5ECF6\",\"angularaxis\":{\"gridcolor\":\"white\",\"linecolor\":\"white\",\"ticks\":\"\"},\"radialaxis\":{\"gridcolor\":\"white\",\"linecolor\":\"white\",\"ticks\":\"\"}},\"ternary\":{\"bgcolor\":\"#E5ECF6\",\"aaxis\":{\"gridcolor\":\"white\",\"linecolor\":\"white\",\"ticks\":\"\"},\"baxis\":{\"gridcolor\":\"white\",\"linecolor\":\"white\",\"ticks\":\"\"},\"caxis\":{\"gridcolor\":\"white\",\"linecolor\":\"white\",\"ticks\":\"\"}},\"coloraxis\":{\"colorbar\":{\"outlinewidth\":0,\"ticks\":\"\"}},\"colorscale\":{\"sequential\":[[0.0,\"#0d0887\"],[0.1111111111111111,\"#46039f\"],[0.2222222222222222,\"#7201a8\"],[0.3333333333333333,\"#9c179e\"],[0.4444444444444444,\"#bd3786\"],[0.5555555555555556,\"#d8576b\"],[0.6666666666666666,\"#ed7953\"],[0.7777777777777778,\"#fb9f3a\"],[0.8888888888888888,\"#fdca26\"],[1.0,\"#f0f921\"]],\"sequentialminus\":[[0.0,\"#0d0887\"],[0.1111111111111111,\"#46039f\"],[0.2222222222222222,\"#7201a8\"],[0.3333333333333333,\"#9c179e\"],[0.4444444444444444,\"#bd3786\"],[0.5555555555555556,\"#d8576b\"],[0.6666666666666666,\"#ed7953\"],[0.7777777777777778,\"#fb9f3a\"],[0.8888888888888888,\"#fdca26\"],[1.0,\"#f0f921\"]],\"diverging\":[[0,\"#8e0152\"],[0.1,\"#c51b7d\"],[0.2,\"#de77ae\"],[0.3,\"#f1b6da\"],[0.4,\"#fde0ef\"],[0.5,\"#f7f7f7\"],[0.6,\"#e6f5d0\"],[0.7,\"#b8e186\"],[0.8,\"#7fbc41\"],[0.9,\"#4d9221\"],[1,\"#276419\"]]},\"xaxis\":{\"gridcolor\":\"white\",\"linecolor\":\"white\",\"ticks\":\"\",\"title\":{\"standoff\":15},\"zerolinecolor\":\"white\",\"automargin\":true,\"zerolinewidth\":2},\"yaxis\":{\"gridcolor\":\"white\",\"linecolor\":\"white\",\"ticks\":\"\",\"title\":{\"standoff\":15},\"zerolinecolor\":\"white\",\"automargin\":true,\"zerolinewidth\":2},\"scene\":{\"xaxis\":{\"backgroundcolor\":\"#E5ECF6\",\"gridcolor\":\"white\",\"linecolor\":\"white\",\"showbackground\":true,\"ticks\":\"\",\"zerolinecolor\":\"white\",\"gridwidth\":2},\"yaxis\":{\"backgroundcolor\":\"#E5ECF6\",\"gridcolor\":\"white\",\"linecolor\":\"white\",\"showbackground\":true,\"ticks\":\"\",\"zerolinecolor\":\"white\",\"gridwidth\":2},\"zaxis\":{\"backgroundcolor\":\"#E5ECF6\",\"gridcolor\":\"white\",\"linecolor\":\"white\",\"showbackground\":true,\"ticks\":\"\",\"zerolinecolor\":\"white\",\"gridwidth\":2}},\"shapedefaults\":{\"line\":{\"color\":\"#2a3f5f\"}},\"annotationdefaults\":{\"arrowcolor\":\"#2a3f5f\",\"arrowhead\":0,\"arrowwidth\":1},\"geo\":{\"bgcolor\":\"white\",\"landcolor\":\"#E5ECF6\",\"subunitcolor\":\"white\",\"showland\":true,\"showlakes\":true,\"lakecolor\":\"white\"},\"title\":{\"x\":0.05},\"mapbox\":{\"style\":\"light\"}}},\"legend\":{\"tracegroupgap\":0},\"title\":{\"text\":\"Count of Sentiments\"}},                        {\"responsive\": true}                    ).then(function(){\n",
       "                            \n",
       "var gd = document.getElementById('7c40b547-2e9a-4044-b736-ade9a3da12c8');\n",
       "var x = new MutationObserver(function (mutations, observer) {{\n",
       "        var display = window.getComputedStyle(gd).display;\n",
       "        if (!display || display === 'none') {{\n",
       "            console.log([gd, 'removed!']);\n",
       "            Plotly.purge(gd);\n",
       "            observer.disconnect();\n",
       "        }}\n",
       "}});\n",
       "\n",
       "// Listen for the removal of the full notebook cells\n",
       "var notebookContainer = gd.closest('#notebook-container');\n",
       "if (notebookContainer) {{\n",
       "    x.observe(notebookContainer, {childList: true});\n",
       "}}\n",
       "\n",
       "// Listen for the clearing of the current output cell\n",
       "var outputEl = gd.closest('.output');\n",
       "if (outputEl) {{\n",
       "    x.observe(outputEl, {childList: true});\n",
       "}}\n",
       "\n",
       "                        })                };                });            </script>        </div>"
      ]
     },
     "metadata": {},
     "output_type": "display_data"
    }
   ],
   "source": [
    "category_count = data.category.value_counts().reset_index()\n",
    "\n",
    "import plotly.express as ps\n",
    "\n",
    "figure = ps.pie(category_count, names=['Positive', 'Neutral', 'Negative'], values='count', title='Count of Sentiments', hole=0.4)\n",
    "figure.show()"
   ]
  },
  {
   "cell_type": "code",
   "execution_count": 14,
   "id": "ec297d6e",
   "metadata": {
    "execution": {
     "iopub.execute_input": "2024-03-07T11:26:19.410327Z",
     "iopub.status.busy": "2024-03-07T11:26:19.409339Z",
     "iopub.status.idle": "2024-03-07T11:26:19.414231Z",
     "shell.execute_reply": "2024-03-07T11:26:19.413204Z"
    },
    "papermill": {
     "duration": 0.02066,
     "end_time": "2024-03-07T11:26:19.416372",
     "exception": false,
     "start_time": "2024-03-07T11:26:19.395712",
     "status": "completed"
    },
    "tags": []
   },
   "outputs": [],
   "source": [
    "ps = PorterStemmer()"
   ]
  },
  {
   "cell_type": "code",
   "execution_count": 15,
   "id": "bf9081d8",
   "metadata": {
    "execution": {
     "iopub.execute_input": "2024-03-07T11:26:19.442122Z",
     "iopub.status.busy": "2024-03-07T11:26:19.441716Z",
     "iopub.status.idle": "2024-03-07T11:26:19.448454Z",
     "shell.execute_reply": "2024-03-07T11:26:19.447337Z"
    },
    "papermill": {
     "duration": 0.022705,
     "end_time": "2024-03-07T11:26:19.451140",
     "exception": false,
     "start_time": "2024-03-07T11:26:19.428435",
     "status": "completed"
    },
    "tags": []
   },
   "outputs": [],
   "source": [
    "def stemming(content):\n",
    "    \n",
    "    stemmed_content = re.sub('[^a-zA-Z]', ' ', content)\n",
    "    stemmed_content = stemmed_content.lower()\n",
    "    stemmed_content = stemmed_content.split()\n",
    "    stemmed_content = [ps.stem(word) for word in stemmed_content if not word in set(stopwords.words('english'))]\n",
    "    stemmed_content = ' '.join(stemmed_content)\n",
    "    \n",
    "    return stemmed_content"
   ]
  },
  {
   "cell_type": "code",
   "execution_count": 16,
   "id": "19218a9e",
   "metadata": {
    "execution": {
     "iopub.execute_input": "2024-03-07T11:26:19.483753Z",
     "iopub.status.busy": "2024-03-07T11:26:19.482363Z",
     "iopub.status.idle": "2024-03-07T11:36:14.443615Z",
     "shell.execute_reply": "2024-03-07T11:36:14.442640Z"
    },
    "papermill": {
     "duration": 594.980446,
     "end_time": "2024-03-07T11:36:14.446335",
     "exception": false,
     "start_time": "2024-03-07T11:26:19.465889",
     "status": "completed"
    },
    "tags": []
   },
   "outputs": [],
   "source": [
    "# create new columns to the data set called stemmed_text\n",
    "\n",
    "data['stemmed_text'] = data.clean_text.apply(stemming)"
   ]
  },
  {
   "cell_type": "code",
   "execution_count": 17,
   "id": "83961751",
   "metadata": {
    "execution": {
     "iopub.execute_input": "2024-03-07T11:36:14.473012Z",
     "iopub.status.busy": "2024-03-07T11:36:14.472620Z",
     "iopub.status.idle": "2024-03-07T11:36:14.477570Z",
     "shell.execute_reply": "2024-03-07T11:36:14.476559Z"
    },
    "papermill": {
     "duration": 0.020556,
     "end_time": "2024-03-07T11:36:14.479831",
     "exception": false,
     "start_time": "2024-03-07T11:36:14.459275",
     "status": "completed"
    },
    "tags": []
   },
   "outputs": [],
   "source": [
    "X = data.stemmed_text\n",
    "y = data.category"
   ]
  },
  {
   "cell_type": "code",
   "execution_count": 18,
   "id": "cccd02e6",
   "metadata": {
    "execution": {
     "iopub.execute_input": "2024-03-07T11:36:14.505716Z",
     "iopub.status.busy": "2024-03-07T11:36:14.505270Z",
     "iopub.status.idle": "2024-03-07T11:36:14.512090Z",
     "shell.execute_reply": "2024-03-07T11:36:14.510852Z"
    },
    "papermill": {
     "duration": 0.022405,
     "end_time": "2024-03-07T11:36:14.514319",
     "exception": false,
     "start_time": "2024-03-07T11:36:14.491914",
     "status": "completed"
    },
    "tags": []
   },
   "outputs": [
    {
     "data": {
      "text/plain": [
       "(162969,)"
      ]
     },
     "execution_count": 18,
     "metadata": {},
     "output_type": "execute_result"
    }
   ],
   "source": [
    "X.shape"
   ]
  },
  {
   "cell_type": "code",
   "execution_count": 19,
   "id": "a6c489c9",
   "metadata": {
    "execution": {
     "iopub.execute_input": "2024-03-07T11:36:14.540281Z",
     "iopub.status.busy": "2024-03-07T11:36:14.539876Z",
     "iopub.status.idle": "2024-03-07T11:36:14.643431Z",
     "shell.execute_reply": "2024-03-07T11:36:14.642215Z"
    },
    "papermill": {
     "duration": 0.119557,
     "end_time": "2024-03-07T11:36:14.646061",
     "exception": false,
     "start_time": "2024-03-07T11:36:14.526504",
     "status": "completed"
    },
    "tags": []
   },
   "outputs": [],
   "source": [
    "# Splitinf the data for train and test data respectively\n",
    "\n",
    "train_X, test_X, train_y, test_y = train_test_split(X, y, test_size=0.2,stratify=y, random_state=10)"
   ]
  },
  {
   "cell_type": "code",
   "execution_count": 20,
   "id": "b0aa4631",
   "metadata": {
    "execution": {
     "iopub.execute_input": "2024-03-07T11:36:14.672682Z",
     "iopub.status.busy": "2024-03-07T11:36:14.672261Z",
     "iopub.status.idle": "2024-03-07T11:36:18.768940Z",
     "shell.execute_reply": "2024-03-07T11:36:18.767596Z"
    },
    "papermill": {
     "duration": 4.11314,
     "end_time": "2024-03-07T11:36:18.771787",
     "exception": false,
     "start_time": "2024-03-07T11:36:14.658647",
     "status": "completed"
    },
    "tags": []
   },
   "outputs": [],
   "source": [
    "# converting the textual data to vectors or numerical data.\n",
    "\n",
    "vectorizer = TfidfVectorizer()\n",
    "\n",
    "train_X = vectorizer.fit_transform(train_X)\n",
    "test_X = vectorizer.transform(test_X)"
   ]
  },
  {
   "cell_type": "markdown",
   "id": "00dc1602",
   "metadata": {
    "papermill": {
     "duration": 0.015625,
     "end_time": "2024-03-07T11:36:18.802363",
     "exception": false,
     "start_time": "2024-03-07T11:36:18.786738",
     "status": "completed"
    },
    "tags": []
   },
   "source": [
    "**Create and Evaluate The Model**"
   ]
  },
  {
   "cell_type": "code",
   "execution_count": 21,
   "id": "f292687b",
   "metadata": {
    "execution": {
     "iopub.execute_input": "2024-03-07T11:36:18.829050Z",
     "iopub.status.busy": "2024-03-07T11:36:18.828136Z",
     "iopub.status.idle": "2024-03-07T11:36:18.833639Z",
     "shell.execute_reply": "2024-03-07T11:36:18.832478Z"
    },
    "papermill": {
     "duration": 0.021393,
     "end_time": "2024-03-07T11:36:18.836018",
     "exception": false,
     "start_time": "2024-03-07T11:36:18.814625",
     "status": "completed"
    },
    "tags": []
   },
   "outputs": [],
   "source": [
    "model = LogisticRegression(max_iter=1000)"
   ]
  },
  {
   "cell_type": "code",
   "execution_count": 22,
   "id": "2917a961",
   "metadata": {
    "execution": {
     "iopub.execute_input": "2024-03-07T11:36:18.862093Z",
     "iopub.status.busy": "2024-03-07T11:36:18.861720Z",
     "iopub.status.idle": "2024-03-07T11:37:20.985230Z",
     "shell.execute_reply": "2024-03-07T11:37:20.984103Z"
    },
    "papermill": {
     "duration": 62.168449,
     "end_time": "2024-03-07T11:37:21.016643",
     "exception": false,
     "start_time": "2024-03-07T11:36:18.848194",
     "status": "completed"
    },
    "tags": []
   },
   "outputs": [
    {
     "data": {
      "text/html": [
       "<style>#sk-container-id-1 {color: black;background-color: white;}#sk-container-id-1 pre{padding: 0;}#sk-container-id-1 div.sk-toggleable {background-color: white;}#sk-container-id-1 label.sk-toggleable__label {cursor: pointer;display: block;width: 100%;margin-bottom: 0;padding: 0.3em;box-sizing: border-box;text-align: center;}#sk-container-id-1 label.sk-toggleable__label-arrow:before {content: \"▸\";float: left;margin-right: 0.25em;color: #696969;}#sk-container-id-1 label.sk-toggleable__label-arrow:hover:before {color: black;}#sk-container-id-1 div.sk-estimator:hover label.sk-toggleable__label-arrow:before {color: black;}#sk-container-id-1 div.sk-toggleable__content {max-height: 0;max-width: 0;overflow: hidden;text-align: left;background-color: #f0f8ff;}#sk-container-id-1 div.sk-toggleable__content pre {margin: 0.2em;color: black;border-radius: 0.25em;background-color: #f0f8ff;}#sk-container-id-1 input.sk-toggleable__control:checked~div.sk-toggleable__content {max-height: 200px;max-width: 100%;overflow: auto;}#sk-container-id-1 input.sk-toggleable__control:checked~label.sk-toggleable__label-arrow:before {content: \"▾\";}#sk-container-id-1 div.sk-estimator input.sk-toggleable__control:checked~label.sk-toggleable__label {background-color: #d4ebff;}#sk-container-id-1 div.sk-label input.sk-toggleable__control:checked~label.sk-toggleable__label {background-color: #d4ebff;}#sk-container-id-1 input.sk-hidden--visually {border: 0;clip: rect(1px 1px 1px 1px);clip: rect(1px, 1px, 1px, 1px);height: 1px;margin: -1px;overflow: hidden;padding: 0;position: absolute;width: 1px;}#sk-container-id-1 div.sk-estimator {font-family: monospace;background-color: #f0f8ff;border: 1px dotted black;border-radius: 0.25em;box-sizing: border-box;margin-bottom: 0.5em;}#sk-container-id-1 div.sk-estimator:hover {background-color: #d4ebff;}#sk-container-id-1 div.sk-parallel-item::after {content: \"\";width: 100%;border-bottom: 1px solid gray;flex-grow: 1;}#sk-container-id-1 div.sk-label:hover label.sk-toggleable__label {background-color: #d4ebff;}#sk-container-id-1 div.sk-serial::before {content: \"\";position: absolute;border-left: 1px solid gray;box-sizing: border-box;top: 0;bottom: 0;left: 50%;z-index: 0;}#sk-container-id-1 div.sk-serial {display: flex;flex-direction: column;align-items: center;background-color: white;padding-right: 0.2em;padding-left: 0.2em;position: relative;}#sk-container-id-1 div.sk-item {position: relative;z-index: 1;}#sk-container-id-1 div.sk-parallel {display: flex;align-items: stretch;justify-content: center;background-color: white;position: relative;}#sk-container-id-1 div.sk-item::before, #sk-container-id-1 div.sk-parallel-item::before {content: \"\";position: absolute;border-left: 1px solid gray;box-sizing: border-box;top: 0;bottom: 0;left: 50%;z-index: -1;}#sk-container-id-1 div.sk-parallel-item {display: flex;flex-direction: column;z-index: 1;position: relative;background-color: white;}#sk-container-id-1 div.sk-parallel-item:first-child::after {align-self: flex-end;width: 50%;}#sk-container-id-1 div.sk-parallel-item:last-child::after {align-self: flex-start;width: 50%;}#sk-container-id-1 div.sk-parallel-item:only-child::after {width: 0;}#sk-container-id-1 div.sk-dashed-wrapped {border: 1px dashed gray;margin: 0 0.4em 0.5em 0.4em;box-sizing: border-box;padding-bottom: 0.4em;background-color: white;}#sk-container-id-1 div.sk-label label {font-family: monospace;font-weight: bold;display: inline-block;line-height: 1.2em;}#sk-container-id-1 div.sk-label-container {text-align: center;}#sk-container-id-1 div.sk-container {/* jupyter's `normalize.less` sets `[hidden] { display: none; }` but bootstrap.min.css set `[hidden] { display: none !important; }` so we also need the `!important` here to be able to override the default hidden behavior on the sphinx rendered scikit-learn.org. See: https://github.com/scikit-learn/scikit-learn/issues/21755 */display: inline-block !important;position: relative;}#sk-container-id-1 div.sk-text-repr-fallback {display: none;}</style><div id=\"sk-container-id-1\" class=\"sk-top-container\"><div class=\"sk-text-repr-fallback\"><pre>LogisticRegression(max_iter=1000)</pre><b>In a Jupyter environment, please rerun this cell to show the HTML representation or trust the notebook. <br />On GitHub, the HTML representation is unable to render, please try loading this page with nbviewer.org.</b></div><div class=\"sk-container\" hidden><div class=\"sk-item\"><div class=\"sk-estimator sk-toggleable\"><input class=\"sk-toggleable__control sk-hidden--visually\" id=\"sk-estimator-id-1\" type=\"checkbox\" checked><label for=\"sk-estimator-id-1\" class=\"sk-toggleable__label sk-toggleable__label-arrow\">LogisticRegression</label><div class=\"sk-toggleable__content\"><pre>LogisticRegression(max_iter=1000)</pre></div></div></div></div></div>"
      ],
      "text/plain": [
       "LogisticRegression(max_iter=1000)"
      ]
     },
     "execution_count": 22,
     "metadata": {},
     "output_type": "execute_result"
    }
   ],
   "source": [
    "model.fit(train_X, train_y)"
   ]
  },
  {
   "cell_type": "code",
   "execution_count": 23,
   "id": "60fb416b",
   "metadata": {
    "execution": {
     "iopub.execute_input": "2024-03-07T11:37:21.054035Z",
     "iopub.status.busy": "2024-03-07T11:37:21.053536Z",
     "iopub.status.idle": "2024-03-07T11:37:21.084979Z",
     "shell.execute_reply": "2024-03-07T11:37:21.083599Z"
    },
    "papermill": {
     "duration": 0.047949,
     "end_time": "2024-03-07T11:37:21.087734",
     "exception": false,
     "start_time": "2024-03-07T11:37:21.039785",
     "status": "completed"
    },
    "tags": []
   },
   "outputs": [],
   "source": [
    "train_predictions = model.predict(train_X)\n",
    "test_predictions = model.predict(test_X)"
   ]
  },
  {
   "cell_type": "code",
   "execution_count": 24,
   "id": "df3accce",
   "metadata": {
    "execution": {
     "iopub.execute_input": "2024-03-07T11:37:21.114462Z",
     "iopub.status.busy": "2024-03-07T11:37:21.114010Z",
     "iopub.status.idle": "2024-03-07T11:37:21.282156Z",
     "shell.execute_reply": "2024-03-07T11:37:21.280819Z"
    },
    "papermill": {
     "duration": 0.184298,
     "end_time": "2024-03-07T11:37:21.284855",
     "exception": false,
     "start_time": "2024-03-07T11:37:21.100557",
     "status": "completed"
    },
    "tags": []
   },
   "outputs": [
    {
     "name": "stdout",
     "output_type": "stream",
     "text": [
      "accuracy_score train:  0.8791025886864813\n",
      "confusion_matrix train:  [[22072  3011  3324]\n",
      " [  987 41272  1910]\n",
      " [ 2206  4324 51269]]\n"
     ]
    }
   ],
   "source": [
    "# check the model score for train data\n",
    "\n",
    "accuracy_score_train = accuracy_score(train_y, train_predictions)\n",
    "confusion_matrix_train = confusion_matrix(train_y, train_predictions)\n",
    "\n",
    "print(\"accuracy_score train: \", accuracy_score_train)\n",
    "print(\"confusion_matrix train: \", confusion_matrix_train)"
   ]
  },
  {
   "cell_type": "code",
   "execution_count": 25,
   "id": "0340d325",
   "metadata": {
    "execution": {
     "iopub.execute_input": "2024-03-07T11:37:21.311719Z",
     "iopub.status.busy": "2024-03-07T11:37:21.311276Z",
     "iopub.status.idle": "2024-03-07T11:37:21.361425Z",
     "shell.execute_reply": "2024-03-07T11:37:21.360078Z"
    },
    "papermill": {
     "duration": 0.066579,
     "end_time": "2024-03-07T11:37:21.364051",
     "exception": false,
     "start_time": "2024-03-07T11:37:21.297472",
     "status": "completed"
    },
    "tags": []
   },
   "outputs": [
    {
     "name": "stdout",
     "output_type": "stream",
     "text": [
      "accuracy_score train:  0.8429465545805976\n",
      "confusion_matrix train:  [[ 5039   985  1078]\n",
      " [  367 10034   641]\n",
      " [  758  1290 12402]]\n"
     ]
    }
   ],
   "source": [
    "# check the model score for test data\n",
    "\n",
    "accuracy_score_test = accuracy_score(test_y, test_predictions)\n",
    "confusion_matrix_test = confusion_matrix(test_y, test_predictions)\n",
    "\n",
    "print(\"accuracy_score train: \", accuracy_score_test)\n",
    "print(\"confusion_matrix train: \", confusion_matrix_test)"
   ]
  },
  {
   "cell_type": "code",
   "execution_count": null,
   "id": "e8b7da16",
   "metadata": {
    "papermill": {
     "duration": 0.01216,
     "end_time": "2024-03-07T11:37:21.388817",
     "exception": false,
     "start_time": "2024-03-07T11:37:21.376657",
     "status": "completed"
    },
    "tags": []
   },
   "outputs": [],
   "source": []
  }
 ],
 "metadata": {
  "kaggle": {
   "accelerator": "none",
   "dataSources": [
    {
     "datasetId": 1340873,
     "sourceId": 2231927,
     "sourceType": "datasetVersion"
    }
   ],
   "dockerImageVersionId": 30664,
   "isGpuEnabled": false,
   "isInternetEnabled": true,
   "language": "python",
   "sourceType": "notebook"
  },
  "kernelspec": {
   "display_name": "Python 3",
   "language": "python",
   "name": "python3"
  },
  "language_info": {
   "codemirror_mode": {
    "name": "ipython",
    "version": 3
   },
   "file_extension": ".py",
   "mimetype": "text/x-python",
   "name": "python",
   "nbconvert_exporter": "python",
   "pygments_lexer": "ipython3",
   "version": "3.10.13"
  },
  "papermill": {
   "default_parameters": {},
   "duration": 673.103586,
   "end_time": "2024-03-07T11:37:22.225994",
   "environment_variables": {},
   "exception": null,
   "input_path": "__notebook__.ipynb",
   "output_path": "__notebook__.ipynb",
   "parameters": {},
   "start_time": "2024-03-07T11:26:09.122408",
   "version": "2.5.0"
  }
 },
 "nbformat": 4,
 "nbformat_minor": 5
}
