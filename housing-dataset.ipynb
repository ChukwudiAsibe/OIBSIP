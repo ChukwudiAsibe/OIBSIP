{
 "cells": [
  {
   "cell_type": "code",
   "execution_count": 1,
   "id": "0b7b81da",
   "metadata": {
    "_cell_guid": "b1076dfc-b9ad-4769-8c92-a6c4dae69d19",
    "_uuid": "8f2839f25d086af736a60e9eeb907d3b93b6e0e5",
    "execution": {
     "iopub.execute_input": "2024-03-04T12:24:09.570272Z",
     "iopub.status.busy": "2024-03-04T12:24:09.569827Z",
     "iopub.status.idle": "2024-03-04T12:24:10.358084Z",
     "shell.execute_reply": "2024-03-04T12:24:10.356928Z"
    },
    "papermill": {
     "duration": 0.804346,
     "end_time": "2024-03-04T12:24:10.362377",
     "exception": false,
     "start_time": "2024-03-04T12:24:09.558031",
     "status": "completed"
    },
    "tags": []
   },
   "outputs": [
    {
     "name": "stdout",
     "output_type": "stream",
     "text": [
      "/kaggle/input/housing-dataset/Housing.csv\n"
     ]
    }
   ],
   "source": [
    "# This Python 3 environment comes with many helpful analytics libraries installed\n",
    "# It is defined by the kaggle/python Docker image: https://github.com/kaggle/docker-python\n",
    "# For example, here's several helpful packages to load\n",
    "\n",
    "import numpy as np # linear algebra\n",
    "import pandas as pd # data processing, CSV file I/O (e.g. pd.read_csv)\n",
    "\n",
    "# Input data files are available in the read-only \"../input/\" directory\n",
    "# For example, running this (by clicking run or pressing Shift+Enter) will list all files under the input directory\n",
    "\n",
    "import os\n",
    "for dirname, _, filenames in os.walk('/kaggle/input'):\n",
    "    for filename in filenames:\n",
    "        print(os.path.join(dirname, filename))\n",
    "\n",
    "# You can write up to 20GB to the current directory (/kaggle/working/) that gets preserved as output when you create a version using \"Save & Run All\" \n",
    "# You can also write temporary files to /kaggle/temp/, but they won't be saved outside of the current session"
   ]
  },
  {
   "cell_type": "markdown",
   "id": "14a9e710",
   "metadata": {
    "papermill": {
     "duration": 0.010165,
     "end_time": "2024-03-04T12:24:10.383085",
     "exception": false,
     "start_time": "2024-03-04T12:24:10.372920",
     "status": "completed"
    },
    "tags": []
   },
   "source": [
    "**Load the data**"
   ]
  },
  {
   "cell_type": "code",
   "execution_count": 2,
   "id": "e763aee7",
   "metadata": {
    "execution": {
     "iopub.execute_input": "2024-03-04T12:24:10.404899Z",
     "iopub.status.busy": "2024-03-04T12:24:10.404400Z",
     "iopub.status.idle": "2024-03-04T12:24:10.423371Z",
     "shell.execute_reply": "2024-03-04T12:24:10.422475Z"
    },
    "papermill": {
     "duration": 0.03306,
     "end_time": "2024-03-04T12:24:10.425804",
     "exception": false,
     "start_time": "2024-03-04T12:24:10.392744",
     "status": "completed"
    },
    "tags": []
   },
   "outputs": [],
   "source": [
    "house_data = pd.read_csv('/kaggle/input/housing-dataset/Housing.csv')"
   ]
  },
  {
   "cell_type": "markdown",
   "id": "102b4628",
   "metadata": {
    "papermill": {
     "duration": 0.010674,
     "end_time": "2024-03-04T12:24:10.446737",
     "exception": false,
     "start_time": "2024-03-04T12:24:10.436063",
     "status": "completed"
    },
    "tags": []
   },
   "source": [
    "**Preliminary Analysis**"
   ]
  },
  {
   "cell_type": "code",
   "execution_count": 3,
   "id": "18417486",
   "metadata": {
    "execution": {
     "iopub.execute_input": "2024-03-04T12:24:10.469478Z",
     "iopub.status.busy": "2024-03-04T12:24:10.468831Z",
     "iopub.status.idle": "2024-03-04T12:24:10.476006Z",
     "shell.execute_reply": "2024-03-04T12:24:10.474968Z"
    },
    "papermill": {
     "duration": 0.02116,
     "end_time": "2024-03-04T12:24:10.478205",
     "exception": false,
     "start_time": "2024-03-04T12:24:10.457045",
     "status": "completed"
    },
    "tags": []
   },
   "outputs": [
    {
     "data": {
      "text/plain": [
       "(545, 13)"
      ]
     },
     "execution_count": 3,
     "metadata": {},
     "output_type": "execute_result"
    }
   ],
   "source": [
    "house_data.shape"
   ]
  },
  {
   "cell_type": "code",
   "execution_count": 4,
   "id": "b6c8cff4",
   "metadata": {
    "execution": {
     "iopub.execute_input": "2024-03-04T12:24:10.500517Z",
     "iopub.status.busy": "2024-03-04T12:24:10.499865Z",
     "iopub.status.idle": "2024-03-04T12:24:10.511106Z",
     "shell.execute_reply": "2024-03-04T12:24:10.510389Z"
    },
    "papermill": {
     "duration": 0.024586,
     "end_time": "2024-03-04T12:24:10.512947",
     "exception": false,
     "start_time": "2024-03-04T12:24:10.488361",
     "status": "completed"
    },
    "tags": []
   },
   "outputs": [
    {
     "data": {
      "text/plain": [
       "price               0\n",
       "area                0\n",
       "bedrooms            0\n",
       "bathrooms           0\n",
       "stories             0\n",
       "mainroad            0\n",
       "guestroom           0\n",
       "basement            0\n",
       "hotwaterheating     0\n",
       "airconditioning     0\n",
       "parking             0\n",
       "prefarea            0\n",
       "furnishingstatus    0\n",
       "dtype: int64"
      ]
     },
     "execution_count": 4,
     "metadata": {},
     "output_type": "execute_result"
    }
   ],
   "source": [
    "house_data.isnull().sum()"
   ]
  },
  {
   "cell_type": "code",
   "execution_count": 5,
   "id": "dfa160ca",
   "metadata": {
    "execution": {
     "iopub.execute_input": "2024-03-04T12:24:10.534618Z",
     "iopub.status.busy": "2024-03-04T12:24:10.533982Z",
     "iopub.status.idle": "2024-03-04T12:24:10.555798Z",
     "shell.execute_reply": "2024-03-04T12:24:10.554599Z"
    },
    "papermill": {
     "duration": 0.035426,
     "end_time": "2024-03-04T12:24:10.558145",
     "exception": false,
     "start_time": "2024-03-04T12:24:10.522719",
     "status": "completed"
    },
    "tags": []
   },
   "outputs": [
    {
     "name": "stdout",
     "output_type": "stream",
     "text": [
      "<class 'pandas.core.frame.DataFrame'>\n",
      "RangeIndex: 545 entries, 0 to 544\n",
      "Data columns (total 13 columns):\n",
      " #   Column            Non-Null Count  Dtype \n",
      "---  ------            --------------  ----- \n",
      " 0   price             545 non-null    int64 \n",
      " 1   area              545 non-null    int64 \n",
      " 2   bedrooms          545 non-null    int64 \n",
      " 3   bathrooms         545 non-null    int64 \n",
      " 4   stories           545 non-null    int64 \n",
      " 5   mainroad          545 non-null    object\n",
      " 6   guestroom         545 non-null    object\n",
      " 7   basement          545 non-null    object\n",
      " 8   hotwaterheating   545 non-null    object\n",
      " 9   airconditioning   545 non-null    object\n",
      " 10  parking           545 non-null    int64 \n",
      " 11  prefarea          545 non-null    object\n",
      " 12  furnishingstatus  545 non-null    object\n",
      "dtypes: int64(6), object(7)\n",
      "memory usage: 55.5+ KB\n"
     ]
    }
   ],
   "source": [
    "house_data.info()"
   ]
  },
  {
   "cell_type": "code",
   "execution_count": 6,
   "id": "9948187f",
   "metadata": {
    "execution": {
     "iopub.execute_input": "2024-03-04T12:24:10.579666Z",
     "iopub.status.busy": "2024-03-04T12:24:10.579318Z",
     "iopub.status.idle": "2024-03-04T12:24:10.596833Z",
     "shell.execute_reply": "2024-03-04T12:24:10.595834Z"
    },
    "papermill": {
     "duration": 0.031093,
     "end_time": "2024-03-04T12:24:10.599208",
     "exception": false,
     "start_time": "2024-03-04T12:24:10.568115",
     "status": "completed"
    },
    "tags": []
   },
   "outputs": [
    {
     "data": {
      "text/html": [
       "<div>\n",
       "<style scoped>\n",
       "    .dataframe tbody tr th:only-of-type {\n",
       "        vertical-align: middle;\n",
       "    }\n",
       "\n",
       "    .dataframe tbody tr th {\n",
       "        vertical-align: top;\n",
       "    }\n",
       "\n",
       "    .dataframe thead th {\n",
       "        text-align: right;\n",
       "    }\n",
       "</style>\n",
       "<table border=\"1\" class=\"dataframe\">\n",
       "  <thead>\n",
       "    <tr style=\"text-align: right;\">\n",
       "      <th></th>\n",
       "      <th>price</th>\n",
       "      <th>area</th>\n",
       "      <th>bedrooms</th>\n",
       "      <th>bathrooms</th>\n",
       "      <th>stories</th>\n",
       "      <th>mainroad</th>\n",
       "      <th>guestroom</th>\n",
       "      <th>basement</th>\n",
       "      <th>hotwaterheating</th>\n",
       "      <th>airconditioning</th>\n",
       "      <th>parking</th>\n",
       "      <th>prefarea</th>\n",
       "      <th>furnishingstatus</th>\n",
       "    </tr>\n",
       "  </thead>\n",
       "  <tbody>\n",
       "    <tr>\n",
       "      <th>0</th>\n",
       "      <td>13300000</td>\n",
       "      <td>7420</td>\n",
       "      <td>4</td>\n",
       "      <td>2</td>\n",
       "      <td>3</td>\n",
       "      <td>yes</td>\n",
       "      <td>no</td>\n",
       "      <td>no</td>\n",
       "      <td>no</td>\n",
       "      <td>yes</td>\n",
       "      <td>2</td>\n",
       "      <td>yes</td>\n",
       "      <td>furnished</td>\n",
       "    </tr>\n",
       "    <tr>\n",
       "      <th>1</th>\n",
       "      <td>12250000</td>\n",
       "      <td>8960</td>\n",
       "      <td>4</td>\n",
       "      <td>4</td>\n",
       "      <td>4</td>\n",
       "      <td>yes</td>\n",
       "      <td>no</td>\n",
       "      <td>no</td>\n",
       "      <td>no</td>\n",
       "      <td>yes</td>\n",
       "      <td>3</td>\n",
       "      <td>no</td>\n",
       "      <td>furnished</td>\n",
       "    </tr>\n",
       "    <tr>\n",
       "      <th>2</th>\n",
       "      <td>12250000</td>\n",
       "      <td>9960</td>\n",
       "      <td>3</td>\n",
       "      <td>2</td>\n",
       "      <td>2</td>\n",
       "      <td>yes</td>\n",
       "      <td>no</td>\n",
       "      <td>yes</td>\n",
       "      <td>no</td>\n",
       "      <td>no</td>\n",
       "      <td>2</td>\n",
       "      <td>yes</td>\n",
       "      <td>semi-furnished</td>\n",
       "    </tr>\n",
       "    <tr>\n",
       "      <th>3</th>\n",
       "      <td>12215000</td>\n",
       "      <td>7500</td>\n",
       "      <td>4</td>\n",
       "      <td>2</td>\n",
       "      <td>2</td>\n",
       "      <td>yes</td>\n",
       "      <td>no</td>\n",
       "      <td>yes</td>\n",
       "      <td>no</td>\n",
       "      <td>yes</td>\n",
       "      <td>3</td>\n",
       "      <td>yes</td>\n",
       "      <td>furnished</td>\n",
       "    </tr>\n",
       "    <tr>\n",
       "      <th>4</th>\n",
       "      <td>11410000</td>\n",
       "      <td>7420</td>\n",
       "      <td>4</td>\n",
       "      <td>1</td>\n",
       "      <td>2</td>\n",
       "      <td>yes</td>\n",
       "      <td>yes</td>\n",
       "      <td>yes</td>\n",
       "      <td>no</td>\n",
       "      <td>yes</td>\n",
       "      <td>2</td>\n",
       "      <td>no</td>\n",
       "      <td>furnished</td>\n",
       "    </tr>\n",
       "  </tbody>\n",
       "</table>\n",
       "</div>"
      ],
      "text/plain": [
       "      price  area  bedrooms  bathrooms  stories mainroad guestroom basement  \\\n",
       "0  13300000  7420         4          2        3      yes        no       no   \n",
       "1  12250000  8960         4          4        4      yes        no       no   \n",
       "2  12250000  9960         3          2        2      yes        no      yes   \n",
       "3  12215000  7500         4          2        2      yes        no      yes   \n",
       "4  11410000  7420         4          1        2      yes       yes      yes   \n",
       "\n",
       "  hotwaterheating airconditioning  parking prefarea furnishingstatus  \n",
       "0              no             yes        2      yes        furnished  \n",
       "1              no             yes        3       no        furnished  \n",
       "2              no              no        2      yes   semi-furnished  \n",
       "3              no             yes        3      yes        furnished  \n",
       "4              no             yes        2       no        furnished  "
      ]
     },
     "execution_count": 6,
     "metadata": {},
     "output_type": "execute_result"
    }
   ],
   "source": [
    "house_data.head()"
   ]
  },
  {
   "cell_type": "code",
   "execution_count": 7,
   "id": "1d9bed95",
   "metadata": {
    "execution": {
     "iopub.execute_input": "2024-03-04T12:24:10.622021Z",
     "iopub.status.busy": "2024-03-04T12:24:10.621287Z",
     "iopub.status.idle": "2024-03-04T12:24:10.636203Z",
     "shell.execute_reply": "2024-03-04T12:24:10.634977Z"
    },
    "papermill": {
     "duration": 0.02899,
     "end_time": "2024-03-04T12:24:10.638485",
     "exception": false,
     "start_time": "2024-03-04T12:24:10.609495",
     "status": "completed"
    },
    "tags": []
   },
   "outputs": [
    {
     "data": {
      "text/html": [
       "<div>\n",
       "<style scoped>\n",
       "    .dataframe tbody tr th:only-of-type {\n",
       "        vertical-align: middle;\n",
       "    }\n",
       "\n",
       "    .dataframe tbody tr th {\n",
       "        vertical-align: top;\n",
       "    }\n",
       "\n",
       "    .dataframe thead th {\n",
       "        text-align: right;\n",
       "    }\n",
       "</style>\n",
       "<table border=\"1\" class=\"dataframe\">\n",
       "  <thead>\n",
       "    <tr style=\"text-align: right;\">\n",
       "      <th></th>\n",
       "      <th>price</th>\n",
       "      <th>area</th>\n",
       "      <th>bedrooms</th>\n",
       "      <th>bathrooms</th>\n",
       "      <th>stories</th>\n",
       "      <th>mainroad</th>\n",
       "      <th>guestroom</th>\n",
       "      <th>basement</th>\n",
       "      <th>hotwaterheating</th>\n",
       "      <th>airconditioning</th>\n",
       "      <th>parking</th>\n",
       "      <th>prefarea</th>\n",
       "      <th>furnishingstatus</th>\n",
       "    </tr>\n",
       "  </thead>\n",
       "  <tbody>\n",
       "    <tr>\n",
       "      <th>540</th>\n",
       "      <td>1820000</td>\n",
       "      <td>3000</td>\n",
       "      <td>2</td>\n",
       "      <td>1</td>\n",
       "      <td>1</td>\n",
       "      <td>yes</td>\n",
       "      <td>no</td>\n",
       "      <td>yes</td>\n",
       "      <td>no</td>\n",
       "      <td>no</td>\n",
       "      <td>2</td>\n",
       "      <td>no</td>\n",
       "      <td>unfurnished</td>\n",
       "    </tr>\n",
       "    <tr>\n",
       "      <th>541</th>\n",
       "      <td>1767150</td>\n",
       "      <td>2400</td>\n",
       "      <td>3</td>\n",
       "      <td>1</td>\n",
       "      <td>1</td>\n",
       "      <td>no</td>\n",
       "      <td>no</td>\n",
       "      <td>no</td>\n",
       "      <td>no</td>\n",
       "      <td>no</td>\n",
       "      <td>0</td>\n",
       "      <td>no</td>\n",
       "      <td>semi-furnished</td>\n",
       "    </tr>\n",
       "    <tr>\n",
       "      <th>542</th>\n",
       "      <td>1750000</td>\n",
       "      <td>3620</td>\n",
       "      <td>2</td>\n",
       "      <td>1</td>\n",
       "      <td>1</td>\n",
       "      <td>yes</td>\n",
       "      <td>no</td>\n",
       "      <td>no</td>\n",
       "      <td>no</td>\n",
       "      <td>no</td>\n",
       "      <td>0</td>\n",
       "      <td>no</td>\n",
       "      <td>unfurnished</td>\n",
       "    </tr>\n",
       "    <tr>\n",
       "      <th>543</th>\n",
       "      <td>1750000</td>\n",
       "      <td>2910</td>\n",
       "      <td>3</td>\n",
       "      <td>1</td>\n",
       "      <td>1</td>\n",
       "      <td>no</td>\n",
       "      <td>no</td>\n",
       "      <td>no</td>\n",
       "      <td>no</td>\n",
       "      <td>no</td>\n",
       "      <td>0</td>\n",
       "      <td>no</td>\n",
       "      <td>furnished</td>\n",
       "    </tr>\n",
       "    <tr>\n",
       "      <th>544</th>\n",
       "      <td>1750000</td>\n",
       "      <td>3850</td>\n",
       "      <td>3</td>\n",
       "      <td>1</td>\n",
       "      <td>2</td>\n",
       "      <td>yes</td>\n",
       "      <td>no</td>\n",
       "      <td>no</td>\n",
       "      <td>no</td>\n",
       "      <td>no</td>\n",
       "      <td>0</td>\n",
       "      <td>no</td>\n",
       "      <td>unfurnished</td>\n",
       "    </tr>\n",
       "  </tbody>\n",
       "</table>\n",
       "</div>"
      ],
      "text/plain": [
       "       price  area  bedrooms  bathrooms  stories mainroad guestroom basement  \\\n",
       "540  1820000  3000         2          1        1      yes        no      yes   \n",
       "541  1767150  2400         3          1        1       no        no       no   \n",
       "542  1750000  3620         2          1        1      yes        no       no   \n",
       "543  1750000  2910         3          1        1       no        no       no   \n",
       "544  1750000  3850         3          1        2      yes        no       no   \n",
       "\n",
       "    hotwaterheating airconditioning  parking prefarea furnishingstatus  \n",
       "540              no              no        2       no      unfurnished  \n",
       "541              no              no        0       no   semi-furnished  \n",
       "542              no              no        0       no      unfurnished  \n",
       "543              no              no        0       no        furnished  \n",
       "544              no              no        0       no      unfurnished  "
      ]
     },
     "execution_count": 7,
     "metadata": {},
     "output_type": "execute_result"
    }
   ],
   "source": [
    "house_data.tail()"
   ]
  },
  {
   "cell_type": "code",
   "execution_count": 8,
   "id": "65c29ce9",
   "metadata": {
    "execution": {
     "iopub.execute_input": "2024-03-04T12:24:10.663287Z",
     "iopub.status.busy": "2024-03-04T12:24:10.662898Z",
     "iopub.status.idle": "2024-03-04T12:24:10.671818Z",
     "shell.execute_reply": "2024-03-04T12:24:10.670772Z"
    },
    "papermill": {
     "duration": 0.023278,
     "end_time": "2024-03-04T12:24:10.673930",
     "exception": false,
     "start_time": "2024-03-04T12:24:10.650652",
     "status": "completed"
    },
    "tags": []
   },
   "outputs": [
    {
     "data": {
      "text/plain": [
       "False"
      ]
     },
     "execution_count": 8,
     "metadata": {},
     "output_type": "execute_result"
    }
   ],
   "source": [
    "house_data.duplicated().values.any()"
   ]
  },
  {
   "cell_type": "code",
   "execution_count": 9,
   "id": "d691eabf",
   "metadata": {
    "execution": {
     "iopub.execute_input": "2024-03-04T12:24:10.697128Z",
     "iopub.status.busy": "2024-03-04T12:24:10.696730Z",
     "iopub.status.idle": "2024-03-04T12:24:10.728096Z",
     "shell.execute_reply": "2024-03-04T12:24:10.727223Z"
    },
    "papermill": {
     "duration": 0.045418,
     "end_time": "2024-03-04T12:24:10.730075",
     "exception": false,
     "start_time": "2024-03-04T12:24:10.684657",
     "status": "completed"
    },
    "tags": []
   },
   "outputs": [
    {
     "data": {
      "text/html": [
       "<div>\n",
       "<style scoped>\n",
       "    .dataframe tbody tr th:only-of-type {\n",
       "        vertical-align: middle;\n",
       "    }\n",
       "\n",
       "    .dataframe tbody tr th {\n",
       "        vertical-align: top;\n",
       "    }\n",
       "\n",
       "    .dataframe thead th {\n",
       "        text-align: right;\n",
       "    }\n",
       "</style>\n",
       "<table border=\"1\" class=\"dataframe\">\n",
       "  <thead>\n",
       "    <tr style=\"text-align: right;\">\n",
       "      <th></th>\n",
       "      <th>price</th>\n",
       "      <th>area</th>\n",
       "      <th>bedrooms</th>\n",
       "      <th>bathrooms</th>\n",
       "      <th>stories</th>\n",
       "      <th>parking</th>\n",
       "    </tr>\n",
       "  </thead>\n",
       "  <tbody>\n",
       "    <tr>\n",
       "      <th>count</th>\n",
       "      <td>5.450000e+02</td>\n",
       "      <td>545.000000</td>\n",
       "      <td>545.000000</td>\n",
       "      <td>545.000000</td>\n",
       "      <td>545.000000</td>\n",
       "      <td>545.000000</td>\n",
       "    </tr>\n",
       "    <tr>\n",
       "      <th>mean</th>\n",
       "      <td>4.766729e+06</td>\n",
       "      <td>5150.541284</td>\n",
       "      <td>2.965138</td>\n",
       "      <td>1.286239</td>\n",
       "      <td>1.805505</td>\n",
       "      <td>0.693578</td>\n",
       "    </tr>\n",
       "    <tr>\n",
       "      <th>std</th>\n",
       "      <td>1.870440e+06</td>\n",
       "      <td>2170.141023</td>\n",
       "      <td>0.738064</td>\n",
       "      <td>0.502470</td>\n",
       "      <td>0.867492</td>\n",
       "      <td>0.861586</td>\n",
       "    </tr>\n",
       "    <tr>\n",
       "      <th>min</th>\n",
       "      <td>1.750000e+06</td>\n",
       "      <td>1650.000000</td>\n",
       "      <td>1.000000</td>\n",
       "      <td>1.000000</td>\n",
       "      <td>1.000000</td>\n",
       "      <td>0.000000</td>\n",
       "    </tr>\n",
       "    <tr>\n",
       "      <th>25%</th>\n",
       "      <td>3.430000e+06</td>\n",
       "      <td>3600.000000</td>\n",
       "      <td>2.000000</td>\n",
       "      <td>1.000000</td>\n",
       "      <td>1.000000</td>\n",
       "      <td>0.000000</td>\n",
       "    </tr>\n",
       "    <tr>\n",
       "      <th>50%</th>\n",
       "      <td>4.340000e+06</td>\n",
       "      <td>4600.000000</td>\n",
       "      <td>3.000000</td>\n",
       "      <td>1.000000</td>\n",
       "      <td>2.000000</td>\n",
       "      <td>0.000000</td>\n",
       "    </tr>\n",
       "    <tr>\n",
       "      <th>75%</th>\n",
       "      <td>5.740000e+06</td>\n",
       "      <td>6360.000000</td>\n",
       "      <td>3.000000</td>\n",
       "      <td>2.000000</td>\n",
       "      <td>2.000000</td>\n",
       "      <td>1.000000</td>\n",
       "    </tr>\n",
       "    <tr>\n",
       "      <th>max</th>\n",
       "      <td>1.330000e+07</td>\n",
       "      <td>16200.000000</td>\n",
       "      <td>6.000000</td>\n",
       "      <td>4.000000</td>\n",
       "      <td>4.000000</td>\n",
       "      <td>3.000000</td>\n",
       "    </tr>\n",
       "  </tbody>\n",
       "</table>\n",
       "</div>"
      ],
      "text/plain": [
       "              price          area    bedrooms   bathrooms     stories  \\\n",
       "count  5.450000e+02    545.000000  545.000000  545.000000  545.000000   \n",
       "mean   4.766729e+06   5150.541284    2.965138    1.286239    1.805505   \n",
       "std    1.870440e+06   2170.141023    0.738064    0.502470    0.867492   \n",
       "min    1.750000e+06   1650.000000    1.000000    1.000000    1.000000   \n",
       "25%    3.430000e+06   3600.000000    2.000000    1.000000    1.000000   \n",
       "50%    4.340000e+06   4600.000000    3.000000    1.000000    2.000000   \n",
       "75%    5.740000e+06   6360.000000    3.000000    2.000000    2.000000   \n",
       "max    1.330000e+07  16200.000000    6.000000    4.000000    4.000000   \n",
       "\n",
       "          parking  \n",
       "count  545.000000  \n",
       "mean     0.693578  \n",
       "std      0.861586  \n",
       "min      0.000000  \n",
       "25%      0.000000  \n",
       "50%      0.000000  \n",
       "75%      1.000000  \n",
       "max      3.000000  "
      ]
     },
     "execution_count": 9,
     "metadata": {},
     "output_type": "execute_result"
    }
   ],
   "source": [
    "house_data.describe()"
   ]
  },
  {
   "cell_type": "markdown",
   "id": "ebe27c00",
   "metadata": {
    "papermill": {
     "duration": 0.010703,
     "end_time": "2024-03-04T12:24:10.751991",
     "exception": false,
     "start_time": "2024-03-04T12:24:10.741288",
     "status": "completed"
    },
    "tags": []
   },
   "source": [
    "**Import Liberary**"
   ]
  },
  {
   "cell_type": "code",
   "execution_count": 10,
   "id": "e234d80f",
   "metadata": {
    "execution": {
     "iopub.execute_input": "2024-03-04T12:24:10.777707Z",
     "iopub.status.busy": "2024-03-04T12:24:10.776988Z",
     "iopub.status.idle": "2024-03-04T12:24:12.059008Z",
     "shell.execute_reply": "2024-03-04T12:24:12.057777Z"
    },
    "papermill": {
     "duration": 1.298322,
     "end_time": "2024-03-04T12:24:12.062418",
     "exception": false,
     "start_time": "2024-03-04T12:24:10.764096",
     "status": "completed"
    },
    "tags": []
   },
   "outputs": [],
   "source": [
    "import matplotlib.pyplot as plt\n",
    "import seaborn as sns"
   ]
  },
  {
   "cell_type": "code",
   "execution_count": 11,
   "id": "cbbecccd",
   "metadata": {
    "execution": {
     "iopub.execute_input": "2024-03-04T12:24:12.085277Z",
     "iopub.status.busy": "2024-03-04T12:24:12.084931Z",
     "iopub.status.idle": "2024-03-04T12:24:12.440614Z",
     "shell.execute_reply": "2024-03-04T12:24:12.439468Z"
    },
    "papermill": {
     "duration": 0.370041,
     "end_time": "2024-03-04T12:24:12.443171",
     "exception": false,
     "start_time": "2024-03-04T12:24:12.073130",
     "status": "completed"
    },
    "tags": []
   },
   "outputs": [
    {
     "data": {
      "text/plain": [
       "(array([ 61., 163., 139.,  89.,  46.,  25.,  13.,   4.,   1.,   4.]),\n",
       " array([ 1750000.,  2905000.,  4060000.,  5215000.,  6370000.,  7525000.,\n",
       "         8680000.,  9835000., 10990000., 12145000., 13300000.]),\n",
       " <BarContainer object of 10 artists>)"
      ]
     },
     "execution_count": 11,
     "metadata": {},
     "output_type": "execute_result"
    },
    {
     "data": {
      "image/png": "[encoded data removed]",
      "text/plain": [
       "<Figure size 640x480 with 1 Axes>"
      ]
     },
     "metadata": {},
     "output_type": "display_data"
    }
   ],
   "source": [
    "plt.hist(house_data.price)"
   ]
  },
  {
   "cell_type": "code",
   "execution_count": 12,
   "id": "8e65b51b",
   "metadata": {
    "execution": {
     "iopub.execute_input": "2024-03-04T12:24:12.467464Z",
     "iopub.status.busy": "2024-03-04T12:24:12.466722Z",
     "iopub.status.idle": "2024-03-04T12:24:23.073708Z",
     "shell.execute_reply": "2024-03-04T12:24:23.072804Z"
    },
    "papermill": {
     "duration": 10.623224,
     "end_time": "2024-03-04T12:24:23.077556",
     "exception": false,
     "start_time": "2024-03-04T12:24:12.454332",
     "status": "completed"
    },
    "tags": []
   },
   "outputs": [
    {
     "name": "stderr",
     "output_type": "stream",
     "text": [
      "/opt/conda/lib/python3.10/site-packages/seaborn/_oldcore.py:1119: FutureWarning: use_inf_as_na option is deprecated and will be removed in a future version. Convert inf values to NaN before operating instead.\n",
      "  with pd.option_context('mode.use_inf_as_na', True):\n",
      "/opt/conda/lib/python3.10/site-packages/seaborn/_oldcore.py:1119: FutureWarning: use_inf_as_na option is deprecated and will be removed in a future version. Convert inf values to NaN before operating instead.\n",
      "  with pd.option_context('mode.use_inf_as_na', True):\n",
      "/opt/conda/lib/python3.10/site-packages/seaborn/_oldcore.py:1119: FutureWarning: use_inf_as_na option is deprecated and will be removed in a future version. Convert inf values to NaN before operating instead.\n",
      "  with pd.option_context('mode.use_inf_as_na', True):\n",
      "/opt/conda/lib/python3.10/site-packages/seaborn/_oldcore.py:1119: FutureWarning: use_inf_as_na option is deprecated and will be removed in a future version. Convert inf values to NaN before operating instead.\n",
      "  with pd.option_context('mode.use_inf_as_na', True):\n",
      "/opt/conda/lib/python3.10/site-packages/seaborn/_oldcore.py:1119: FutureWarning: use_inf_as_na option is deprecated and will be removed in a future version. Convert inf values to NaN before operating instead.\n",
      "  with pd.option_context('mode.use_inf_as_na', True):\n",
      "/opt/conda/lib/python3.10/site-packages/seaborn/_oldcore.py:1119: FutureWarning: use_inf_as_na option is deprecated and will be removed in a future version. Convert inf values to NaN before operating instead.\n",
      "  with pd.option_context('mode.use_inf_as_na', True):\n"
     ]
    },
    {
     "data": {
      "text/plain": [
       "<seaborn.axisgrid.PairGrid at 0x7ac6976103d0>"
      ]
     },
     "execution_count": 12,
     "metadata": {},
     "output_type": "execute_result"
    },
    {
     "data": {
      "image/png": "[encoded data removed]",
      "text/plain": [
       "<Figure size 1500x1500 with 42 Axes>"
      ]
     },
     "metadata": {},
     "output_type": "display_data"
    }
   ],
   "source": [
    "sns.pairplot(house_data)"
   ]
  },
  {
   "cell_type": "code",
   "execution_count": 13,
   "id": "180b66bd",
   "metadata": {
    "execution": {
     "iopub.execute_input": "2024-03-04T12:24:23.108525Z",
     "iopub.status.busy": "2024-03-04T12:24:23.108151Z",
     "iopub.status.idle": "2024-03-04T12:24:23.336914Z",
     "shell.execute_reply": "2024-03-04T12:24:23.335772Z"
    },
    "papermill": {
     "duration": 0.247267,
     "end_time": "2024-03-04T12:24:23.339507",
     "exception": false,
     "start_time": "2024-03-04T12:24:23.092240",
     "status": "completed"
    },
    "tags": []
   },
   "outputs": [],
   "source": [
    "from sklearn.model_selection import train_test_split\n",
    "df_train, df_test = train_test_split(house_data, train_size=0.8, random_state=10)"
   ]
  },
  {
   "cell_type": "code",
   "execution_count": 14,
   "id": "97844771",
   "metadata": {
    "execution": {
     "iopub.execute_input": "2024-03-04T12:24:23.370514Z",
     "iopub.status.busy": "2024-03-04T12:24:23.370060Z",
     "iopub.status.idle": "2024-03-04T12:24:23.386804Z",
     "shell.execute_reply": "2024-03-04T12:24:23.385506Z"
    },
    "papermill": {
     "duration": 0.034785,
     "end_time": "2024-03-04T12:24:23.389010",
     "exception": false,
     "start_time": "2024-03-04T12:24:23.354225",
     "status": "completed"
    },
    "tags": []
   },
   "outputs": [
    {
     "data": {
      "text/html": [
       "<div>\n",
       "<style scoped>\n",
       "    .dataframe tbody tr th:only-of-type {\n",
       "        vertical-align: middle;\n",
       "    }\n",
       "\n",
       "    .dataframe tbody tr th {\n",
       "        vertical-align: top;\n",
       "    }\n",
       "\n",
       "    .dataframe thead th {\n",
       "        text-align: right;\n",
       "    }\n",
       "</style>\n",
       "<table border=\"1\" class=\"dataframe\">\n",
       "  <thead>\n",
       "    <tr style=\"text-align: right;\">\n",
       "      <th></th>\n",
       "      <th>price</th>\n",
       "      <th>area</th>\n",
       "      <th>bedrooms</th>\n",
       "      <th>bathrooms</th>\n",
       "      <th>stories</th>\n",
       "      <th>mainroad</th>\n",
       "      <th>guestroom</th>\n",
       "      <th>basement</th>\n",
       "      <th>hotwaterheating</th>\n",
       "      <th>airconditioning</th>\n",
       "      <th>parking</th>\n",
       "      <th>prefarea</th>\n",
       "      <th>furnishingstatus</th>\n",
       "    </tr>\n",
       "  </thead>\n",
       "  <tbody>\n",
       "    <tr>\n",
       "      <th>443</th>\n",
       "      <td>3220000</td>\n",
       "      <td>4320</td>\n",
       "      <td>3</td>\n",
       "      <td>1</td>\n",
       "      <td>1</td>\n",
       "      <td>no</td>\n",
       "      <td>no</td>\n",
       "      <td>no</td>\n",
       "      <td>no</td>\n",
       "      <td>no</td>\n",
       "      <td>1</td>\n",
       "      <td>no</td>\n",
       "      <td>unfurnished</td>\n",
       "    </tr>\n",
       "    <tr>\n",
       "      <th>323</th>\n",
       "      <td>4025000</td>\n",
       "      <td>5400</td>\n",
       "      <td>3</td>\n",
       "      <td>1</td>\n",
       "      <td>1</td>\n",
       "      <td>yes</td>\n",
       "      <td>no</td>\n",
       "      <td>no</td>\n",
       "      <td>no</td>\n",
       "      <td>no</td>\n",
       "      <td>3</td>\n",
       "      <td>no</td>\n",
       "      <td>semi-furnished</td>\n",
       "    </tr>\n",
       "    <tr>\n",
       "      <th>157</th>\n",
       "      <td>5495000</td>\n",
       "      <td>2817</td>\n",
       "      <td>4</td>\n",
       "      <td>2</td>\n",
       "      <td>2</td>\n",
       "      <td>no</td>\n",
       "      <td>yes</td>\n",
       "      <td>yes</td>\n",
       "      <td>no</td>\n",
       "      <td>no</td>\n",
       "      <td>1</td>\n",
       "      <td>no</td>\n",
       "      <td>furnished</td>\n",
       "    </tr>\n",
       "    <tr>\n",
       "      <th>231</th>\n",
       "      <td>4690000</td>\n",
       "      <td>4320</td>\n",
       "      <td>3</td>\n",
       "      <td>1</td>\n",
       "      <td>1</td>\n",
       "      <td>yes</td>\n",
       "      <td>no</td>\n",
       "      <td>no</td>\n",
       "      <td>no</td>\n",
       "      <td>no</td>\n",
       "      <td>0</td>\n",
       "      <td>yes</td>\n",
       "      <td>semi-furnished</td>\n",
       "    </tr>\n",
       "    <tr>\n",
       "      <th>351</th>\n",
       "      <td>3780000</td>\n",
       "      <td>3600</td>\n",
       "      <td>2</td>\n",
       "      <td>1</td>\n",
       "      <td>1</td>\n",
       "      <td>yes</td>\n",
       "      <td>no</td>\n",
       "      <td>no</td>\n",
       "      <td>no</td>\n",
       "      <td>no</td>\n",
       "      <td>0</td>\n",
       "      <td>no</td>\n",
       "      <td>semi-furnished</td>\n",
       "    </tr>\n",
       "  </tbody>\n",
       "</table>\n",
       "</div>"
      ],
      "text/plain": [
       "       price  area  bedrooms  bathrooms  stories mainroad guestroom basement  \\\n",
       "443  3220000  4320         3          1        1       no        no       no   \n",
       "323  4025000  5400         3          1        1      yes        no       no   \n",
       "157  5495000  2817         4          2        2       no       yes      yes   \n",
       "231  4690000  4320         3          1        1      yes        no       no   \n",
       "351  3780000  3600         2          1        1      yes        no       no   \n",
       "\n",
       "    hotwaterheating airconditioning  parking prefarea furnishingstatus  \n",
       "443              no              no        1       no      unfurnished  \n",
       "323              no              no        3       no   semi-furnished  \n",
       "157              no              no        1       no        furnished  \n",
       "231              no              no        0      yes   semi-furnished  \n",
       "351              no              no        0       no   semi-furnished  "
      ]
     },
     "execution_count": 14,
     "metadata": {},
     "output_type": "execute_result"
    }
   ],
   "source": [
    "df_train.head()"
   ]
  },
  {
   "cell_type": "code",
   "execution_count": 15,
   "id": "763340c2",
   "metadata": {
    "execution": {
     "iopub.execute_input": "2024-03-04T12:24:23.420703Z",
     "iopub.status.busy": "2024-03-04T12:24:23.419824Z",
     "iopub.status.idle": "2024-03-04T12:24:23.436329Z",
     "shell.execute_reply": "2024-03-04T12:24:23.435096Z"
    },
    "papermill": {
     "duration": 0.035545,
     "end_time": "2024-03-04T12:24:23.439367",
     "exception": false,
     "start_time": "2024-03-04T12:24:23.403822",
     "status": "completed"
    },
    "tags": []
   },
   "outputs": [
    {
     "data": {
      "text/html": [
       "<div>\n",
       "<style scoped>\n",
       "    .dataframe tbody tr th:only-of-type {\n",
       "        vertical-align: middle;\n",
       "    }\n",
       "\n",
       "    .dataframe tbody tr th {\n",
       "        vertical-align: top;\n",
       "    }\n",
       "\n",
       "    .dataframe thead th {\n",
       "        text-align: right;\n",
       "    }\n",
       "</style>\n",
       "<table border=\"1\" class=\"dataframe\">\n",
       "  <thead>\n",
       "    <tr style=\"text-align: right;\">\n",
       "      <th></th>\n",
       "      <th>price</th>\n",
       "      <th>area</th>\n",
       "      <th>bedrooms</th>\n",
       "      <th>bathrooms</th>\n",
       "      <th>stories</th>\n",
       "      <th>mainroad</th>\n",
       "      <th>guestroom</th>\n",
       "      <th>basement</th>\n",
       "      <th>hotwaterheating</th>\n",
       "      <th>airconditioning</th>\n",
       "      <th>parking</th>\n",
       "      <th>prefarea</th>\n",
       "      <th>furnishingstatus</th>\n",
       "    </tr>\n",
       "  </thead>\n",
       "  <tbody>\n",
       "    <tr>\n",
       "      <th>482</th>\n",
       "      <td>2940000</td>\n",
       "      <td>3150</td>\n",
       "      <td>3</td>\n",
       "      <td>1</td>\n",
       "      <td>2</td>\n",
       "      <td>no</td>\n",
       "      <td>no</td>\n",
       "      <td>no</td>\n",
       "      <td>no</td>\n",
       "      <td>no</td>\n",
       "      <td>0</td>\n",
       "      <td>no</td>\n",
       "      <td>unfurnished</td>\n",
       "    </tr>\n",
       "    <tr>\n",
       "      <th>314</th>\n",
       "      <td>4095000</td>\n",
       "      <td>4040</td>\n",
       "      <td>2</td>\n",
       "      <td>1</td>\n",
       "      <td>2</td>\n",
       "      <td>yes</td>\n",
       "      <td>no</td>\n",
       "      <td>no</td>\n",
       "      <td>no</td>\n",
       "      <td>no</td>\n",
       "      <td>1</td>\n",
       "      <td>no</td>\n",
       "      <td>semi-furnished</td>\n",
       "    </tr>\n",
       "    <tr>\n",
       "      <th>383</th>\n",
       "      <td>3570000</td>\n",
       "      <td>4500</td>\n",
       "      <td>4</td>\n",
       "      <td>2</td>\n",
       "      <td>2</td>\n",
       "      <td>yes</td>\n",
       "      <td>no</td>\n",
       "      <td>yes</td>\n",
       "      <td>no</td>\n",
       "      <td>no</td>\n",
       "      <td>2</td>\n",
       "      <td>no</td>\n",
       "      <td>furnished</td>\n",
       "    </tr>\n",
       "    <tr>\n",
       "      <th>487</th>\n",
       "      <td>2870000</td>\n",
       "      <td>5400</td>\n",
       "      <td>4</td>\n",
       "      <td>1</td>\n",
       "      <td>2</td>\n",
       "      <td>yes</td>\n",
       "      <td>no</td>\n",
       "      <td>no</td>\n",
       "      <td>no</td>\n",
       "      <td>no</td>\n",
       "      <td>0</td>\n",
       "      <td>no</td>\n",
       "      <td>unfurnished</td>\n",
       "    </tr>\n",
       "    <tr>\n",
       "      <th>43</th>\n",
       "      <td>7700000</td>\n",
       "      <td>6000</td>\n",
       "      <td>4</td>\n",
       "      <td>2</td>\n",
       "      <td>4</td>\n",
       "      <td>yes</td>\n",
       "      <td>no</td>\n",
       "      <td>no</td>\n",
       "      <td>no</td>\n",
       "      <td>no</td>\n",
       "      <td>2</td>\n",
       "      <td>no</td>\n",
       "      <td>semi-furnished</td>\n",
       "    </tr>\n",
       "  </tbody>\n",
       "</table>\n",
       "</div>"
      ],
      "text/plain": [
       "       price  area  bedrooms  bathrooms  stories mainroad guestroom basement  \\\n",
       "482  2940000  3150         3          1        2       no        no       no   \n",
       "314  4095000  4040         2          1        2      yes        no       no   \n",
       "383  3570000  4500         4          2        2      yes        no      yes   \n",
       "487  2870000  5400         4          1        2      yes        no       no   \n",
       "43   7700000  6000         4          2        4      yes        no       no   \n",
       "\n",
       "    hotwaterheating airconditioning  parking prefarea furnishingstatus  \n",
       "482              no              no        0       no      unfurnished  \n",
       "314              no              no        1       no   semi-furnished  \n",
       "383              no              no        2       no        furnished  \n",
       "487              no              no        0       no      unfurnished  \n",
       "43               no              no        2       no   semi-furnished  "
      ]
     },
     "execution_count": 15,
     "metadata": {},
     "output_type": "execute_result"
    }
   ],
   "source": [
    "df_test.head()"
   ]
  },
  {
   "cell_type": "markdown",
   "id": "222bc7f3",
   "metadata": {
    "papermill": {
     "duration": 0.014823,
     "end_time": "2024-03-04T12:24:23.469167",
     "exception": false,
     "start_time": "2024-03-04T12:24:23.454344",
     "status": "completed"
    },
    "tags": []
   },
   "source": [
    "**Lets resolve the Categorical Columns**"
   ]
  },
  {
   "cell_type": "code",
   "execution_count": 16,
   "id": "9c751493",
   "metadata": {
    "execution": {
     "iopub.execute_input": "2024-03-04T12:24:23.501398Z",
     "iopub.status.busy": "2024-03-04T12:24:23.500667Z",
     "iopub.status.idle": "2024-03-04T12:24:23.506171Z",
     "shell.execute_reply": "2024-03-04T12:24:23.505443Z"
    },
    "papermill": {
     "duration": 0.02386,
     "end_time": "2024-03-04T12:24:23.508169",
     "exception": false,
     "start_time": "2024-03-04T12:24:23.484309",
     "status": "completed"
    },
    "tags": []
   },
   "outputs": [],
   "source": [
    "# list of columns labels that are categorical and numerical respectively\n",
    "cat_col = [col for col in house_data.columns if house_data[col].dtypes == 'O']\n",
    "num_col = [col for col in house_data.columns if house_data[col].dtypes in ['int64', 'float']]"
   ]
  },
  {
   "cell_type": "code",
   "execution_count": 17,
   "id": "70dcf7d1",
   "metadata": {
    "execution": {
     "iopub.execute_input": "2024-03-04T12:24:23.539825Z",
     "iopub.status.busy": "2024-03-04T12:24:23.539453Z",
     "iopub.status.idle": "2024-03-04T12:24:23.558571Z",
     "shell.execute_reply": "2024-03-04T12:24:23.557576Z"
    },
    "papermill": {
     "duration": 0.037787,
     "end_time": "2024-03-04T12:24:23.560830",
     "exception": false,
     "start_time": "2024-03-04T12:24:23.523043",
     "status": "completed"
    },
    "tags": []
   },
   "outputs": [
    {
     "data": {
      "text/html": [
       "<div>\n",
       "<style scoped>\n",
       "    .dataframe tbody tr th:only-of-type {\n",
       "        vertical-align: middle;\n",
       "    }\n",
       "\n",
       "    .dataframe tbody tr th {\n",
       "        vertical-align: top;\n",
       "    }\n",
       "\n",
       "    .dataframe thead th {\n",
       "        text-align: right;\n",
       "    }\n",
       "</style>\n",
       "<table border=\"1\" class=\"dataframe\">\n",
       "  <thead>\n",
       "    <tr style=\"text-align: right;\">\n",
       "      <th></th>\n",
       "      <th>mainroad</th>\n",
       "      <th>guestroom</th>\n",
       "      <th>basement</th>\n",
       "      <th>hotwaterheating</th>\n",
       "      <th>airconditioning</th>\n",
       "      <th>prefarea</th>\n",
       "      <th>furnishingstatus</th>\n",
       "    </tr>\n",
       "  </thead>\n",
       "  <tbody>\n",
       "    <tr>\n",
       "      <th>524</th>\n",
       "      <td>1</td>\n",
       "      <td>0</td>\n",
       "      <td>0</td>\n",
       "      <td>0</td>\n",
       "      <td>0</td>\n",
       "      <td>0</td>\n",
       "      <td>2</td>\n",
       "    </tr>\n",
       "    <tr>\n",
       "      <th>23</th>\n",
       "      <td>1</td>\n",
       "      <td>1</td>\n",
       "      <td>1</td>\n",
       "      <td>0</td>\n",
       "      <td>1</td>\n",
       "      <td>0</td>\n",
       "      <td>0</td>\n",
       "    </tr>\n",
       "    <tr>\n",
       "      <th>146</th>\n",
       "      <td>1</td>\n",
       "      <td>0</td>\n",
       "      <td>0</td>\n",
       "      <td>0</td>\n",
       "      <td>0</td>\n",
       "      <td>0</td>\n",
       "      <td>1</td>\n",
       "    </tr>\n",
       "    <tr>\n",
       "      <th>445</th>\n",
       "      <td>1</td>\n",
       "      <td>0</td>\n",
       "      <td>0</td>\n",
       "      <td>0</td>\n",
       "      <td>0</td>\n",
       "      <td>0</td>\n",
       "      <td>0</td>\n",
       "    </tr>\n",
       "    <tr>\n",
       "      <th>418</th>\n",
       "      <td>1</td>\n",
       "      <td>0</td>\n",
       "      <td>0</td>\n",
       "      <td>0</td>\n",
       "      <td>1</td>\n",
       "      <td>0</td>\n",
       "      <td>2</td>\n",
       "    </tr>\n",
       "  </tbody>\n",
       "</table>\n",
       "</div>"
      ],
      "text/plain": [
       "     mainroad  guestroom  basement  hotwaterheating  airconditioning  \\\n",
       "524         1          0         0                0                0   \n",
       "23          1          1         1                0                1   \n",
       "146         1          0         0                0                0   \n",
       "445         1          0         0                0                0   \n",
       "418         1          0         0                0                1   \n",
       "\n",
       "     prefarea  furnishingstatus  \n",
       "524         0                 2  \n",
       "23          0                 0  \n",
       "146         0                 1  \n",
       "445         0                 0  \n",
       "418         0                 2  "
      ]
     },
     "execution_count": 17,
     "metadata": {},
     "output_type": "execute_result"
    }
   ],
   "source": [
    "from sklearn.preprocessing import OrdinalEncoder\n",
    "oe = OrdinalEncoder()\n",
    "train_result = pd.DataFrame(oe.fit_transform(df_train[cat_col])).astype(int)\n",
    "train_result.columns = cat_col\n",
    "train_result.index = df_train.index\n",
    "train_result.sample(5)"
   ]
  },
  {
   "cell_type": "code",
   "execution_count": 18,
   "id": "c0b7530c",
   "metadata": {
    "execution": {
     "iopub.execute_input": "2024-03-04T12:24:23.593900Z",
     "iopub.status.busy": "2024-03-04T12:24:23.592749Z",
     "iopub.status.idle": "2024-03-04T12:24:23.610338Z",
     "shell.execute_reply": "2024-03-04T12:24:23.609141Z"
    },
    "papermill": {
     "duration": 0.036602,
     "end_time": "2024-03-04T12:24:23.612842",
     "exception": false,
     "start_time": "2024-03-04T12:24:23.576240",
     "status": "completed"
    },
    "tags": []
   },
   "outputs": [
    {
     "data": {
      "text/html": [
       "<div>\n",
       "<style scoped>\n",
       "    .dataframe tbody tr th:only-of-type {\n",
       "        vertical-align: middle;\n",
       "    }\n",
       "\n",
       "    .dataframe tbody tr th {\n",
       "        vertical-align: top;\n",
       "    }\n",
       "\n",
       "    .dataframe thead th {\n",
       "        text-align: right;\n",
       "    }\n",
       "</style>\n",
       "<table border=\"1\" class=\"dataframe\">\n",
       "  <thead>\n",
       "    <tr style=\"text-align: right;\">\n",
       "      <th></th>\n",
       "      <th>mainroad</th>\n",
       "      <th>guestroom</th>\n",
       "      <th>basement</th>\n",
       "      <th>hotwaterheating</th>\n",
       "      <th>airconditioning</th>\n",
       "      <th>prefarea</th>\n",
       "      <th>furnishingstatus</th>\n",
       "    </tr>\n",
       "  </thead>\n",
       "  <tbody>\n",
       "    <tr>\n",
       "      <th>107</th>\n",
       "      <td>1</td>\n",
       "      <td>0</td>\n",
       "      <td>1</td>\n",
       "      <td>0</td>\n",
       "      <td>0</td>\n",
       "      <td>1</td>\n",
       "      <td>2</td>\n",
       "    </tr>\n",
       "    <tr>\n",
       "      <th>483</th>\n",
       "      <td>1</td>\n",
       "      <td>0</td>\n",
       "      <td>0</td>\n",
       "      <td>0</td>\n",
       "      <td>0</td>\n",
       "      <td>0</td>\n",
       "      <td>1</td>\n",
       "    </tr>\n",
       "    <tr>\n",
       "      <th>266</th>\n",
       "      <td>1</td>\n",
       "      <td>0</td>\n",
       "      <td>0</td>\n",
       "      <td>0</td>\n",
       "      <td>0</td>\n",
       "      <td>1</td>\n",
       "      <td>2</td>\n",
       "    </tr>\n",
       "    <tr>\n",
       "      <th>65</th>\n",
       "      <td>1</td>\n",
       "      <td>0</td>\n",
       "      <td>1</td>\n",
       "      <td>0</td>\n",
       "      <td>1</td>\n",
       "      <td>0</td>\n",
       "      <td>0</td>\n",
       "    </tr>\n",
       "    <tr>\n",
       "      <th>307</th>\n",
       "      <td>1</td>\n",
       "      <td>0</td>\n",
       "      <td>0</td>\n",
       "      <td>0</td>\n",
       "      <td>0</td>\n",
       "      <td>0</td>\n",
       "      <td>1</td>\n",
       "    </tr>\n",
       "  </tbody>\n",
       "</table>\n",
       "</div>"
      ],
      "text/plain": [
       "     mainroad  guestroom  basement  hotwaterheating  airconditioning  \\\n",
       "107         1          0         1                0                0   \n",
       "483         1          0         0                0                0   \n",
       "266         1          0         0                0                0   \n",
       "65          1          0         1                0                1   \n",
       "307         1          0         0                0                0   \n",
       "\n",
       "     prefarea  furnishingstatus  \n",
       "107         1                 2  \n",
       "483         0                 1  \n",
       "266         1                 2  \n",
       "65          0                 0  \n",
       "307         0                 1  "
      ]
     },
     "execution_count": 18,
     "metadata": {},
     "output_type": "execute_result"
    }
   ],
   "source": [
    "test_result = pd.DataFrame(oe.fit_transform(df_test[cat_col])).astype(int)\n",
    "test_result.columns = cat_col\n",
    "test_result.index = df_test.index\n",
    "test_result.sample(5)"
   ]
  },
  {
   "cell_type": "code",
   "execution_count": 19,
   "id": "aaca0f45",
   "metadata": {
    "execution": {
     "iopub.execute_input": "2024-03-04T12:24:23.706437Z",
     "iopub.status.busy": "2024-03-04T12:24:23.706064Z",
     "iopub.status.idle": "2024-03-04T12:24:23.714096Z",
     "shell.execute_reply": "2024-03-04T12:24:23.713164Z"
    },
    "papermill": {
     "duration": 0.027789,
     "end_time": "2024-03-04T12:24:23.716519",
     "exception": false,
     "start_time": "2024-03-04T12:24:23.688730",
     "status": "completed"
    },
    "tags": []
   },
   "outputs": [],
   "source": [
    "df_train_updated = pd.concat([df_train[num_col], train_result], axis=1)\n",
    "df_test_updated = pd.concat([df_test[num_col], test_result], axis=1)"
   ]
  },
  {
   "cell_type": "code",
   "execution_count": 20,
   "id": "b3e47bfe",
   "metadata": {
    "execution": {
     "iopub.execute_input": "2024-03-04T12:24:23.749733Z",
     "iopub.status.busy": "2024-03-04T12:24:23.749385Z",
     "iopub.status.idle": "2024-03-04T12:24:23.770808Z",
     "shell.execute_reply": "2024-03-04T12:24:23.769870Z"
    },
    "papermill": {
     "duration": 0.040404,
     "end_time": "2024-03-04T12:24:23.772850",
     "exception": false,
     "start_time": "2024-03-04T12:24:23.732446",
     "status": "completed"
    },
    "tags": []
   },
   "outputs": [
    {
     "data": {
      "text/html": [
       "<div>\n",
       "<style scoped>\n",
       "    .dataframe tbody tr th:only-of-type {\n",
       "        vertical-align: middle;\n",
       "    }\n",
       "\n",
       "    .dataframe tbody tr th {\n",
       "        vertical-align: top;\n",
       "    }\n",
       "\n",
       "    .dataframe thead th {\n",
       "        text-align: right;\n",
       "    }\n",
       "</style>\n",
       "<table border=\"1\" class=\"dataframe\">\n",
       "  <thead>\n",
       "    <tr style=\"text-align: right;\">\n",
       "      <th></th>\n",
       "      <th>price</th>\n",
       "      <th>area</th>\n",
       "      <th>bedrooms</th>\n",
       "      <th>bathrooms</th>\n",
       "      <th>stories</th>\n",
       "      <th>parking</th>\n",
       "      <th>mainroad</th>\n",
       "      <th>guestroom</th>\n",
       "      <th>basement</th>\n",
       "      <th>hotwaterheating</th>\n",
       "      <th>airconditioning</th>\n",
       "      <th>prefarea</th>\n",
       "      <th>furnishingstatus</th>\n",
       "    </tr>\n",
       "  </thead>\n",
       "  <tbody>\n",
       "    <tr>\n",
       "      <th>price</th>\n",
       "      <td>1.000000</td>\n",
       "      <td>0.530326</td>\n",
       "      <td>0.357839</td>\n",
       "      <td>0.494152</td>\n",
       "      <td>0.411376</td>\n",
       "      <td>0.383448</td>\n",
       "      <td>0.283153</td>\n",
       "      <td>0.259940</td>\n",
       "      <td>0.217708</td>\n",
       "      <td>0.097145</td>\n",
       "      <td>0.455360</td>\n",
       "      <td>0.343280</td>\n",
       "      <td>-0.322464</td>\n",
       "    </tr>\n",
       "    <tr>\n",
       "      <th>area</th>\n",
       "      <td>0.530326</td>\n",
       "      <td>1.000000</td>\n",
       "      <td>0.109372</td>\n",
       "      <td>0.163872</td>\n",
       "      <td>0.085564</td>\n",
       "      <td>0.403149</td>\n",
       "      <td>0.268774</td>\n",
       "      <td>0.122746</td>\n",
       "      <td>0.067032</td>\n",
       "      <td>-0.005492</td>\n",
       "      <td>0.230790</td>\n",
       "      <td>0.275665</td>\n",
       "      <td>-0.206018</td>\n",
       "    </tr>\n",
       "    <tr>\n",
       "      <th>bedrooms</th>\n",
       "      <td>0.357839</td>\n",
       "      <td>0.109372</td>\n",
       "      <td>1.000000</td>\n",
       "      <td>0.368564</td>\n",
       "      <td>0.377708</td>\n",
       "      <td>0.159845</td>\n",
       "      <td>-0.035353</td>\n",
       "      <td>0.098983</td>\n",
       "      <td>0.119163</td>\n",
       "      <td>0.044958</td>\n",
       "      <td>0.160196</td>\n",
       "      <td>0.070757</td>\n",
       "      <td>-0.147853</td>\n",
       "    </tr>\n",
       "    <tr>\n",
       "      <th>bathrooms</th>\n",
       "      <td>0.494152</td>\n",
       "      <td>0.163872</td>\n",
       "      <td>0.368564</td>\n",
       "      <td>1.000000</td>\n",
       "      <td>0.315548</td>\n",
       "      <td>0.183729</td>\n",
       "      <td>0.045180</td>\n",
       "      <td>0.172443</td>\n",
       "      <td>0.117333</td>\n",
       "      <td>0.075682</td>\n",
       "      <td>0.204903</td>\n",
       "      <td>0.092871</td>\n",
       "      <td>-0.187763</td>\n",
       "    </tr>\n",
       "    <tr>\n",
       "      <th>stories</th>\n",
       "      <td>0.411376</td>\n",
       "      <td>0.085564</td>\n",
       "      <td>0.377708</td>\n",
       "      <td>0.315548</td>\n",
       "      <td>1.000000</td>\n",
       "      <td>0.026130</td>\n",
       "      <td>0.142825</td>\n",
       "      <td>0.061337</td>\n",
       "      <td>-0.180341</td>\n",
       "      <td>0.013982</td>\n",
       "      <td>0.322502</td>\n",
       "      <td>0.039715</td>\n",
       "      <td>-0.129017</td>\n",
       "    </tr>\n",
       "    <tr>\n",
       "      <th>parking</th>\n",
       "      <td>0.383448</td>\n",
       "      <td>0.403149</td>\n",
       "      <td>0.159845</td>\n",
       "      <td>0.183729</td>\n",
       "      <td>0.026130</td>\n",
       "      <td>1.000000</td>\n",
       "      <td>0.204709</td>\n",
       "      <td>0.051943</td>\n",
       "      <td>0.083347</td>\n",
       "      <td>0.081722</td>\n",
       "      <td>0.121414</td>\n",
       "      <td>0.082922</td>\n",
       "      <td>-0.138377</td>\n",
       "    </tr>\n",
       "    <tr>\n",
       "      <th>mainroad</th>\n",
       "      <td>0.283153</td>\n",
       "      <td>0.268774</td>\n",
       "      <td>-0.035353</td>\n",
       "      <td>0.045180</td>\n",
       "      <td>0.142825</td>\n",
       "      <td>0.204709</td>\n",
       "      <td>1.000000</td>\n",
       "      <td>0.060698</td>\n",
       "      <td>0.035158</td>\n",
       "      <td>-0.016026</td>\n",
       "      <td>0.083949</td>\n",
       "      <td>0.196197</td>\n",
       "      <td>-0.162132</td>\n",
       "    </tr>\n",
       "    <tr>\n",
       "      <th>guestroom</th>\n",
       "      <td>0.259940</td>\n",
       "      <td>0.122746</td>\n",
       "      <td>0.098983</td>\n",
       "      <td>0.172443</td>\n",
       "      <td>0.061337</td>\n",
       "      <td>0.051943</td>\n",
       "      <td>0.060698</td>\n",
       "      <td>1.000000</td>\n",
       "      <td>0.344509</td>\n",
       "      <td>-0.009304</td>\n",
       "      <td>0.157837</td>\n",
       "      <td>0.120601</td>\n",
       "      <td>-0.101711</td>\n",
       "    </tr>\n",
       "    <tr>\n",
       "      <th>basement</th>\n",
       "      <td>0.217708</td>\n",
       "      <td>0.067032</td>\n",
       "      <td>0.119163</td>\n",
       "      <td>0.117333</td>\n",
       "      <td>-0.180341</td>\n",
       "      <td>0.083347</td>\n",
       "      <td>0.035158</td>\n",
       "      <td>0.344509</td>\n",
       "      <td>1.000000</td>\n",
       "      <td>0.009494</td>\n",
       "      <td>0.064392</td>\n",
       "      <td>0.223982</td>\n",
       "      <td>-0.110226</td>\n",
       "    </tr>\n",
       "    <tr>\n",
       "      <th>hotwaterheating</th>\n",
       "      <td>0.097145</td>\n",
       "      <td>-0.005492</td>\n",
       "      <td>0.044958</td>\n",
       "      <td>0.075682</td>\n",
       "      <td>0.013982</td>\n",
       "      <td>0.081722</td>\n",
       "      <td>-0.016026</td>\n",
       "      <td>-0.009304</td>\n",
       "      <td>0.009494</td>\n",
       "      <td>1.000000</td>\n",
       "      <td>-0.145693</td>\n",
       "      <td>-0.059629</td>\n",
       "      <td>-0.037642</td>\n",
       "    </tr>\n",
       "    <tr>\n",
       "      <th>airconditioning</th>\n",
       "      <td>0.455360</td>\n",
       "      <td>0.230790</td>\n",
       "      <td>0.160196</td>\n",
       "      <td>0.204903</td>\n",
       "      <td>0.322502</td>\n",
       "      <td>0.121414</td>\n",
       "      <td>0.083949</td>\n",
       "      <td>0.157837</td>\n",
       "      <td>0.064392</td>\n",
       "      <td>-0.145693</td>\n",
       "      <td>1.000000</td>\n",
       "      <td>0.069574</td>\n",
       "      <td>-0.139294</td>\n",
       "    </tr>\n",
       "    <tr>\n",
       "      <th>prefarea</th>\n",
       "      <td>0.343280</td>\n",
       "      <td>0.275665</td>\n",
       "      <td>0.070757</td>\n",
       "      <td>0.092871</td>\n",
       "      <td>0.039715</td>\n",
       "      <td>0.082922</td>\n",
       "      <td>0.196197</td>\n",
       "      <td>0.120601</td>\n",
       "      <td>0.223982</td>\n",
       "      <td>-0.059629</td>\n",
       "      <td>0.069574</td>\n",
       "      <td>1.000000</td>\n",
       "      <td>-0.133385</td>\n",
       "    </tr>\n",
       "    <tr>\n",
       "      <th>furnishingstatus</th>\n",
       "      <td>-0.322464</td>\n",
       "      <td>-0.206018</td>\n",
       "      <td>-0.147853</td>\n",
       "      <td>-0.187763</td>\n",
       "      <td>-0.129017</td>\n",
       "      <td>-0.138377</td>\n",
       "      <td>-0.162132</td>\n",
       "      <td>-0.101711</td>\n",
       "      <td>-0.110226</td>\n",
       "      <td>-0.037642</td>\n",
       "      <td>-0.139294</td>\n",
       "      <td>-0.133385</td>\n",
       "      <td>1.000000</td>\n",
       "    </tr>\n",
       "  </tbody>\n",
       "</table>\n",
       "</div>"
      ],
      "text/plain": [
       "                     price      area  bedrooms  bathrooms   stories   parking  \\\n",
       "price             1.000000  0.530326  0.357839   0.494152  0.411376  0.383448   \n",
       "area              0.530326  1.000000  0.109372   0.163872  0.085564  0.403149   \n",
       "bedrooms          0.357839  0.109372  1.000000   0.368564  0.377708  0.159845   \n",
       "bathrooms         0.494152  0.163872  0.368564   1.000000  0.315548  0.183729   \n",
       "stories           0.411376  0.085564  0.377708   0.315548  1.000000  0.026130   \n",
       "parking           0.383448  0.403149  0.159845   0.183729  0.026130  1.000000   \n",
       "mainroad          0.283153  0.268774 -0.035353   0.045180  0.142825  0.204709   \n",
       "guestroom         0.259940  0.122746  0.098983   0.172443  0.061337  0.051943   \n",
       "basement          0.217708  0.067032  0.119163   0.117333 -0.180341  0.083347   \n",
       "hotwaterheating   0.097145 -0.005492  0.044958   0.075682  0.013982  0.081722   \n",
       "airconditioning   0.455360  0.230790  0.160196   0.204903  0.322502  0.121414   \n",
       "prefarea          0.343280  0.275665  0.070757   0.092871  0.039715  0.082922   \n",
       "furnishingstatus -0.322464 -0.206018 -0.147853  -0.187763 -0.129017 -0.138377   \n",
       "\n",
       "                  mainroad  guestroom  basement  hotwaterheating  \\\n",
       "price             0.283153   0.259940  0.217708         0.097145   \n",
       "area              0.268774   0.122746  0.067032        -0.005492   \n",
       "bedrooms         -0.035353   0.098983  0.119163         0.044958   \n",
       "bathrooms         0.045180   0.172443  0.117333         0.075682   \n",
       "stories           0.142825   0.061337 -0.180341         0.013982   \n",
       "parking           0.204709   0.051943  0.083347         0.081722   \n",
       "mainroad          1.000000   0.060698  0.035158        -0.016026   \n",
       "guestroom         0.060698   1.000000  0.344509        -0.009304   \n",
       "basement          0.035158   0.344509  1.000000         0.009494   \n",
       "hotwaterheating  -0.016026  -0.009304  0.009494         1.000000   \n",
       "airconditioning   0.083949   0.157837  0.064392        -0.145693   \n",
       "prefarea          0.196197   0.120601  0.223982        -0.059629   \n",
       "furnishingstatus -0.162132  -0.101711 -0.110226        -0.037642   \n",
       "\n",
       "                  airconditioning  prefarea  furnishingstatus  \n",
       "price                    0.455360  0.343280         -0.322464  \n",
       "area                     0.230790  0.275665         -0.206018  \n",
       "bedrooms                 0.160196  0.070757         -0.147853  \n",
       "bathrooms                0.204903  0.092871         -0.187763  \n",
       "stories                  0.322502  0.039715         -0.129017  \n",
       "parking                  0.121414  0.082922         -0.138377  \n",
       "mainroad                 0.083949  0.196197         -0.162132  \n",
       "guestroom                0.157837  0.120601         -0.101711  \n",
       "basement                 0.064392  0.223982         -0.110226  \n",
       "hotwaterheating         -0.145693 -0.059629         -0.037642  \n",
       "airconditioning          1.000000  0.069574         -0.139294  \n",
       "prefarea                 0.069574  1.000000         -0.133385  \n",
       "furnishingstatus        -0.139294 -0.133385          1.000000  "
      ]
     },
     "execution_count": 20,
     "metadata": {},
     "output_type": "execute_result"
    }
   ],
   "source": [
    "df_train_updated.corr()"
   ]
  },
  {
   "cell_type": "code",
   "execution_count": 21,
   "id": "96921e04",
   "metadata": {
    "execution": {
     "iopub.execute_input": "2024-03-04T12:24:23.809559Z",
     "iopub.status.busy": "2024-03-04T12:24:23.808329Z",
     "iopub.status.idle": "2024-03-04T12:24:24.175700Z",
     "shell.execute_reply": "2024-03-04T12:24:24.174575Z"
    },
    "papermill": {
     "duration": 0.387679,
     "end_time": "2024-03-04T12:24:24.178056",
     "exception": false,
     "start_time": "2024-03-04T12:24:23.790377",
     "status": "completed"
    },
    "tags": []
   },
   "outputs": [
    {
     "data": {
      "text/plain": [
       "<Axes: >"
      ]
     },
     "execution_count": 21,
     "metadata": {},
     "output_type": "execute_result"
    },
    {
     "data": {
      "image/png": "[encoded data removed]",
      "text/plain": [
       "<Figure size 640x480 with 1 Axes>"
      ]
     },
     "metadata": {},
     "output_type": "display_data"
    }
   ],
   "source": [
    "# corr Analysis to know the relationship of the unsupervised variables to price.\n",
    "\n",
    "df_train_updated.corr().head(1).plot(kind='barh', grid=True)"
   ]
  },
  {
   "cell_type": "code",
   "execution_count": 22,
   "id": "193c5e65",
   "metadata": {
    "execution": {
     "iopub.execute_input": "2024-03-04T12:24:24.212349Z",
     "iopub.status.busy": "2024-03-04T12:24:24.211971Z",
     "iopub.status.idle": "2024-03-04T12:24:24.217836Z",
     "shell.execute_reply": "2024-03-04T12:24:24.216827Z"
    },
    "papermill": {
     "duration": 0.025444,
     "end_time": "2024-03-04T12:24:24.219864",
     "exception": false,
     "start_time": "2024-03-04T12:24:24.194420",
     "status": "completed"
    },
    "tags": []
   },
   "outputs": [],
   "source": [
    "y = df_train_updated.pop('price')\n",
    "X = df_train_updated\n",
    "\n",
    "test_y = df_test_updated.pop('price')\n",
    "test_X = df_test_updated"
   ]
  },
  {
   "cell_type": "code",
   "execution_count": 23,
   "id": "134893be",
   "metadata": {
    "execution": {
     "iopub.execute_input": "2024-03-04T12:24:24.254955Z",
     "iopub.status.busy": "2024-03-04T12:24:24.253872Z",
     "iopub.status.idle": "2024-03-04T12:24:24.855135Z",
     "shell.execute_reply": "2024-03-04T12:24:24.854108Z"
    },
    "papermill": {
     "duration": 0.621182,
     "end_time": "2024-03-04T12:24:24.857501",
     "exception": false,
     "start_time": "2024-03-04T12:24:24.236319",
     "status": "completed"
    },
    "tags": []
   },
   "outputs": [],
   "source": [
    "from sklearn.ensemble import RandomForestRegressor\n",
    "model = RandomForestRegressor(random_state=10)\n",
    "model.fit(X, y)\n",
    "predictions = model.predict(test_X)"
   ]
  },
  {
   "cell_type": "code",
   "execution_count": 24,
   "id": "157013d2",
   "metadata": {
    "execution": {
     "iopub.execute_input": "2024-03-04T12:24:24.892663Z",
     "iopub.status.busy": "2024-03-04T12:24:24.892320Z",
     "iopub.status.idle": "2024-03-04T12:24:24.902975Z",
     "shell.execute_reply": "2024-03-04T12:24:24.901734Z"
    },
    "papermill": {
     "duration": 0.031039,
     "end_time": "2024-03-04T12:24:24.905239",
     "exception": false,
     "start_time": "2024-03-04T12:24:24.874200",
     "status": "completed"
    },
    "tags": []
   },
   "outputs": [
    {
     "data": {
      "text/html": [
       "<div>\n",
       "<style scoped>\n",
       "    .dataframe tbody tr th:only-of-type {\n",
       "        vertical-align: middle;\n",
       "    }\n",
       "\n",
       "    .dataframe tbody tr th {\n",
       "        vertical-align: top;\n",
       "    }\n",
       "\n",
       "    .dataframe thead th {\n",
       "        text-align: right;\n",
       "    }\n",
       "</style>\n",
       "<table border=\"1\" class=\"dataframe\">\n",
       "  <thead>\n",
       "    <tr style=\"text-align: right;\">\n",
       "      <th></th>\n",
       "      <th>Prices</th>\n",
       "    </tr>\n",
       "  </thead>\n",
       "  <tbody>\n",
       "    <tr>\n",
       "      <th>482</th>\n",
       "      <td>2711730.0</td>\n",
       "    </tr>\n",
       "    <tr>\n",
       "      <th>314</th>\n",
       "      <td>3906350.0</td>\n",
       "    </tr>\n",
       "    <tr>\n",
       "      <th>383</th>\n",
       "      <td>5321470.0</td>\n",
       "    </tr>\n",
       "    <tr>\n",
       "      <th>487</th>\n",
       "      <td>3253355.0</td>\n",
       "    </tr>\n",
       "    <tr>\n",
       "      <th>43</th>\n",
       "      <td>6976142.6</td>\n",
       "    </tr>\n",
       "  </tbody>\n",
       "</table>\n",
       "</div>"
      ],
      "text/plain": [
       "        Prices\n",
       "482  2711730.0\n",
       "314  3906350.0\n",
       "383  5321470.0\n",
       "487  3253355.0\n",
       "43   6976142.6"
      ]
     },
     "execution_count": 24,
     "metadata": {},
     "output_type": "execute_result"
    }
   ],
   "source": [
    "result = pd.DataFrame({'Prices': predictions})\n",
    "result.index = df_test.index\n",
    "result.head()"
   ]
  },
  {
   "cell_type": "markdown",
   "id": "84b76d56",
   "metadata": {
    "papermill": {
     "duration": 0.016185,
     "end_time": "2024-03-04T12:24:24.938021",
     "exception": false,
     "start_time": "2024-03-04T12:24:24.921836",
     "status": "completed"
    },
    "tags": []
   },
   "source": [
    "# **Model Evaluation**"
   ]
  },
  {
   "cell_type": "code",
   "execution_count": 25,
   "id": "28c56df6",
   "metadata": {
    "execution": {
     "iopub.execute_input": "2024-03-04T12:24:24.973693Z",
     "iopub.status.busy": "2024-03-04T12:24:24.973343Z",
     "iopub.status.idle": "2024-03-04T12:24:24.980708Z",
     "shell.execute_reply": "2024-03-04T12:24:24.979676Z"
    },
    "papermill": {
     "duration": 0.027447,
     "end_time": "2024-03-04T12:24:24.982727",
     "exception": false,
     "start_time": "2024-03-04T12:24:24.955280",
     "status": "completed"
    },
    "tags": []
   },
   "outputs": [
    {
     "data": {
      "text/plain": [
       "748.3603712538227"
      ]
     },
     "execution_count": 25,
     "metadata": {},
     "output_type": "execute_result"
    }
   ],
   "source": [
    "from sklearn.metrics import mean_absolute_error as mae\n",
    "\n",
    "# Mean Absolute error for test data which is also external data\n",
    "mae_score = mae(test_y, predictions) / 1000\n",
    "mae_score"
   ]
  },
  {
   "cell_type": "code",
   "execution_count": 26,
   "id": "ca64a1e3",
   "metadata": {
    "execution": {
     "iopub.execute_input": "2024-03-04T12:24:25.018719Z",
     "iopub.status.busy": "2024-03-04T12:24:25.017693Z",
     "iopub.status.idle": "2024-03-04T12:24:25.266824Z",
     "shell.execute_reply": "2024-03-04T12:24:25.265701Z"
    },
    "papermill": {
     "duration": 0.26979,
     "end_time": "2024-03-04T12:24:25.269194",
     "exception": false,
     "start_time": "2024-03-04T12:24:24.999404",
     "status": "completed"
    },
    "tags": []
   },
   "outputs": [
    {
     "data": {
      "text/plain": [
       "322.61319036697245"
      ]
     },
     "execution_count": 26,
     "metadata": {},
     "output_type": "execute_result"
    }
   ],
   "source": [
    "# Mean Absolute error for train data which is also same data with the training data.\n",
    "model1 = model\n",
    "model1.fit(X, y)\n",
    "model1_predictions = model1.predict(X)\n",
    "\n",
    "mae_score1 = mae(y, model1_predictions) / 1000\n",
    "mae_score1"
   ]
  },
  {
   "cell_type": "markdown",
   "id": "cbb9ea55",
   "metadata": {
    "papermill": {
     "duration": 0.01691,
     "end_time": "2024-03-04T12:24:25.303400",
     "exception": false,
     "start_time": "2024-03-04T12:24:25.286490",
     "status": "completed"
    },
    "tags": []
   },
   "source": [
    "**Data validation**"
   ]
  },
  {
   "cell_type": "code",
   "execution_count": 27,
   "id": "393865b5",
   "metadata": {
    "execution": {
     "iopub.execute_input": "2024-03-04T12:24:25.339438Z",
     "iopub.status.busy": "2024-03-04T12:24:25.339059Z",
     "iopub.status.idle": "2024-03-04T12:24:25.346468Z",
     "shell.execute_reply": "2024-03-04T12:24:25.345432Z"
    },
    "papermill": {
     "duration": 0.027736,
     "end_time": "2024-03-04T12:24:25.348446",
     "exception": false,
     "start_time": "2024-03-04T12:24:25.320710",
     "status": "completed"
    },
    "tags": []
   },
   "outputs": [],
   "source": [
    "val_data = df_train.copy()\n",
    "\n",
    "yv = val_data.pop('price')\n",
    "Xv = val_data\n",
    "\n",
    "train_X, val_X, train_y, val_y = train_test_split(Xv, yv,train_size=0.8, random_state=10)"
   ]
  },
  {
   "cell_type": "code",
   "execution_count": 28,
   "id": "a918ed3e",
   "metadata": {
    "execution": {
     "iopub.execute_input": "2024-03-04T12:24:25.385046Z",
     "iopub.status.busy": "2024-03-04T12:24:25.384606Z",
     "iopub.status.idle": "2024-03-04T12:24:25.400142Z",
     "shell.execute_reply": "2024-03-04T12:24:25.399106Z"
    },
    "papermill": {
     "duration": 0.036869,
     "end_time": "2024-03-04T12:24:25.402339",
     "exception": false,
     "start_time": "2024-03-04T12:24:25.365470",
     "status": "completed"
    },
    "tags": []
   },
   "outputs": [],
   "source": [
    "oe_v = OrdinalEncoder()\n",
    "train_X_result = pd.DataFrame(oe_v.fit_transform(train_X[cat_col])).astype(int)\n",
    "val_X_result = pd.DataFrame(oe_v.transform(val_X[cat_col])).astype(int)\n",
    "\n",
    "train_X_result.columns = cat_col\n",
    "val_X_result.columns = cat_col\n",
    "\n",
    "\n",
    "train_X_result.index = train_X.index\n",
    "val_X_result.index = val_X.index"
   ]
  },
  {
   "cell_type": "code",
   "execution_count": 29,
   "id": "2beabf54",
   "metadata": {
    "execution": {
     "iopub.execute_input": "2024-03-04T12:24:25.439039Z",
     "iopub.status.busy": "2024-03-04T12:24:25.438630Z",
     "iopub.status.idle": "2024-03-04T12:24:25.450617Z",
     "shell.execute_reply": "2024-03-04T12:24:25.449610Z"
    },
    "papermill": {
     "duration": 0.033549,
     "end_time": "2024-03-04T12:24:25.452990",
     "exception": false,
     "start_time": "2024-03-04T12:24:25.419441",
     "status": "completed"
    },
    "tags": []
   },
   "outputs": [
    {
     "data": {
      "text/html": [
       "<div>\n",
       "<style scoped>\n",
       "    .dataframe tbody tr th:only-of-type {\n",
       "        vertical-align: middle;\n",
       "    }\n",
       "\n",
       "    .dataframe tbody tr th {\n",
       "        vertical-align: top;\n",
       "    }\n",
       "\n",
       "    .dataframe thead th {\n",
       "        text-align: right;\n",
       "    }\n",
       "</style>\n",
       "<table border=\"1\" class=\"dataframe\">\n",
       "  <thead>\n",
       "    <tr style=\"text-align: right;\">\n",
       "      <th></th>\n",
       "      <th>mainroad</th>\n",
       "      <th>guestroom</th>\n",
       "      <th>basement</th>\n",
       "      <th>hotwaterheating</th>\n",
       "      <th>airconditioning</th>\n",
       "      <th>prefarea</th>\n",
       "      <th>furnishingstatus</th>\n",
       "    </tr>\n",
       "  </thead>\n",
       "  <tbody>\n",
       "    <tr>\n",
       "      <th>35</th>\n",
       "      <td>1</td>\n",
       "      <td>0</td>\n",
       "      <td>0</td>\n",
       "      <td>0</td>\n",
       "      <td>1</td>\n",
       "      <td>0</td>\n",
       "      <td>0</td>\n",
       "    </tr>\n",
       "    <tr>\n",
       "      <th>443</th>\n",
       "      <td>0</td>\n",
       "      <td>0</td>\n",
       "      <td>0</td>\n",
       "      <td>0</td>\n",
       "      <td>0</td>\n",
       "      <td>0</td>\n",
       "      <td>2</td>\n",
       "    </tr>\n",
       "    <tr>\n",
       "      <th>454</th>\n",
       "      <td>1</td>\n",
       "      <td>0</td>\n",
       "      <td>0</td>\n",
       "      <td>0</td>\n",
       "      <td>1</td>\n",
       "      <td>0</td>\n",
       "      <td>2</td>\n",
       "    </tr>\n",
       "    <tr>\n",
       "      <th>332</th>\n",
       "      <td>1</td>\n",
       "      <td>1</td>\n",
       "      <td>1</td>\n",
       "      <td>0</td>\n",
       "      <td>0</td>\n",
       "      <td>0</td>\n",
       "      <td>1</td>\n",
       "    </tr>\n",
       "    <tr>\n",
       "      <th>351</th>\n",
       "      <td>1</td>\n",
       "      <td>0</td>\n",
       "      <td>0</td>\n",
       "      <td>0</td>\n",
       "      <td>0</td>\n",
       "      <td>0</td>\n",
       "      <td>1</td>\n",
       "    </tr>\n",
       "  </tbody>\n",
       "</table>\n",
       "</div>"
      ],
      "text/plain": [
       "     mainroad  guestroom  basement  hotwaterheating  airconditioning  \\\n",
       "35          1          0         0                0                1   \n",
       "443         0          0         0                0                0   \n",
       "454         1          0         0                0                1   \n",
       "332         1          1         1                0                0   \n",
       "351         1          0         0                0                0   \n",
       "\n",
       "     prefarea  furnishingstatus  \n",
       "35          0                 0  \n",
       "443         0                 2  \n",
       "454         0                 2  \n",
       "332         0                 1  \n",
       "351         0                 1  "
      ]
     },
     "execution_count": 29,
     "metadata": {},
     "output_type": "execute_result"
    }
   ],
   "source": [
    "train_X_result.sample(5)"
   ]
  },
  {
   "cell_type": "code",
   "execution_count": 30,
   "id": "dc71c57a",
   "metadata": {
    "execution": {
     "iopub.execute_input": "2024-03-04T12:24:25.489562Z",
     "iopub.status.busy": "2024-03-04T12:24:25.489186Z",
     "iopub.status.idle": "2024-03-04T12:24:25.500488Z",
     "shell.execute_reply": "2024-03-04T12:24:25.499510Z"
    },
    "papermill": {
     "duration": 0.03225,
     "end_time": "2024-03-04T12:24:25.502733",
     "exception": false,
     "start_time": "2024-03-04T12:24:25.470483",
     "status": "completed"
    },
    "tags": []
   },
   "outputs": [
    {
     "data": {
      "text/html": [
       "<div>\n",
       "<style scoped>\n",
       "    .dataframe tbody tr th:only-of-type {\n",
       "        vertical-align: middle;\n",
       "    }\n",
       "\n",
       "    .dataframe tbody tr th {\n",
       "        vertical-align: top;\n",
       "    }\n",
       "\n",
       "    .dataframe thead th {\n",
       "        text-align: right;\n",
       "    }\n",
       "</style>\n",
       "<table border=\"1\" class=\"dataframe\">\n",
       "  <thead>\n",
       "    <tr style=\"text-align: right;\">\n",
       "      <th></th>\n",
       "      <th>mainroad</th>\n",
       "      <th>guestroom</th>\n",
       "      <th>basement</th>\n",
       "      <th>hotwaterheating</th>\n",
       "      <th>airconditioning</th>\n",
       "      <th>prefarea</th>\n",
       "      <th>furnishingstatus</th>\n",
       "    </tr>\n",
       "  </thead>\n",
       "  <tbody>\n",
       "    <tr>\n",
       "      <th>277</th>\n",
       "      <td>1</td>\n",
       "      <td>0</td>\n",
       "      <td>0</td>\n",
       "      <td>0</td>\n",
       "      <td>0</td>\n",
       "      <td>1</td>\n",
       "      <td>1</td>\n",
       "    </tr>\n",
       "    <tr>\n",
       "      <th>106</th>\n",
       "      <td>1</td>\n",
       "      <td>0</td>\n",
       "      <td>1</td>\n",
       "      <td>0</td>\n",
       "      <td>1</td>\n",
       "      <td>1</td>\n",
       "      <td>1</td>\n",
       "    </tr>\n",
       "    <tr>\n",
       "      <th>324</th>\n",
       "      <td>0</td>\n",
       "      <td>0</td>\n",
       "      <td>1</td>\n",
       "      <td>0</td>\n",
       "      <td>1</td>\n",
       "      <td>0</td>\n",
       "      <td>1</td>\n",
       "    </tr>\n",
       "    <tr>\n",
       "      <th>232</th>\n",
       "      <td>1</td>\n",
       "      <td>0</td>\n",
       "      <td>1</td>\n",
       "      <td>0</td>\n",
       "      <td>0</td>\n",
       "      <td>0</td>\n",
       "      <td>0</td>\n",
       "    </tr>\n",
       "    <tr>\n",
       "      <th>486</th>\n",
       "      <td>1</td>\n",
       "      <td>0</td>\n",
       "      <td>0</td>\n",
       "      <td>0</td>\n",
       "      <td>0</td>\n",
       "      <td>0</td>\n",
       "      <td>1</td>\n",
       "    </tr>\n",
       "  </tbody>\n",
       "</table>\n",
       "</div>"
      ],
      "text/plain": [
       "     mainroad  guestroom  basement  hotwaterheating  airconditioning  \\\n",
       "277         1          0         0                0                0   \n",
       "106         1          0         1                0                1   \n",
       "324         0          0         1                0                1   \n",
       "232         1          0         1                0                0   \n",
       "486         1          0         0                0                0   \n",
       "\n",
       "     prefarea  furnishingstatus  \n",
       "277         1                 1  \n",
       "106         1                 1  \n",
       "324         0                 1  \n",
       "232         0                 0  \n",
       "486         0                 1  "
      ]
     },
     "execution_count": 30,
     "metadata": {},
     "output_type": "execute_result"
    }
   ],
   "source": [
    "val_X_result.sample(5)"
   ]
  },
  {
   "cell_type": "code",
   "execution_count": 31,
   "id": "28ff2103",
   "metadata": {
    "execution": {
     "iopub.execute_input": "2024-03-04T12:24:25.539742Z",
     "iopub.status.busy": "2024-03-04T12:24:25.539346Z",
     "iopub.status.idle": "2024-03-04T12:24:25.548282Z",
     "shell.execute_reply": "2024-03-04T12:24:25.547125Z"
    },
    "papermill": {
     "duration": 0.030251,
     "end_time": "2024-03-04T12:24:25.550455",
     "exception": false,
     "start_time": "2024-03-04T12:24:25.520204",
     "status": "completed"
    },
    "tags": []
   },
   "outputs": [],
   "source": [
    "train_X_updated = pd.concat([train_X[num_col[1:]], train_X_result], axis=1)\n",
    "val_X_updated = pd.concat([val_X[num_col[1:]], val_X_result], axis=1)"
   ]
  },
  {
   "cell_type": "code",
   "execution_count": 32,
   "id": "eb74b102",
   "metadata": {
    "execution": {
     "iopub.execute_input": "2024-03-04T12:24:25.588695Z",
     "iopub.status.busy": "2024-03-04T12:24:25.588293Z",
     "iopub.status.idle": "2024-03-04T12:24:25.593872Z",
     "shell.execute_reply": "2024-03-04T12:24:25.592787Z"
    },
    "papermill": {
     "duration": 0.027602,
     "end_time": "2024-03-04T12:24:25.596030",
     "exception": false,
     "start_time": "2024-03-04T12:24:25.568428",
     "status": "completed"
    },
    "tags": []
   },
   "outputs": [],
   "source": [
    "def get_scores(n_estimators, X, y, v_X, v_y):\n",
    "    \n",
    "    val_model = RandomForestRegressor(n_estimators=n_estimators, random_state=10)\n",
    "\n",
    "    val_model.fit(X, y)\n",
    "    val_model_predictions = val_model.predict(v_X)\n",
    "\n",
    "    mae_score = mae(v_y, val_model_predictions) / 1000\n",
    "    return mae_score"
   ]
  },
  {
   "cell_type": "code",
   "execution_count": 33,
   "id": "974b5bda",
   "metadata": {
    "execution": {
     "iopub.execute_input": "2024-03-04T12:24:25.634473Z",
     "iopub.status.busy": "2024-03-04T12:24:25.634054Z",
     "iopub.status.idle": "2024-03-04T12:24:47.145478Z",
     "shell.execute_reply": "2024-03-04T12:24:47.144417Z"
    },
    "papermill": {
     "duration": 21.534496,
     "end_time": "2024-03-04T12:24:47.148082",
     "exception": false,
     "start_time": "2024-03-04T12:24:25.613586",
     "status": "completed"
    },
    "tags": []
   },
   "outputs": [],
   "source": [
    " estimators_scores = {n_estimators: get_scores(n_estimators, train_X_updated,train_y, val_X_updated, val_y) for n_estimators in np.arange(50, 1001, 50)}"
   ]
  },
  {
   "cell_type": "code",
   "execution_count": 34,
   "id": "e1ff66a1",
   "metadata": {
    "execution": {
     "iopub.execute_input": "2024-03-04T12:24:47.184306Z",
     "iopub.status.busy": "2024-03-04T12:24:47.183930Z",
     "iopub.status.idle": "2024-03-04T12:24:47.190763Z",
     "shell.execute_reply": "2024-03-04T12:24:47.189434Z"
    },
    "papermill": {
     "duration": 0.027466,
     "end_time": "2024-03-04T12:24:47.192760",
     "exception": false,
     "start_time": "2024-03-04T12:24:47.165294",
     "status": "completed"
    },
    "tags": []
   },
   "outputs": [],
   "source": [
    "estimators_scores_df = pd.DataFrame({'n_estimators':estimators_scores.keys(), 'scores':estimators_scores.values()}, index=np.arange(0, len(estimators_scores)))\n",
    "estimators_scores_df.scores = round(estimators_scores_df.scores, 2).astype(float)"
   ]
  },
  {
   "cell_type": "code",
   "execution_count": 35,
   "id": "ee9720d9",
   "metadata": {
    "execution": {
     "iopub.execute_input": "2024-03-04T12:24:47.228844Z",
     "iopub.status.busy": "2024-03-04T12:24:47.228492Z",
     "iopub.status.idle": "2024-03-04T12:24:47.479801Z",
     "shell.execute_reply": "2024-03-04T12:24:47.478769Z"
    },
    "papermill": {
     "duration": 0.272291,
     "end_time": "2024-03-04T12:24:47.482388",
     "exception": false,
     "start_time": "2024-03-04T12:24:47.210097",
     "status": "completed"
    },
    "tags": []
   },
   "outputs": [
    {
     "data": {
      "text/plain": [
       "[<matplotlib.lines.Line2D at 0x7ac6906c6080>]"
      ]
     },
     "execution_count": 35,
     "metadata": {},
     "output_type": "execute_result"
    },
    {
     "data": {
      "image/png": "[encoded data removed]",
      "text/plain": [
       "<Figure size 640x480 with 1 Axes>"
      ]
     },
     "metadata": {},
     "output_type": "display_data"
    }
   ],
   "source": [
    "plt.title('A plot to show mean_absolute_error for the n_estimators of RandomForest_regressor', fontsize=14)\n",
    "plt.grid(linestyle='--')\n",
    "plt.ylabel('mean_absolute_error scores')\n",
    "plt.xlabel('Numbers for n_estimators')\n",
    "plt.plot(estimators_scores_df.n_estimators, estimators_scores_df.scores, marker='o', color='green')"
   ]
  },
  {
   "cell_type": "markdown",
   "id": "bf224afe",
   "metadata": {
    "papermill": {
     "duration": 0.01782,
     "end_time": "2024-03-04T12:24:47.518532",
     "exception": false,
     "start_time": "2024-03-04T12:24:47.500712",
     "status": "completed"
    },
    "tags": []
   },
   "source": [
    "# **FINAL PREDICTION**"
   ]
  },
  {
   "cell_type": "code",
   "execution_count": 36,
   "id": "ac22610a",
   "metadata": {
    "execution": {
     "iopub.execute_input": "2024-03-04T12:24:47.556513Z",
     "iopub.status.busy": "2024-03-04T12:24:47.556160Z",
     "iopub.status.idle": "2024-03-04T12:24:48.241709Z",
     "shell.execute_reply": "2024-03-04T12:24:48.240734Z"
    },
    "papermill": {
     "duration": 0.707673,
     "end_time": "2024-03-04T12:24:48.244277",
     "exception": false,
     "start_time": "2024-03-04T12:24:47.536604",
     "status": "completed"
    },
    "tags": []
   },
   "outputs": [],
   "source": [
    "# implementation of the n_estimator with the minimum value of mae\n",
    "\n",
    "final_model = RandomForestRegressor(n_estimators=300, random_state=10)\n",
    "final_model.fit(X, y)\n",
    "final_predictions = final_model.predict(test_X)"
   ]
  },
  {
   "cell_type": "code",
   "execution_count": 37,
   "id": "59f846ff",
   "metadata": {
    "execution": {
     "iopub.execute_input": "2024-03-04T12:24:48.283236Z",
     "iopub.status.busy": "2024-03-04T12:24:48.282564Z",
     "iopub.status.idle": "2024-03-04T12:24:48.292133Z",
     "shell.execute_reply": "2024-03-04T12:24:48.291413Z"
    },
    "papermill": {
     "duration": 0.030749,
     "end_time": "2024-03-04T12:24:48.293953",
     "exception": false,
     "start_time": "2024-03-04T12:24:48.263204",
     "status": "completed"
    },
    "tags": []
   },
   "outputs": [
    {
     "data": {
      "text/html": [
       "<div>\n",
       "<style scoped>\n",
       "    .dataframe tbody tr th:only-of-type {\n",
       "        vertical-align: middle;\n",
       "    }\n",
       "\n",
       "    .dataframe tbody tr th {\n",
       "        vertical-align: top;\n",
       "    }\n",
       "\n",
       "    .dataframe thead th {\n",
       "        text-align: right;\n",
       "    }\n",
       "</style>\n",
       "<table border=\"1\" class=\"dataframe\">\n",
       "  <thead>\n",
       "    <tr style=\"text-align: right;\">\n",
       "      <th></th>\n",
       "      <th>Prices</th>\n",
       "    </tr>\n",
       "  </thead>\n",
       "  <tbody>\n",
       "    <tr>\n",
       "      <th>482</th>\n",
       "      <td>2.811521e+06</td>\n",
       "    </tr>\n",
       "    <tr>\n",
       "      <th>314</th>\n",
       "      <td>3.906350e+06</td>\n",
       "    </tr>\n",
       "    <tr>\n",
       "      <th>383</th>\n",
       "      <td>5.424067e+06</td>\n",
       "    </tr>\n",
       "    <tr>\n",
       "      <th>487</th>\n",
       "      <td>3.321628e+06</td>\n",
       "    </tr>\n",
       "    <tr>\n",
       "      <th>43</th>\n",
       "      <td>7.010812e+06</td>\n",
       "    </tr>\n",
       "  </tbody>\n",
       "</table>\n",
       "</div>"
      ],
      "text/plain": [
       "           Prices\n",
       "482  2.811521e+06\n",
       "314  3.906350e+06\n",
       "383  5.424067e+06\n",
       "487  3.321628e+06\n",
       "43   7.010812e+06"
      ]
     },
     "execution_count": 37,
     "metadata": {},
     "output_type": "execute_result"
    }
   ],
   "source": [
    "final_result = pd.DataFrame({'Prices': final_predictions})\n",
    "final_result.index = df_test.index\n",
    "final_result.head()"
   ]
  },
  {
   "cell_type": "code",
   "execution_count": 38,
   "id": "4a0ca422",
   "metadata": {
    "execution": {
     "iopub.execute_input": "2024-03-04T12:24:48.332781Z",
     "iopub.status.busy": "2024-03-04T12:24:48.331690Z",
     "iopub.status.idle": "2024-03-04T12:24:48.335632Z",
     "shell.execute_reply": "2024-03-04T12:24:48.334936Z"
    },
    "papermill": {
     "duration": 0.025108,
     "end_time": "2024-03-04T12:24:48.337446",
     "exception": false,
     "start_time": "2024-03-04T12:24:48.312338",
     "status": "completed"
    },
    "tags": []
   },
   "outputs": [],
   "source": [
    "# from sklearn.preprocessing import StandardScaler\n",
    "\n",
    "# scaler = StandardScaler()\n",
    "# scaled = scaler.fit_transform(house_data)\n",
    "# scaled"
   ]
  },
  {
   "cell_type": "code",
   "execution_count": null,
   "id": "2ed91018",
   "metadata": {
    "papermill": {
     "duration": 0.018051,
     "end_time": "2024-03-04T12:24:48.374033",
     "exception": false,
     "start_time": "2024-03-04T12:24:48.355982",
     "status": "completed"
    },
    "tags": []
   },
   "outputs": [],
   "source": []
  },
  {
   "cell_type": "code",
   "execution_count": null,
   "id": "2911808a",
   "metadata": {
    "papermill": {
     "duration": 0.018035,
     "end_time": "2024-03-04T12:24:48.410299",
     "exception": false,
     "start_time": "2024-03-04T12:24:48.392264",
     "status": "completed"
    },
    "tags": []
   },
   "outputs": [],
   "source": []
  }
 ],
 "metadata": {
  "kaggle": {
   "accelerator": "none",
   "dataSources": [
    {
     "datasetId": 133734,
     "sourceId": 317933,
     "sourceType": "datasetVersion"
    }
   ],
   "dockerImageVersionId": 30664,
   "isGpuEnabled": false,
   "isInternetEnabled": true,
   "language": "python",
   "sourceType": "notebook"
  },
  "kernelspec": {
   "display_name": "Python 3",
   "language": "python",
   "name": "python3"
  },
  "language_info": {
   "codemirror_mode": {
    "name": "ipython",
    "version": 3
   },
   "file_extension": ".py",
   "mimetype": "text/x-python",
   "name": "python",
   "nbconvert_exporter": "python",
   "pygments_lexer": "ipython3",
   "version": "3.10.13"
  },
  "papermill": {
   "default_parameters": {},
   "duration": 42.30149,
   "end_time": "2024-03-04T12:24:49.149519",
   "environment_variables": {},
   "exception": null,
   "input_path": "__notebook__.ipynb",
   "output_path": "__notebook__.ipynb",
   "parameters": {},
   "start_time": "2024-03-04T12:24:06.848029",
   "version": "2.5.0"
  }
 },
 "nbformat": 4,
 "nbformat_minor": 5
}
